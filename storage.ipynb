{
 "cells": [
  {
   "cell_type": "code",
   "id": "initial_id",
   "metadata": {
    "collapsed": true,
    "ExecuteTime": {
     "end_time": "2024-11-27T12:12:50.130059Z",
     "start_time": "2024-11-27T12:12:50.065503Z"
    }
   },
   "source": [
    "import requests\n",
    "import json"
   ],
   "outputs": [],
   "execution_count": 1
  },
  {
   "metadata": {
    "ExecuteTime": {
     "end_time": "2024-11-27T12:12:51.083382Z",
     "start_time": "2024-11-27T12:12:51.068884Z"
    }
   },
   "cell_type": "code",
   "source": "BASE_URL = \"http://localhost:8040\"",
   "id": "93380800cecde2f5",
   "outputs": [],
   "execution_count": 2
  },
  {
   "metadata": {
    "ExecuteTime": {
     "end_time": "2024-11-27T12:13:18.496181Z",
     "start_time": "2024-11-27T12:13:18.426784Z"
    }
   },
   "cell_type": "code",
   "source": [
    "url = f\"{BASE_URL}/storages\"\n",
    "data = {\n",
    "    \"name\": \"Test Storage\",\n",
    "    \"description\": \"This is a test storage\"\n",
    "}\n",
    "response = requests.post(url, json=data)\n",
    "print(\"Request:\", url)\n",
    "print(\"Response:\", json.dumps(response.json(), indent=2))\n",
    "print()"
   ],
   "id": "f67259a7ea99c213",
   "outputs": [
    {
     "name": "stdout",
     "output_type": "stream",
     "text": [
      "Request: http://localhost:8040/storages\n",
      "Response: {\n",
      "  \"status\": \"success\",\n",
      "  \"data\": {\n",
      "    \"id\": 4,\n",
      "    \"name\": \"Test Storage\",\n",
      "    \"description\": \"This is a test storage\",\n",
      "    \"nickname\": \"teststorage-ncn4zx\",\n",
      "    \"created_at\": \"2024-11-27T12:13:18.457707+00:00\",\n",
      "    \"updated_at\": \"2024-11-27T12:13:18.457707+00:00\"\n",
      "  }\n",
      "}\n",
      "\n"
     ]
    }
   ],
   "execution_count": 4
  },
  {
   "metadata": {
    "ExecuteTime": {
     "end_time": "2024-11-27T12:13:23.352754Z",
     "start_time": "2024-11-27T12:13:23.335130Z"
    }
   },
   "cell_type": "code",
   "source": "response.text",
   "id": "80cf551915be8922",
   "outputs": [
    {
     "data": {
      "text/plain": [
       "'{\"status\":\"success\",\"data\":{\"id\":4,\"name\":\"Test Storage\",\"description\":\"This is a test storage\",\"nickname\":\"teststorage-ncn4zx\",\"created_at\":\"2024-11-27T12:13:18.457707+00:00\",\"updated_at\":\"2024-11-27T12:13:18.457707+00:00\"}}'"
      ]
     },
     "execution_count": 5,
     "metadata": {},
     "output_type": "execute_result"
    }
   ],
   "execution_count": 5
  },
  {
   "metadata": {
    "ExecuteTime": {
     "end_time": "2024-11-27T12:13:24.555157Z",
     "start_time": "2024-11-27T12:13:24.504257Z"
    }
   },
   "cell_type": "code",
   "source": [
    "url = f\"{BASE_URL}/list_storages\"\n",
    "response = requests.get(url)\n",
    "print(\"Request:\", url)\n",
    "print(\"Response:\", json.dumps(response.json(), indent=2))\n"
   ],
   "id": "9803ea7e55a1e009",
   "outputs": [
    {
     "name": "stdout",
     "output_type": "stream",
     "text": [
      "Request: http://localhost:8040/list_storages\n",
      "Response: {\n",
      "  \"status\": \"success\",\n",
      "  \"data\": [\n",
      "    {\n",
      "      \"id\": 4,\n",
      "      \"name\": \"Test Storage\",\n",
      "      \"description\": \"This is a test storage\",\n",
      "      \"nickname\": \"teststorage-ncn4zx\",\n",
      "      \"created_at\": \"2024-11-27T12:13:18.457707+00:00\",\n",
      "      \"updated_at\": \"2024-11-27T12:13:18.457707+00:00\"\n",
      "    }\n",
      "  ]\n",
      "}\n"
     ]
    }
   ],
   "execution_count": 6
  },
  {
   "metadata": {
    "ExecuteTime": {
     "end_time": "2024-11-27T12:14:27.364999Z",
     "start_time": "2024-11-27T12:14:18.853338Z"
    }
   },
   "cell_type": "code",
   "source": [
    "url = f\"{BASE_URL}/add-url\"\n",
    "data = {\n",
    "    \"url\": \"https://habr.com/ru/articles/772760/\",\n",
    "    \"collection_nickname\": \"teststorage-ncn4zx\"\n",
    "}\n",
    "response = requests.post(url, json=data)\n",
    "print(\"Request:\", url)\n",
    "print(\"Data:\", json.dumps(data, indent=2))\n",
    "print(\"Response:\", json.dumps(response.json(), indent=2))"
   ],
   "id": "14ddf3e0b32fbd39",
   "outputs": [
    {
     "name": "stdout",
     "output_type": "stream",
     "text": [
      "Request: http://localhost:8040/add-url\n",
      "Data: {\n",
      "  \"url\": \"https://habr.com/ru/articles/772760/\",\n",
      "  \"collection_nickname\": \"teststorage-ncn4zx\"\n",
      "}\n",
      "Response: {\n",
      "  \"status\": \"success\",\n",
      "  \"message\": \"Data added successfully\"\n",
      "}\n"
     ]
    }
   ],
   "execution_count": 10
  },
  {
   "metadata": {},
   "cell_type": "code",
   "outputs": [],
   "execution_count": null,
   "source": "",
   "id": "788d4ac6145a700"
  },
  {
   "metadata": {},
   "cell_type": "code",
   "outputs": [],
   "execution_count": null,
   "source": "",
   "id": "741a107bf42e65e5"
  },
  {
   "metadata": {},
   "cell_type": "code",
   "outputs": [],
   "execution_count": null,
   "source": "",
   "id": "74b000fc4feba746"
  },
  {
   "metadata": {},
   "cell_type": "code",
   "outputs": [],
   "execution_count": null,
   "source": "",
   "id": "899862e370a1fa13"
  },
  {
   "metadata": {},
   "cell_type": "code",
   "outputs": [],
   "execution_count": null,
   "source": "",
   "id": "e88da3333e606ae5"
  }
 ],
 "metadata": {
  "kernelspec": {
   "display_name": "Python 3",
   "language": "python",
   "name": "python3"
  },
  "language_info": {
   "codemirror_mode": {
    "name": "ipython",
    "version": 2
   },
   "file_extension": ".py",
   "mimetype": "text/x-python",
   "name": "python",
   "nbconvert_exporter": "python",
   "pygments_lexer": "ipython2",
   "version": "2.7.6"
  }
 },
 "nbformat": 4,
 "nbformat_minor": 5
}
