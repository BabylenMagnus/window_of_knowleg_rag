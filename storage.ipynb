{
 "cells": [
  {
   "cell_type": "code",
   "id": "initial_id",
   "metadata": {
    "collapsed": true,
    "ExecuteTime": {
     "end_time": "2024-11-27T12:12:50.130059Z",
     "start_time": "2024-11-27T12:12:50.065503Z"
    }
   },
   "source": [
    "import requests\n",
    "import json"
   ],
   "outputs": [],
   "execution_count": 1
  },
  {
   "metadata": {
    "ExecuteTime": {
     "end_time": "2024-11-27T12:12:51.083382Z",
     "start_time": "2024-11-27T12:12:51.068884Z"
    }
   },
   "cell_type": "code",
   "source": "BASE_URL = \"http://localhost:8040\"",
   "id": "93380800cecde2f5",
   "outputs": [],
   "execution_count": 2
  },
  {
   "metadata": {
    "ExecuteTime": {
     "end_time": "2024-11-27T12:13:18.496181Z",
     "start_time": "2024-11-27T12:13:18.426784Z"
    }
   },
   "cell_type": "code",
   "source": [
    "url = f\"{BASE_URL}/storages\"\n",
    "data = {\n",
    "    \"name\": \"Test Storage\",\n",
    "    \"description\": \"This is a test storage\"\n",
    "}\n",
    "response = requests.post(url, json=data)\n",
    "print(\"Request:\", url)\n",
    "print(\"Response:\", json.dumps(response.json(), indent=2))\n",
    "print()"
   ],
   "id": "f67259a7ea99c213",
   "outputs": [
    {
     "name": "stdout",
     "output_type": "stream",
     "text": [
      "Request: http://localhost:8040/storages\n",
      "Response: {\n",
      "  \"status\": \"success\",\n",
      "  \"data\": {\n",
      "    \"id\": 4,\n",
      "    \"name\": \"Test Storage\",\n",
      "    \"description\": \"This is a test storage\",\n",
      "    \"nickname\": \"teststorage-ncn4zx\",\n",
      "    \"created_at\": \"2024-11-27T12:13:18.457707+00:00\",\n",
      "    \"updated_at\": \"2024-11-27T12:13:18.457707+00:00\"\n",
      "  }\n",
      "}\n",
      "\n"
     ]
    }
   ],
   "execution_count": 4
  },
  {
   "metadata": {
    "ExecuteTime": {
     "end_time": "2024-11-27T12:13:23.352754Z",
     "start_time": "2024-11-27T12:13:23.335130Z"
    }
   },
   "cell_type": "code",
   "source": "response.text",
   "id": "80cf551915be8922",
   "outputs": [
    {
     "data": {
      "text/plain": [
       "'{\"status\":\"success\",\"data\":{\"id\":4,\"name\":\"Test Storage\",\"description\":\"This is a test storage\",\"nickname\":\"teststorage-ncn4zx\",\"created_at\":\"2024-11-27T12:13:18.457707+00:00\",\"updated_at\":\"2024-11-27T12:13:18.457707+00:00\"}}'"
      ]
     },
     "execution_count": 5,
     "metadata": {},
     "output_type": "execute_result"
    }
   ],
   "execution_count": 5
  },
  {
   "metadata": {
    "ExecuteTime": {
     "end_time": "2024-11-27T12:13:24.555157Z",
     "start_time": "2024-11-27T12:13:24.504257Z"
    }
   },
   "cell_type": "code",
   "source": [
    "url = f\"{BASE_URL}/list_storages\"\n",
    "response = requests.get(url)\n",
    "print(\"Request:\", url)\n",
    "print(\"Response:\", json.dumps(response.json(), indent=2))\n"
   ],
   "id": "9803ea7e55a1e009",
   "outputs": [
    {
     "name": "stdout",
     "output_type": "stream",
     "text": [
      "Request: http://localhost:8040/list_storages\n",
      "Response: {\n",
      "  \"status\": \"success\",\n",
      "  \"data\": [\n",
      "    {\n",
      "      \"id\": 4,\n",
      "      \"name\": \"Test Storage\",\n",
      "      \"description\": \"This is a test storage\",\n",
      "      \"nickname\": \"teststorage-ncn4zx\",\n",
      "      \"created_at\": \"2024-11-27T12:13:18.457707+00:00\",\n",
      "      \"updated_at\": \"2024-11-27T12:13:18.457707+00:00\"\n",
      "    }\n",
      "  ]\n",
      "}\n"
     ]
    }
   ],
   "execution_count": 6
  },
  {
   "metadata": {
    "ExecuteTime": {
     "end_time": "2024-11-27T12:14:27.364999Z",
     "start_time": "2024-11-27T12:14:18.853338Z"
    }
   },
   "cell_type": "code",
   "source": [
    "url = f\"{BASE_URL}/add-url\"\n",
    "data = {\n",
    "    \"url\": \"https://habr.com/ru/articles/772760/\",\n",
    "    \"collection_nickname\": \"teststorage-ncn4zx\"\n",
    "}\n",
    "response = requests.post(url, json=data)\n",
    "print(\"Request:\", url)\n",
    "print(\"Data:\", json.dumps(data, indent=2))\n",
    "print(\"Response:\", json.dumps(response.json(), indent=2))"
   ],
   "id": "14ddf3e0b32fbd39",
   "outputs": [
    {
     "name": "stdout",
     "output_type": "stream",
     "text": [
      "Request: http://localhost:8040/add-url\n",
      "Data: {\n",
      "  \"url\": \"https://habr.com/ru/articles/772760/\",\n",
      "  \"collection_nickname\": \"teststorage-ncn4zx\"\n",
      "}\n",
      "Response: {\n",
      "  \"status\": \"success\",\n",
      "  \"message\": \"Data added successfully\"\n",
      "}\n"
     ]
    }
   ],
   "execution_count": 10
  },
  {
   "metadata": {},
   "cell_type": "code",
   "outputs": [],
   "execution_count": null,
   "source": "",
   "id": "8ab7712457c4da85"
  },
  {
   "metadata": {
    "ExecuteTime": {
     "end_time": "2024-11-28T00:59:32.559760Z",
     "start_time": "2024-11-28T00:59:32.511359Z"
    }
   },
   "cell_type": "code",
   "source": "from db import get_last_n_messages",
   "id": "3ba92a0e4baf6cd",
   "outputs": [],
   "execution_count": 11
  },
  {
   "metadata": {
    "ExecuteTime": {
     "end_time": "2024-11-28T00:59:52.126916Z",
     "start_time": "2024-11-28T00:59:52.084704Z"
    }
   },
   "cell_type": "code",
   "source": [
    "a = get_last_n_messages(8, 5)\n",
    "a"
   ],
   "id": "6d781f808cfec7f3",
   "outputs": [
    {
     "data": {
      "text/plain": [
       "[{'id': 1,\n",
       "  'created_at': '2024-11-27T21:36:53.113485+00:00',\n",
       "  'updated_at': '2024-11-27T21:36:53.113485+00:00',\n",
       "  'author': 'user',\n",
       "  'chat_id': 8,\n",
       "  'text': 'fgf'},\n",
       " {'id': 2,\n",
       "  'created_at': '2024-11-27T21:37:06.516077+00:00',\n",
       "  'updated_at': '2024-11-27T21:37:06.516077+00:00',\n",
       "  'author': 'user',\n",
       "  'chat_id': 8,\n",
       "  'text': 'Првиввет'},\n",
       " {'id': 11,\n",
       "  'created_at': '2024-11-27T21:42:13.440828+00:00',\n",
       "  'updated_at': '2024-11-27T21:42:13.440828+00:00',\n",
       "  'author': 'user',\n",
       "  'chat_id': 8,\n",
       "  'text': 'Првет'},\n",
       " {'id': 12,\n",
       "  'created_at': '2024-11-27T21:42:18.852005+00:00',\n",
       "  'updated_at': '2024-11-27T21:42:18.852005+00:00',\n",
       "  'author': 'model',\n",
       "  'chat_id': 8,\n",
       "  'text': 'В представленном контексте нет информации, которая бы отвечала на вопрос \"Првет\". Это приветствие или краткое обращение, но без дополнительного контекста трудно определить, что от вас ожидается в ответ. Если это начало диалога и вы хотите ответить на русском языке в дружеской манере, можно написать: \"Привет! Как дела?\"'}]"
      ]
     },
     "execution_count": 12,
     "metadata": {},
     "output_type": "execute_result"
    }
   ],
   "execution_count": 12
  },
  {
   "metadata": {
    "ExecuteTime": {
     "end_time": "2024-11-28T00:59:56.100895Z",
     "start_time": "2024-11-28T00:59:56.088392Z"
    }
   },
   "cell_type": "code",
   "source": "a[1]",
   "id": "788d4ac6145a700",
   "outputs": [
    {
     "data": {
      "text/plain": [
       "{'id': 1,\n",
       " 'created_at': '2024-11-27T21:36:53.113485+00:00',\n",
       " 'updated_at': '2024-11-27T21:36:53.113485+00:00',\n",
       " 'author': 'user',\n",
       " 'chat_id': 8,\n",
       " 'text': 'fgf'}"
      ]
     },
     "execution_count": 14,
     "metadata": {},
     "output_type": "execute_result"
    }
   ],
   "execution_count": 14
  },
  {
   "metadata": {
    "ExecuteTime": {
     "end_time": "2024-11-28T01:00:19.903721Z",
     "start_time": "2024-11-28T01:00:19.895134Z"
    }
   },
   "cell_type": "code",
   "source": "a[-1]",
   "id": "741a107bf42e65e5",
   "outputs": [
    {
     "data": {
      "text/plain": [
       "{'id': 12,\n",
       " 'created_at': '2024-11-27T21:42:18.852005+00:00',\n",
       " 'updated_at': '2024-11-27T21:42:18.852005+00:00',\n",
       " 'author': 'model',\n",
       " 'chat_id': 8,\n",
       " 'text': 'В представленном контексте нет информации, которая бы отвечала на вопрос \"Првет\". Это приветствие или краткое обращение, но без дополнительного контекста трудно определить, что от вас ожидается в ответ. Если это начало диалога и вы хотите ответить на русском языке в дружеской манере, можно написать: \"Привет! Как дела?\"'}"
      ]
     },
     "execution_count": 16,
     "metadata": {},
     "output_type": "execute_result"
    }
   ],
   "execution_count": 16
  },
  {
   "metadata": {
    "ExecuteTime": {
     "end_time": "2024-11-28T01:07:50.408769Z",
     "start_time": "2024-11-28T01:07:50.158794Z"
    }
   },
   "cell_type": "code",
   "source": "from langchain_core.messages import SystemMessage, HumanMessage, AIMessage",
   "id": "eed47de6991ec7c1",
   "outputs": [],
   "execution_count": 17
  },
  {
   "metadata": {},
   "cell_type": "code",
   "outputs": [],
   "execution_count": null,
   "source": "conversation_messages",
   "id": "b6f84c0cfe2812e9"
  },
  {
   "metadata": {
    "ExecuteTime": {
     "end_time": "2024-11-28T01:08:04.898753Z",
     "start_time": "2024-11-28T01:08:04.887642Z"
    }
   },
   "cell_type": "code",
   "source": "history = []",
   "id": "3e91708c36477966",
   "outputs": [],
   "execution_count": 18
  },
  {
   "metadata": {
    "ExecuteTime": {
     "end_time": "2024-11-28T01:09:13.460528Z",
     "start_time": "2024-11-28T01:09:13.446445Z"
    }
   },
   "cell_type": "code",
   "source": [
    "for i in a:\n",
    "    history.append(HumanMessage(i['text']) if i['author'] == 'user' else AIMessage(i['text']))\n",
    "history"
   ],
   "id": "6fa287a8979f2a0f",
   "outputs": [
    {
     "data": {
      "text/plain": [
       "[HumanMessage(content='fgf', additional_kwargs={}, response_metadata={}),\n",
       " HumanMessage(content='Првиввет', additional_kwargs={}, response_metadata={}),\n",
       " HumanMessage(content='Првет', additional_kwargs={}, response_metadata={}),\n",
       " AIMessage(content='В представленном контексте нет информации, которая бы отвечала на вопрос \"Првет\". Это приветствие или краткое обращение, но без дополнительного контекста трудно определить, что от вас ожидается в ответ. Если это начало диалога и вы хотите ответить на русском языке в дружеской манере, можно написать: \"Привет! Как дела?\"', additional_kwargs={}, response_metadata={})]"
      ]
     },
     "execution_count": 21,
     "metadata": {},
     "output_type": "execute_result"
    }
   ],
   "execution_count": 21
  },
  {
   "metadata": {
    "ExecuteTime": {
     "end_time": "2024-11-28T01:08:20.440285Z",
     "start_time": "2024-11-28T01:08:20.430879Z"
    }
   },
   "cell_type": "code",
   "source": "i",
   "id": "c6915a8766ebd04d",
   "outputs": [
    {
     "data": {
      "text/plain": [
       "{'id': 1,\n",
       " 'created_at': '2024-11-27T21:36:53.113485+00:00',\n",
       " 'updated_at': '2024-11-27T21:36:53.113485+00:00',\n",
       " 'author': 'user',\n",
       " 'chat_id': 8,\n",
       " 'text': 'fgf'}"
      ]
     },
     "execution_count": 20,
     "metadata": {},
     "output_type": "execute_result"
    }
   ],
   "execution_count": 20
  },
  {
   "metadata": {
    "ExecuteTime": {
     "end_time": "2024-11-28T01:10:58.701231Z",
     "start_time": "2024-11-28T01:10:52.238655Z"
    }
   },
   "cell_type": "code",
   "source": "from engine import model, prompt_template, semantic_search\n",
   "id": "5c6f71af42e3a1d0",
   "outputs": [
    {
     "name": "stderr",
     "output_type": "stream",
     "text": [
      "INFO:httpx:HTTP Request: GET http://localhost:8027/api/v2/auth/identity \"HTTP/1.1 200 OK\"\n",
      "INFO:httpx:HTTP Request: GET http://localhost:8027/api/v2/tenants/default_tenant \"HTTP/1.1 200 OK\"\n",
      "INFO:httpx:HTTP Request: GET http://localhost:8027/api/v2/tenants/default_tenant/databases/default_database \"HTTP/1.1 200 OK\"\n"
     ]
    }
   ],
   "execution_count": 22
  },
  {
   "metadata": {
    "ExecuteTime": {
     "end_time": "2024-11-28T01:14:40.207276Z",
     "start_time": "2024-11-28T01:14:40.199410Z"
    }
   },
   "cell_type": "code",
   "source": [
    "query = \"Что такое CRM?\"\n",
    "collection_name = \"teststorage-ncn4zx\"\n",
    "chat_id = 5"
   ],
   "id": "e2eae81dec91230d",
   "outputs": [],
   "execution_count": 33
  },
  {
   "metadata": {
    "ExecuteTime": {
     "end_time": "2024-11-28T01:14:40.532195Z",
     "start_time": "2024-11-28T01:14:40.352083Z"
    }
   },
   "cell_type": "code",
   "source": [
    "results = semantic_search(query, collection_name)\n",
    "\n",
    "# Prepare the context and sources\n",
    "context_text = \"\\n\\n---\\n\\n\".join(results['documents'][0])\n",
    "sources = list(set([i['url'] for i in results['metadatas'][0]]))\n",
    "history = []\n",
    "for i in get_last_n_messages(5, 5):\n",
    "    history.append(HumanMessage(i['text']) if i['author'] == 'user' else AIMessage(i['text']))\n",
    "\n",
    "system_message_content = prompt_template.format(context=context_text, question=query)\n",
    "\n",
    "prompt = [SystemMessage(system_message_content)] + history\n",
    "\n",
    "# \n",
    "# # Get the async stream from the model\n",
    "# response_stream = model.astream(prompt)\n"
   ],
   "id": "74b000fc4feba746",
   "outputs": [
    {
     "name": "stderr",
     "output_type": "stream",
     "text": [
      "INFO:httpx:HTTP Request: POST http://localhost:8027/api/v2/tenants/default_tenant/databases/default_database/collections \"HTTP/1.1 200 OK\"\n",
      "INFO:httpx:HTTP Request: POST http://localhost:8027/api/v2/tenants/default_tenant/databases/default_database/collections/2a45410b-5d9a-4f8e-b979-dcd5fdaf8080/query \"HTTP/1.1 200 OK\"\n"
     ]
    }
   ],
   "execution_count": 34
  },
  {
   "metadata": {
    "ExecuteTime": {
     "end_time": "2024-11-28T01:14:40.547444Z",
     "start_time": "2024-11-28T01:14:40.533706Z"
    }
   },
   "cell_type": "code",
   "source": "prompt",
   "id": "899862e370a1fa13",
   "outputs": [
    {
     "data": {
      "text/plain": [
       "[SystemMessage(content='Human: \\nAnswer the question based only on the following context:\\nании загрузчика файлов. Расскажу о трудностях с которыми мы\\nстолкнулись, как можно было избежать проблем в проектировании и поделюсь\\nлучшими практиками, которые мы выявили опытным и эмпирическим путём.\\n\\n  1. Разные загрузчики на всех продуктах\\n\\n  2. Используйте drag & drop\\n\\n  3. Показывайте прогресс загрузки\\n\\n  4. Свёрнутые загрузки\\n\\n  5. Не дайте пользователю заблудиться\\n\\n  6. Не перекрывайте основной функционал\\n\\n  7. Результат\\n\\n## Разные загрузчики на всех продуктах\\n\\nПриступая к �\\n\\n---\\n\\nажными элементами при работе с мобильной связью и\\nиспользуются для управления сетью и обеспечения безопасности передачи данных.\\n\\n  * IMSI (International Mobile Subscriber Identity) — это уникальный идентификатор мобильного абонента.\\n\\n  * MSISDN (Mobile Subscriber International Detach Number) — международный номер телефона.\\n\\nПример страницы списков исключений\\n\\nДобавлять отдельное рабочее место во все системы — избыточно как для новых\\nпродуктов, которые мы обрекаем на лишние страницы, так и для уже запущенных в\\nпродакшн — нужно перепродумывать лог\\n\\n---\\n\\nспользуются в\\nключевой логике работы приложения. Например, справочник стран, абонентов,\\nбазовых станций.\\n\\nПример страницы со списком стран\\n\\nЕсли таких страниц много, то конечно сделать общую страницу менеджера загрузок\\n— отличное решение.\\n\\nНо также есть продукты, у которых всего несколько страниц, на которые можно\\nзагрузить файлы, например, списки IMSI и MSISDN.\\n\\nПро IMSI и MSISDN\\n\\nОба этих номера являются важными элементами при работе с мобильной связью и\\nиспольз\\n---\\nAnswer the question based on the above context: Что такое CRM?\\n', additional_kwargs={}, response_metadata={})]"
      ]
     },
     "execution_count": 35,
     "metadata": {},
     "output_type": "execute_result"
    }
   ],
   "execution_count": 35
  },
  {
   "metadata": {
    "ExecuteTime": {
     "end_time": "2024-11-28T01:20:00.106378Z",
     "start_time": "2024-11-28T01:20:00.088325Z"
    }
   },
   "cell_type": "code",
   "source": [
    "ar = model.astream(prompt)\n",
    "ar"
   ],
   "id": "e88da3333e606ae5",
   "outputs": [
    {
     "data": {
      "text/plain": [
       "<async_generator object BaseLLM.astream at 0x000001892FB7B160>"
      ]
     },
     "execution_count": 41,
     "metadata": {},
     "output_type": "execute_result"
    }
   ],
   "execution_count": 41
  },
  {
   "metadata": {
    "ExecuteTime": {
     "end_time": "2024-11-28T01:20:12.919434Z",
     "start_time": "2024-11-28T01:20:12.893333Z"
    }
   },
   "cell_type": "code",
   "source": [
    "for i in ar:\n",
    "    print(i)"
   ],
   "id": "b7a26b1136d0fa5c",
   "outputs": [
    {
     "ename": "TypeError",
     "evalue": "'async_generator' object is not iterable",
     "output_type": "error",
     "traceback": [
      "\u001B[1;31m---------------------------------------------------------------------------\u001B[0m",
      "\u001B[1;31mTypeError\u001B[0m                                 Traceback (most recent call last)",
      "Cell \u001B[1;32mIn[42], line 1\u001B[0m\n\u001B[1;32m----> 1\u001B[0m \u001B[38;5;28;01mfor\u001B[39;00m i \u001B[38;5;129;01min\u001B[39;00m ar:\n\u001B[0;32m      2\u001B[0m     \u001B[38;5;28mprint\u001B[39m(i)\n",
      "\u001B[1;31mTypeError\u001B[0m: 'async_generator' object is not iterable"
     ]
    }
   ],
   "execution_count": 42
  },
  {
   "metadata": {
    "ExecuteTime": {
     "end_time": "2024-11-28T01:21:05.400899Z",
     "start_time": "2024-11-28T01:21:05.387249Z"
    }
   },
   "cell_type": "code",
   "source": "prompt",
   "id": "9902b6e67d1defec",
   "outputs": [
    {
     "data": {
      "text/plain": [
       "[SystemMessage(content='Human: \\nAnswer the question based only on the following context:\\nании загрузчика файлов. Расскажу о трудностях с которыми мы\\nстолкнулись, как можно было избежать проблем в проектировании и поделюсь\\nлучшими практиками, которые мы выявили опытным и эмпирическим путём.\\n\\n  1. Разные загрузчики на всех продуктах\\n\\n  2. Используйте drag & drop\\n\\n  3. Показывайте прогресс загрузки\\n\\n  4. Свёрнутые загрузки\\n\\n  5. Не дайте пользователю заблудиться\\n\\n  6. Не перекрывайте основной функционал\\n\\n  7. Результат\\n\\n## Разные загрузчики на всех продуктах\\n\\nПриступая к �\\n\\n---\\n\\nажными элементами при работе с мобильной связью и\\nиспользуются для управления сетью и обеспечения безопасности передачи данных.\\n\\n  * IMSI (International Mobile Subscriber Identity) — это уникальный идентификатор мобильного абонента.\\n\\n  * MSISDN (Mobile Subscriber International Detach Number) — международный номер телефона.\\n\\nПример страницы списков исключений\\n\\nДобавлять отдельное рабочее место во все системы — избыточно как для новых\\nпродуктов, которые мы обрекаем на лишние страницы, так и для уже запущенных в\\nпродакшн — нужно перепродумывать лог\\n\\n---\\n\\nспользуются в\\nключевой логике работы приложения. Например, справочник стран, абонентов,\\nбазовых станций.\\n\\nПример страницы со списком стран\\n\\nЕсли таких страниц много, то конечно сделать общую страницу менеджера загрузок\\n— отличное решение.\\n\\nНо также есть продукты, у которых всего несколько страниц, на которые можно\\nзагрузить файлы, например, списки IMSI и MSISDN.\\n\\nПро IMSI и MSISDN\\n\\nОба этих номера являются важными элементами при работе с мобильной связью и\\nиспольз\\n---\\nAnswer the question based on the above context: Что такое CRM?\\n', additional_kwargs={}, response_metadata={})]"
      ]
     },
     "execution_count": 44,
     "metadata": {},
     "output_type": "execute_result"
    }
   ],
   "execution_count": 44
  },
  {
   "metadata": {
    "ExecuteTime": {
     "end_time": "2024-11-28T01:21:03.902304Z",
     "start_time": "2024-11-28T01:20:51.800686Z"
    }
   },
   "cell_type": "code",
   "source": [
    "async for text in ar:\n",
    "    print(text, flush=True)"
   ],
   "id": "8f4c8af6200cd5f",
   "outputs": [
    {
     "name": "stderr",
     "output_type": "stream",
     "text": [
      "INFO:httpx:HTTP Request: POST http://127.0.0.1:11434/api/generate \"HTTP/1.1 200 OK\"\n"
     ]
    },
    {
     "name": "stdout",
     "output_type": "stream",
     "text": [
      "В\n",
      " предостав\n",
      "лен\n",
      "ном\n",
      " кон\n",
      "тек\n",
      "сте\n",
      " тер\n",
      "мин\n",
      " \"\n",
      "CR\n",
      "M\n",
      "\"\n",
      " не\n",
      " упомина\n",
      "ется\n",
      ",\n",
      " поэтому\n",
      " я\n",
      " не\n",
      " могу\n",
      " да\n",
      "ть\n",
      " ответ\n",
      " на\n",
      " вопрос\n",
      " \"\n",
      "Ч\n",
      "то\n",
      " такое\n",
      " CRM\n",
      "?\"\n",
      " на\n",
      " основе\n",
      " дан\n",
      "ного\n",
      " тек\n",
      "ста\n",
      ".\n",
      " CRM\n",
      " обычно\n",
      " означа\n",
      "ет\n",
      " Customer\n",
      " Relationship\n",
      " Management\n",
      " (\n",
      "У\n",
      "прав\n",
      "ление\n",
      " вза\n",
      "и\n",
      "мо\n",
      "отно\n",
      "шения\n",
      "ми\n",
      " с\n",
      " кли\n",
      "ента\n",
      "ми\n",
      ")\n",
      " и\n",
      " относи\n",
      "тся\n",
      " к\n",
      " страте\n",
      "гии\n",
      " или\n",
      " процес\n",
      "су\n",
      " управление\n",
      " взаимодей\n",
      "стви\n",
      "ями\n",
      " с\n",
      " те\n",
      "ку\n",
      "щи\n",
      "ми\n",
      " и\n",
      " буду\n",
      "щи\n",
      "ми\n",
      " кли\n",
      "ента\n",
      "ми\n",
      ",\n",
      " а\n",
      " также\n",
      " автомати\n",
      "зирован\n",
      "ным\n",
      " програм\n",
      "м\n",
      "ному\n",
      " обеспе\n",
      "ч\n",
      "ению\n",
      " для\n",
      " организации\n",
      ",\n",
      " от\n",
      "сле\n",
      "жи\n",
      "вания\n",
      " и\n",
      " анали\n",
      "зи\n",
      "рования\n",
      " данных\n",
      " о\n",
      " кли\n",
      "ен\n",
      "те\n",
      " и\n",
      " потен\n",
      "циаль\n",
      "ных\n",
      " кли\n",
      "ента\n",
      "х\n",
      " в\n",
      " це\n",
      "лях\n",
      " укреп\n",
      "ления\n",
      " вза\n",
      "и\n",
      "мо\n",
      "отно\n",
      "ш\n",
      "ений\n",
      ".\n",
      " Если\n",
      " вам\n",
      " ну\n",
      "жен\n",
      " ответ\n",
      " на\n",
      " этот\n",
      " вопрос\n",
      ",\n",
      " я\n",
      " могу\n",
      " пред\n",
      "о\n",
      "ставить\n",
      " его\n",
      " на\n",
      " основе\n",
      " обще\n",
      "до\n",
      "ступ\n",
      "ной\n",
      " информации\n",
      " по\n",
      " CRM\n",
      ",\n",
      " но\n",
      " это\n",
      " будет\n",
      " не\n",
      " связан\n",
      "о\n",
      " с\n",
      " представ\n",
      "лен\n",
      "ным\n",
      " кон\n",
      "тек\n",
      "стом\n",
      ".\n",
      "\n"
     ]
    }
   ],
   "execution_count": 43
  },
  {
   "metadata": {
    "ExecuteTime": {
     "end_time": "2024-11-28T01:15:43.194470Z",
     "start_time": "2024-11-28T01:15:43.182700Z"
    }
   },
   "cell_type": "code",
   "source": "results['documents']",
   "id": "1b6a20647c9119e5",
   "outputs": [
    {
     "data": {
      "text/plain": [
       "[['ании загрузчика файлов. Расскажу о трудностях с которыми мы\\nстолкнулись, как можно было избежать проблем в проектировании и поделюсь\\nлучшими практиками, которые мы выявили опытным и эмпирическим путём.\\n\\n  1. Разные загрузчики на всех продуктах\\n\\n  2. Используйте drag & drop\\n\\n  3. Показывайте прогресс загрузки\\n\\n  4. Свёрнутые загрузки\\n\\n  5. Не дайте пользователю заблудиться\\n\\n  6. Не перекрывайте основной функционал\\n\\n  7. Результат\\n\\n## Разные загрузчики на всех продуктах\\n\\nПриступая к �',\n",
       "  'ажными элементами при работе с мобильной связью и\\nиспользуются для управления сетью и обеспечения безопасности передачи данных.\\n\\n  * IMSI (International Mobile Subscriber Identity) — это уникальный идентификатор мобильного абонента.\\n\\n  * MSISDN (Mobile Subscriber International Detach Number) — международный номер телефона.\\n\\nПример страницы списков исключений\\n\\nДобавлять отдельное рабочее место во все системы — избыточно как для новых\\nпродуктов, которые мы обрекаем на лишние страницы, так и для уже запущенных в\\nпродакшн — нужно перепродумывать лог',\n",
       "  'спользуются в\\nключевой логике работы приложения. Например, справочник стран, абонентов,\\nбазовых станций.\\n\\nПример страницы со списком стран\\n\\nЕсли таких страниц много, то конечно сделать общую страницу менеджера загрузок\\n— отличное решение.\\n\\nНо также есть продукты, у которых всего несколько страниц, на которые можно\\nзагрузить файлы, например, списки IMSI и MSISDN.\\n\\nПро IMSI и MSISDN\\n\\nОба этих номера являются важными элементами при работе с мобильной связью и\\nиспольз']]"
      ]
     },
     "execution_count": 38,
     "metadata": {},
     "output_type": "execute_result"
    }
   ],
   "execution_count": 38
  },
  {
   "metadata": {
    "ExecuteTime": {
     "end_time": "2024-11-28T01:16:15.610989Z",
     "start_time": "2024-11-28T01:16:15.595774Z"
    }
   },
   "cell_type": "code",
   "source": "results",
   "id": "4ef43e60e6c67e3c",
   "outputs": [
    {
     "data": {
      "text/plain": [
       "{'ids': [['1', '17', '16']],\n",
       " 'distances': [[692.5592457230813, 693.7366447928817, 699.0203675385242]],\n",
       " 'embeddings': None,\n",
       " 'metadatas': [[{'created_at': '2024-11-27T15:14:19.260496',\n",
       "    'url': 'https://habr.com/ru/articles/772760/'},\n",
       "   {'created_at': '2024-11-27T15:14:19.260496',\n",
       "    'url': 'https://habr.com/ru/articles/772760/'},\n",
       "   {'created_at': '2024-11-27T15:14:19.260496',\n",
       "    'url': 'https://habr.com/ru/articles/772760/'}]],\n",
       " 'documents': [['ании загрузчика файлов. Расскажу о трудностях с которыми мы\\nстолкнулись, как можно было избежать проблем в проектировании и поделюсь\\nлучшими практиками, которые мы выявили опытным и эмпирическим путём.\\n\\n  1. Разные загрузчики на всех продуктах\\n\\n  2. Используйте drag & drop\\n\\n  3. Показывайте прогресс загрузки\\n\\n  4. Свёрнутые загрузки\\n\\n  5. Не дайте пользователю заблудиться\\n\\n  6. Не перекрывайте основной функционал\\n\\n  7. Результат\\n\\n## Разные загрузчики на всех продуктах\\n\\nПриступая к �',\n",
       "   'ажными элементами при работе с мобильной связью и\\nиспользуются для управления сетью и обеспечения безопасности передачи данных.\\n\\n  * IMSI (International Mobile Subscriber Identity) — это уникальный идентификатор мобильного абонента.\\n\\n  * MSISDN (Mobile Subscriber International Detach Number) — международный номер телефона.\\n\\nПример страницы списков исключений\\n\\nДобавлять отдельное рабочее место во все системы — избыточно как для новых\\nпродуктов, которые мы обрекаем на лишние страницы, так и для уже запущенных в\\nпродакшн — нужно перепродумывать лог',\n",
       "   'спользуются в\\nключевой логике работы приложения. Например, справочник стран, абонентов,\\nбазовых станций.\\n\\nПример страницы со списком стран\\n\\nЕсли таких страниц много, то конечно сделать общую страницу менеджера загрузок\\n— отличное решение.\\n\\nНо также есть продукты, у которых всего несколько страниц, на которые можно\\nзагрузить файлы, например, списки IMSI и MSISDN.\\n\\nПро IMSI и MSISDN\\n\\nОба этих номера являются важными элементами при работе с мобильной связью и\\nиспольз']],\n",
       " 'uris': None,\n",
       " 'data': None,\n",
       " 'included': ['distances', 'documents', 'metadatas']}"
      ]
     },
     "execution_count": 40,
     "metadata": {},
     "output_type": "execute_result"
    }
   ],
   "execution_count": 40
  },
  {
   "metadata": {},
   "cell_type": "code",
   "outputs": [],
   "execution_count": null,
   "source": "",
   "id": "bc14bdf0b2688c8e"
  },
  {
   "metadata": {},
   "cell_type": "code",
   "outputs": [],
   "execution_count": null,
   "source": "",
   "id": "149248476b5c3ffa"
  },
  {
   "metadata": {
    "ExecuteTime": {
     "end_time": "2024-11-28T06:02:07.520985Z",
     "start_time": "2024-11-28T06:02:07.506513Z"
    }
   },
   "cell_type": "code",
   "source": "from datetime import datetime, timedelta",
   "id": "e1a812c6429ddf77",
   "outputs": [],
   "execution_count": 46
  },
  {
   "metadata": {
    "ExecuteTime": {
     "end_time": "2024-11-28T06:02:51.265201Z",
     "start_time": "2024-11-28T06:02:51.245081Z"
    }
   },
   "cell_type": "code",
   "source": "datetime(2024, 3, 7, 3, 37) + timedelta(minutes=162)",
   "id": "a4586049a6bb0ac2",
   "outputs": [
    {
     "data": {
      "text/plain": [
       "datetime.datetime(2024, 3, 7, 6, 19)"
      ]
     },
     "execution_count": 49,
     "metadata": {},
     "output_type": "execute_result"
    }
   ],
   "execution_count": 49
  },
  {
   "metadata": {
    "ExecuteTime": {
     "end_time": "2024-11-28T06:02:44.231968Z",
     "start_time": "2024-11-28T06:02:44.227359Z"
    }
   },
   "cell_type": "code",
   "source": "(5 * 60 + 24) / 2",
   "id": "b9be32e102dceed9",
   "outputs": [
    {
     "data": {
      "text/plain": [
       "162.0"
      ]
     },
     "execution_count": 48,
     "metadata": {},
     "output_type": "execute_result"
    }
   ],
   "execution_count": 48
  },
  {
   "metadata": {},
   "cell_type": "code",
   "outputs": [],
   "execution_count": null,
   "source": "",
   "id": "5b0fc3ed7c01b5e7"
  },
  {
   "metadata": {
    "ExecuteTime": {
     "end_time": "2024-11-28T07:52:16.466553Z",
     "start_time": "2024-11-28T07:52:16.454631Z"
    }
   },
   "cell_type": "code",
   "source": [
    "a = \"\"\"\n",
    "https://journal.tinkoff.ru/football-rules/\n",
    "\n",
    "https://www.sravni.ru/enciklopediya/sport/pravila-igry-v-futbol/\n",
    "\n",
    "https://translated.turbopages.org/proxy_u/en-ru.ru.f9f50632-67481f52-f143092f-74722d776562/https/www.sportskeeda.com/football/unbelievable-football-stories-7-of-the-best\n",
    "\n",
    "https://www.sports.ru/football/blogs/2873961.html\n",
    "\n",
    "https://locals.md/2023/futbolnye-fenomeny/\n",
    "\n",
    "https://ice-profy.ru/istoriya-vozniknoveniya-futbola/\n",
    "\n",
    "https://www.sportmaster.ru/media/articles/11562355/?utm_referrer=https://yandex.ru/\n",
    "\n",
    "https://www.techinsider.ru/popmem/1570369-kto-i-gde-pridumal-futbol-istoriya-populyarneyshey-igry/\n",
    "\n",
    "https://news.google.com/topics/CAAqIQgKIhtDQkFTRGdvSUwyMHZNREoyZURRU0FuSjFLQUFQAQ?hl=ru&gl=RU&ceid=RU:ru\n",
    "\n",
    "https://nsportal.ru/shkola/fizkultura-i-sport/library/2016/12/14/statya-futbol-kak-vid-sporta\n",
    "\n",
    "https://news.google.com/topics/CAAqIggKIhxDQkFTRHdvSkwyMHZNRFJqZWprMUVnSnlkU2dBUAE?hl=ru&gl=RU&ceid=RU:ru\n",
    "\n",
    "https://www.kp.ru/sports/futbol/chto-proizoshlo-posle-slov-samarskogo-gubernatora-o-korrupczii-v-rossiiskom-futbole-27-11-2024/\n",
    "\"\"\""
   ],
   "id": "c6e472031071700d",
   "outputs": [],
   "execution_count": 1
  },
  {
   "metadata": {
    "ExecuteTime": {
     "end_time": "2024-11-28T07:52:30.313693Z",
     "start_time": "2024-11-28T07:52:30.297077Z"
    }
   },
   "cell_type": "code",
   "source": "a.split(\"\\n\")",
   "id": "a2d1e3f076f68f41",
   "outputs": [
    {
     "data": {
      "text/plain": [
       "['',\n",
       " 'https://journal.tinkoff.ru/football-rules/',\n",
       " '',\n",
       " 'https://www.sravni.ru/enciklopediya/sport/pravila-igry-v-futbol/',\n",
       " '',\n",
       " 'https://translated.turbopages.org/proxy_u/en-ru.ru.f9f50632-67481f52-f143092f-74722d776562/https/www.sportskeeda.com/football/unbelievable-football-stories-7-of-the-best',\n",
       " '',\n",
       " 'https://www.sports.ru/football/blogs/2873961.html',\n",
       " '',\n",
       " 'https://locals.md/2023/futbolnye-fenomeny/',\n",
       " '',\n",
       " 'https://ice-profy.ru/istoriya-vozniknoveniya-futbola/',\n",
       " '',\n",
       " 'https://www.sportmaster.ru/media/articles/11562355/?utm_referrer=https://yandex.ru/',\n",
       " '',\n",
       " 'https://www.techinsider.ru/popmem/1570369-kto-i-gde-pridumal-futbol-istoriya-populyarneyshey-igry/',\n",
       " '',\n",
       " 'https://news.google.com/topics/CAAqIQgKIhtDQkFTRGdvSUwyMHZNREoyZURRU0FuSjFLQUFQAQ?hl=ru&gl=RU&ceid=RU:ru',\n",
       " '',\n",
       " 'https://nsportal.ru/shkola/fizkultura-i-sport/library/2016/12/14/statya-futbol-kak-vid-sporta',\n",
       " '',\n",
       " 'https://news.google.com/topics/CAAqIggKIhxDQkFTRHdvSkwyMHZNRFJqZWprMUVnSnlkU2dBUAE?hl=ru&gl=RU&ceid=RU:ru',\n",
       " '',\n",
       " 'https://www.kp.ru/sports/futbol/chto-proizoshlo-posle-slov-samarskogo-gubernatora-o-korrupczii-v-rossiiskom-futbole-27-11-2024/',\n",
       " '']"
      ]
     },
     "execution_count": 2,
     "metadata": {},
     "output_type": "execute_result"
    }
   ],
   "execution_count": 2
  },
  {
   "metadata": {},
   "cell_type": "code",
   "outputs": [],
   "execution_count": null,
   "source": "",
   "id": "192fecf89297b971"
  }
 ],
 "metadata": {
  "kernelspec": {
   "display_name": "Python 3",
   "language": "python",
   "name": "python3"
  },
  "language_info": {
   "codemirror_mode": {
    "name": "ipython",
    "version": 2
   },
   "file_extension": ".py",
   "mimetype": "text/x-python",
   "name": "python",
   "nbconvert_exporter": "python",
   "pygments_lexer": "ipython2",
   "version": "2.7.6"
  }
 },
 "nbformat": 4,
 "nbformat_minor": 5
}
