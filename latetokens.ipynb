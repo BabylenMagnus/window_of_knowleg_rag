{
 "cells": [
  {
   "cell_type": "code",
   "id": "initial_id",
   "metadata": {
    "collapsed": true,
    "ExecuteTime": {
     "end_time": "2024-11-27T01:41:42.308749Z",
     "start_time": "2024-11-27T01:41:39.955291Z"
    }
   },
   "source": [
    "from transformers import AutoTokenizer, AutoModel\n",
    "from langchain_text_splitters import TokenTextSplitter\n",
    "\n",
    "import os\n",
    "import html2text\n",
    "from bs4 import BeautifulSoup\n",
    "import requests\n",
    "\n",
    "import torch\n",
    "\n",
    "import numpy as np"
   ],
   "outputs": [],
   "execution_count": 1
  },
  {
   "metadata": {
    "ExecuteTime": {
     "end_time": "2024-11-27T01:34:15.841711Z",
     "start_time": "2024-11-27T01:34:15.064138Z"
    }
   },
   "cell_type": "code",
   "source": [
    "# Инициализируем токенизатор Hugging Face\n",
    "tokenizer = AutoTokenizer.from_pretrained(\"deepvk/USER-bge-m3\")\n",
    "model = AutoModel.from_pretrained(\"deepvk/USER-bge-m3\")\n",
    "model.eval()"
   ],
   "id": "7f211aa8f97ae2f5",
   "outputs": [
    {
     "data": {
      "text/plain": [
       "XLMRobertaModel(\n",
       "  (embeddings): XLMRobertaEmbeddings(\n",
       "    (word_embeddings): Embedding(46166, 1024, padding_idx=1)\n",
       "    (position_embeddings): Embedding(8194, 1024, padding_idx=1)\n",
       "    (token_type_embeddings): Embedding(1, 1024)\n",
       "    (LayerNorm): LayerNorm((1024,), eps=1e-05, elementwise_affine=True)\n",
       "    (dropout): Dropout(p=0.1, inplace=False)\n",
       "  )\n",
       "  (encoder): XLMRobertaEncoder(\n",
       "    (layer): ModuleList(\n",
       "      (0-23): 24 x XLMRobertaLayer(\n",
       "        (attention): XLMRobertaAttention(\n",
       "          (self): XLMRobertaSdpaSelfAttention(\n",
       "            (query): Linear(in_features=1024, out_features=1024, bias=True)\n",
       "            (key): Linear(in_features=1024, out_features=1024, bias=True)\n",
       "            (value): Linear(in_features=1024, out_features=1024, bias=True)\n",
       "            (dropout): Dropout(p=0.1, inplace=False)\n",
       "          )\n",
       "          (output): XLMRobertaSelfOutput(\n",
       "            (dense): Linear(in_features=1024, out_features=1024, bias=True)\n",
       "            (LayerNorm): LayerNorm((1024,), eps=1e-05, elementwise_affine=True)\n",
       "            (dropout): Dropout(p=0.1, inplace=False)\n",
       "          )\n",
       "        )\n",
       "        (intermediate): XLMRobertaIntermediate(\n",
       "          (dense): Linear(in_features=1024, out_features=4096, bias=True)\n",
       "          (intermediate_act_fn): GELUActivation()\n",
       "        )\n",
       "        (output): XLMRobertaOutput(\n",
       "          (dense): Linear(in_features=4096, out_features=1024, bias=True)\n",
       "          (LayerNorm): LayerNorm((1024,), eps=1e-05, elementwise_affine=True)\n",
       "          (dropout): Dropout(p=0.1, inplace=False)\n",
       "        )\n",
       "      )\n",
       "    )\n",
       "  )\n",
       "  (pooler): XLMRobertaPooler(\n",
       "    (dense): Linear(in_features=1024, out_features=1024, bias=True)\n",
       "    (activation): Tanh()\n",
       "  )\n",
       ")"
      ]
     },
     "execution_count": 4,
     "metadata": {},
     "output_type": "execute_result"
    }
   ],
   "execution_count": 4
  },
  {
   "metadata": {
    "ExecuteTime": {
     "end_time": "2024-11-26T19:11:42.939786Z",
     "start_time": "2024-11-26T19:11:42.910638Z"
    }
   },
   "cell_type": "code",
   "source": [
    "# Инициализируем TokenTextSplitter с использованием токенизатора Hugging Face\n",
    "text_splitter = TokenTextSplitter.from_huggingface_tokenizer(\n",
    "    tokenizer=tokenizer,\n",
    "    chunk_size=512,\n",
    "    chunk_overlap=64\n",
    ")"
   ],
   "id": "629d45ebb5a5b7d8",
   "outputs": [],
   "execution_count": 27
  },
  {
   "metadata": {
    "ExecuteTime": {
     "end_time": "2024-11-27T01:41:44.109664Z",
     "start_time": "2024-11-27T01:41:43.640312Z"
    }
   },
   "cell_type": "code",
   "source": [
    "url = \"https://www.xtremepush.com/blog/customer-analytics-software-for-igaming\"\n",
    "html_content = requests.get(url).text"
   ],
   "id": "438f6967f4b3f752",
   "outputs": [],
   "execution_count": 2
  },
  {
   "metadata": {
    "ExecuteTime": {
     "end_time": "2024-11-27T01:41:44.156537Z",
     "start_time": "2024-11-27T01:41:44.110703Z"
    }
   },
   "cell_type": "code",
   "source": [
    "soup = BeautifulSoup(html_content, 'html.parser')\n",
    "\n",
    "# Remove header and footer elements\n",
    "for header in soup.find_all(['header', 'footer']):\n",
    "    header.decompose()\n",
    "\n",
    "# Convert remaining HTML to Markdown\n",
    "h = html2text.HTML2Text()\n",
    "h.ignore_images = True  # Ignore images\n",
    "h.ignore_links = True   # Ignore external links\n",
    "markdown_text = h.handle(str(soup))\n",
    "print(markdown_text)"
   ],
   "id": "e5b5f66e93f50eb2",
   "outputs": [
    {
     "name": "stdout",
     "output_type": "stream",
     "text": [
      "customer experience,  Blog post\n",
      "\n",
      "#  Customer Analytics Software for iGaming: Get into your Players’ Minds\n",
      "\n",
      "by Kinga\n",
      "\n",
      "Mar 11 2024\n",
      "\n",
      "11 min\n",
      "\n",
      "Numbers need to match insights, insights lead to action, and action drives\n",
      "success. In the fast-paced world of iGaming, understanding the player is key\n",
      "to staying ahead. Enter Customer Analytics Software—a game-changer in how you\n",
      "connect with, engage, and retain your players.\n",
      "\n",
      "## **What is Customer Analytics Software?**\n",
      "\n",
      "A customer analytics tool dives deep into your customer data to offer insights\n",
      "on behavior, preferences, and trends, guiding better business decisions.\n",
      "\n",
      "## **Benefits of Using Customer Analytics Software in iGaming**\n",
      "\n",
      "### **Optimize Customer Experience with Data-Driven Insights**\n",
      "\n",
      "Leveraging a customer analytics tool allows iGaming companies to fine-tune the\n",
      "user experience. By analyzing vast amounts of customer data, these tools\n",
      "pinpoint what keeps players coming back. For example, identifying the most\n",
      "popular games or features enables tailored content updates, enhancing customer\n",
      "satisfaction and mobile app retention.\n",
      "\n",
      "### **Enhance Customer Journey Mapping through Analytics**\n",
      "\n",
      "Understanding the customer journey is crucial. An analytics tool like Google\n",
      "Analytics (or GA4) with integrated QR code tracking will track customer\n",
      "interactions from the first click to the last, highlighting areas for\n",
      "improvement. This continuous loop of feedback and action can transform the\n",
      "customer journey, making it more engaging and rewarding.\n",
      "\n",
      "### **Drive Customer Engagement with Targeted Campaigns**\n",
      "\n",
      "Utilizing customer insights, iGaming businesses can craft personalized\n",
      "marketing campaigns that resonate with their audience. By analyzing user\n",
      "behavior and preferences, these platforms enable the creation of content that\n",
      "speaks directly to player interests, significantly boosting engagement levels.\n",
      "This will also make it easier to create content using ChatGPT prompts for\n",
      "instance.\n",
      "\n",
      "### **Boost Customer Loyalty with Personalized Experiences**\n",
      "\n",
      "A customer analytics platform not only tracks customer activity but also aids\n",
      "in creating personalized experiences. By understanding player behavior,\n",
      "companies can reward loyalty through tailored bonuses, promotions, and games,\n",
      "fostering a strong sense of community and loyalty among users.\n",
      "\n",
      "### **Improve Business Decisions with Comprehensive Data Analysis**\n",
      "\n",
      "Data-driven decision-making is at the heart of customer analytics. By offering\n",
      "a holistic view of customer behavior through data points and insights, these\n",
      "tools empower businesses to make informed decisions that align with customer\n",
      "needs and market trends, ensuring long-term success.\n",
      "\n",
      "### **Streamline Customer Success with Predictive Analytics**\n",
      "\n",
      "Predictive models in customer analytics tools forecast future player\n",
      "behaviors, enabling proactive strategies for customer success. This foresight\n",
      "allows for the anticipation of player needs, preemptive support, and\n",
      "personalized offerings that enhance the overall customer experience.\n",
      "\n",
      "### **Innovate with Real-Time Customer Feedback**\n",
      "\n",
      "Harnessing the voice of the customer through experience analytics means\n",
      "businesses can quickly adapt to feedback. Whether it’s adjusting game\n",
      "mechanics or improving service touchpoints, real-time insights ensure that the\n",
      "customer is always at the center of product development and service delivery.\n",
      "\n",
      "_Each of these points showcases how integrating a customer analytics tool into\n",
      "your iGaming business can transform not just the customer experience but also\n",
      "pave the way for operational excellence and sustained growth._\n",
      "\n",
      "## **How to Choose the Right Customer Analytics Software**\n",
      "\n",
      "### **Identify Your Needs and Objectives**\n",
      "\n",
      "Start by defining what you aim to achieve with customer analytics software.\n",
      "Whether it’s enhancing customer experience, reducing customer churn, or\n",
      "increasing customer retention, your goals will guide your choice. Consider the\n",
      "types of customer data you need to collect and analyze, such as transaction\n",
      "histories, website analytics, or customer support interactions. The right tool\n",
      "will align with your objectives and provide actionable insights into customer\n",
      "behavior.\n",
      "\n",
      "### **Evaluate the Tool’s Data Analytics Capabilities**\n",
      "\n",
      "The core of any customer analytics tool is its data analytics capabilities.\n",
      "Look for software that offers deep insights into customer behavior across\n",
      "various channels. This includes text analytics, customer journey analytics,\n",
      "and voice of customer analytics. The ability to visualize customer data\n",
      "through an intuitive analytics dashboard is crucial for interpreting complex\n",
      "data sets and making informed decisions.\n",
      "\n",
      "### **Check for Integration and Compatibility**\n",
      "\n",
      "Your chosen analytics tool should seamlessly integrate with your existing\n",
      "systems and software. This includes CRM platforms, email marketing tools,\n",
      "social media platforms, and any other data sources you use. Integration\n",
      "ensures that you can consolidate data from multiple sources for a\n",
      "comprehensive view of your customer. Additionally, check for compatibility\n",
      "with future software plans to ensure the tool remains useful as your\n",
      "technology stack evolves.\n",
      "\n",
      "### **Consider the Level of Customer Support Offered**\n",
      "\n",
      "Effective customer support from the software provider is vital, especially\n",
      "when deploying a sophisticated analytics solution. Look for providers that\n",
      "offer multiple support channels, such as live chat, email, and phone support.\n",
      "The availability of resources like tutorials, forums, and documentation can\n",
      "also be incredibly beneficial for troubleshooting and maximizing the value of\n",
      "the tool.\n",
      "\n",
      "### **Assess the Tool’s Scalability**\n",
      "\n",
      "As your business grows, your customer analytics needs will evolve. Choose\n",
      "software that can scale with your business. This means considering the\n",
      "software’s capacity to handle increasing volumes of data, as well as its\n",
      "ability to adapt to new types of analyses or integrations. Scalability ensures\n",
      "that your investment remains relevant and supportive of your business\n",
      "objectives over time.\n",
      "\n",
      "### **Explore Reporting and Analytics Features**\n",
      "\n",
      "The best customer analytics tools offer robust reporting and analytics\n",
      "features that allow you to generate detailed reports and gain key customer\n",
      "insights. These features should enable you to track and analyze customer\n",
      "lifetime value, predict future behavior, and measure the impact of specific\n",
      "changes on customer satisfaction and retention. Customizable reports and real-\n",
      "time analytics capabilities are particularly valuable for agile decision-\n",
      "making.\n",
      "\n",
      "### **Look for Personalization and Customer Engagement Features**\n",
      "\n",
      "Personalized customer experiences are key to customer retention and\n",
      "satisfaction. Select a tool that provides advanced segmentation and\n",
      "personalization capabilities, allowing you to tailor experiences based on\n",
      "customer data. Features that enable personalized marketing campaigns, product\n",
      "recommendations, and content can significantly enhance customer engagement and\n",
      "loyalty.\n",
      "\n",
      "### **Security and Compliance Should Be a Priority**\n",
      "\n",
      "In today’s digital age, data security and regulatory compliance cannot be\n",
      "overlooked. Ensure that the customer analytics software adheres to industry\n",
      "standards and regulations, such as GDPR, CCPA, and others relevant to your\n",
      "business. The tool should offer robust data protection features, including\n",
      "data encryption, access controls, and secure data storage, to protect\n",
      "sensitive customer information.\n",
      "\n",
      "## **What are the Features of Best Customer Analytics Tools for iGaming**\n",
      "\n",
      "### **Real-Time Customer Analytics for Instant Insights**\n",
      "\n",
      "Top customer analytics tools provide real-time analytics capabilities,\n",
      "allowing iGaming companies to capture and analyze player actions as they\n",
      "happen. This feature enables immediate identification of trends, preferences,\n",
      "and potential issues, facilitating swift adjustments to gaming experiences.\n",
      "Real-time data is crucial for responding to customer needs and optimizing\n",
      "their experience on the fly.\n",
      "\n",
      "### **Comprehensive Customer Experience Analytics**\n",
      "\n",
      "The best tools in the market excel in customer experience analytics, offering\n",
      "a 360-degree view of the player’s journey. This includes detailed analyses of\n",
      "player interactions, behaviors, and feedback across all touchpoints. By\n",
      "understanding every aspect of the customer experience, iGaming businesses can\n",
      "tailor their offerings to meet player expectations and enhance satisfaction.\n",
      "\n",
      "### **Omnichannel Analytics for a Unified View**\n",
      "\n",
      "Omnichannel analytics is a must-have feature, providing a cohesive view of\n",
      "customer behavior across all channels and platforms. Whether players engage\n",
      "through mobile apps, websites, or social media, these tools track and analyze\n",
      "interactions comprehensively. This unified perspective is vital for creating\n",
      "seamless customer experiences and personalized marketing strategies.\n",
      "\n",
      "### **AI-Powered Customer Insights for Deeper Understanding**\n",
      "\n",
      "AI-powered analytics tools leverage machine learning to deliver deeper\n",
      "insights into customer behavior, preferences, and potential value. These\n",
      "platforms can predict future behaviors, identify high-value customers, and\n",
      "uncover opportunities for engagement and retention. AI-driven analysis offers\n",
      "a strategic advantage in personalizing the gaming experience and maximizing\n",
      "customer lifetime value.\n",
      "\n",
      "### **Advanced Segmentation for Targeted Strategies**\n",
      "\n",
      "Effective customer analytics software provides advanced segmentation\n",
      "capabilities, allowing businesses to categorize players based on behavior,\n",
      "preferences, and value. This enables the creation of targeted marketing\n",
      "campaigns, personalized game recommendations, and tailored rewards programs.\n",
      "Segmentation ensures that every customer feels understood and valued,\n",
      "improving engagement and loyalty.\n",
      "\n",
      "### **User Behavior Analytics to Understand Player Actions**\n",
      "\n",
      "User behavior analytics delve into the specifics of how players interact with\n",
      "games and features. This analysis includes tracking movements, choices, and\n",
      "engagement levels within the game. Insights gained from user behavior\n",
      "analytics help in refining game design, improving user interfaces, and\n",
      "enhancing overall user satisfaction.\n",
      "\n",
      "### **Customer Feedback Collection and Analysis**\n",
      "\n",
      "Collecting and analyzing customer feedback is essential for continuous\n",
      "improvement. The best tools integrate mechanisms for gathering player feedback\n",
      "through surveys, reviews, and social media monitoring. This direct input from\n",
      "players provides invaluable insights into their experiences and expectations,\n",
      "guiding product development companies and their customer service strategies in\n",
      "the right path..\n",
      "\n",
      "### **Predictive Analytics for Future-Proof Strategies**\n",
      "\n",
      "Predictive analytics use historical data to forecast future player behavior\n",
      "and trends. This feature helps iGaming companies anticipate player needs,\n",
      "identify potential churn risks, and devise retention strategies. By\n",
      "understanding what players might do next, businesses can proactively offer\n",
      "personalized experiences and rewards, ensuring ongoing engagement and loyalty.\n",
      "\n",
      "## **Why Google Analytics Might Not Be the Best Fit for iGaming**\n",
      "\n",
      "While Google Analytics (GA) is a powerful tool for website analytics, it may\n",
      "not fully align with the unique needs of the iGaming industry. Here’s why\n",
      "exploring alternatives could be beneficial:\n",
      "\n",
      "  * **Customization and Complexity** : GA offers broad capabilities but may lack the specialized features needed to deeply understand the nuances of iGaming customer behavior and preferences. iGaming requires detailed customer segmentation, product-specific analytics, and real-time data analysis to truly enhance the customer experience and improve retention strategies.  \n",
      "  \n",
      "\n",
      "  * **Real-Time Data and Personalization** : In the fast-paced world of iGaming, having access to real-time data and the ability to personalize content based on user actions is crucial. While GA provides some real-time insights, it may not offer the depth or immediacy iGaming platforms need to dynamically adjust offerings and engage players effectively.  \n",
      "  \n",
      "\n",
      "  * **Focused Product Analytics** : GA is versatile but may not delve deep enough into product analytics specific to iGaming, such as game performance, player engagement with specific features, or in-game behavior patterns. Tools designed specifically for product analytics in the iGaming sector can offer more targeted insights, improving product development and customer satisfaction.  \n",
      "  \n",
      "\n",
      "  * **Regulatory Compliance and Data Privacy** : iGaming operates under strict regulatory requirements, especially concerning data privacy and player protection. Specialized iGaming analytics tools are often better equipped to ensure compliance with these regulations, providing peace of mind and safeguarding player information more effectively.  \n",
      "  \n",
      "\n",
      "  * **Integrations and Specialized Features** : The iGaming industry benefits from analytics tools that integrate seamlessly with gaming platforms, payment systems, and customer support channels. While GA offers some integration capabilities, industry-specific tools might offer more specialized features, such as advanced player lifecycle tracking, churn prediction, and customized reporting tailored to iGaming needs.  \n",
      "  \n",
      "\n",
      "While Google Analytics is a robust and widely used platform, iGaming companies\n",
      "might find that a more specialized analytics tool could better meet their\n",
      "specific requirements for deep customer intelligence, real-time actionability,\n",
      "product optimization, and regulatory compliance. This exploration for the\n",
      "right software should include trials and in-depth analysis to discover the\n",
      "best analytics solution for your team, ensuring it delivers the customer\n",
      "insights you need to drive success in 2024 and beyond.\n",
      "\n",
      "## **Key Takeaways**\n",
      "\n",
      "  * Real-time customer analytics are crucial for adapting to player needs instantly.\n",
      "  * Comprehensive customer experience analytics offer a 360-degree view of the player journey.\n",
      "  * Omnichannel analytics provide a unified view across all player interaction channels to understand your customer.\n",
      "  * AI-powered customer insights enable deeper understanding and predictive capabilities.\n",
      "  * Advanced segmentation facilitates targeted strategies for engagement and retention.\n",
      "  * User behavior analytics are key to understanding and enhancing the gaming experience.\n",
      "  * Collecting and analyzing feedback using the right customer feedback tools directly informs product improvements.\n",
      "  * Predictive analytics help foresee player behavior, aiding in strategic planning to improve customer data collection.\n",
      "  * Google Analytics may not fully meet the specific needs of the iGaming industry.\n",
      "  * Specialized iGaming analytics tools offer more targeted insights and compliance features.\n",
      "\n",
      "## **Conclusion**\n",
      "\n",
      "Choosing the right customer analytics software is essential for iGaming\n",
      "businesses aiming to understand their customers deeply, improve products and\n",
      "services, and ensure player satisfaction and loyalty. While Google Analytics\n",
      "provides a broad overview, specialized tools deliver targeted insights and\n",
      "functionalities that can significantly enhance player experience and business\n",
      "outcomes. Consider taking advantage of free trials to explore which analytics\n",
      "tool for your team best meets your specific needs in 2024. With the right data\n",
      "and insights, you’re well-equipped to make informed decisions and drive your\n",
      "iGaming business forward. Now it’s your turn to discover the best customer\n",
      "analytics software for your iGaming venture. Good luck!\n",
      "\n",
      "## Our Latest Blogs\n",
      "\n",
      "customer experience\n",
      "\n",
      "Jun 10 2024\n",
      "\n",
      "6 min\n",
      "\n",
      "Leveraging Free-to-Play to Enhance Cross-Selling in Online Gambling with John\n",
      "Smith\n",
      "\n",
      "The online gambling market is highly competitive, and operators need to\n",
      "constantly come up with new ways to stay relevant. Free-to-Play (F2P)\n",
      "experiences are a smart strategy in this environment. F2P\n",
      "\n",
      "Read more\n",
      "\n",
      "customer experience\n",
      "\n",
      "Mar 11 2024\n",
      "\n",
      "11 min\n",
      "\n",
      "Gamification-Based Loyalty Strategies: Push vs Pull Marketing\n",
      "\n",
      "Gamified experience is extremely pivotal in distinguishing between push vs\n",
      "pull marketing strategies. How do these approaches integrate into your\n",
      "marketing campaigns to enhance brand loyalty and\n",
      "\n",
      "Read more\n",
      "\n",
      "customer experience\n",
      "\n",
      "Mar 11 2024\n",
      "\n",
      "11 min\n",
      "\n",
      "Customer Analytics Software for iGaming: Get into your Players’ Minds\n",
      "\n",
      "Numbers need to match insights, insights lead to action, and action drives\n",
      "success. In the fast-paced world of iGaming, understanding the player is key\n",
      "to staying ahead. Enter Customer Analytics\n",
      "\n",
      "Read more\n",
      "\n",
      "## Get the latest Updates\n",
      "\n",
      "###\n",
      "\n",
      "\n"
     ]
    }
   ],
   "execution_count": 3
  },
  {
   "metadata": {
    "ExecuteTime": {
     "end_time": "2024-11-26T19:11:43.498962Z",
     "start_time": "2024-11-26T19:11:43.484831Z"
    }
   },
   "cell_type": "code",
   "source": "",
   "id": "3e2833fc612b16fc",
   "outputs": [],
   "execution_count": 29
  },
  {
   "metadata": {
    "ExecuteTime": {
     "end_time": "2024-11-26T19:12:04.959833Z",
     "start_time": "2024-11-26T19:12:04.942418Z"
    }
   },
   "cell_type": "code",
   "source": [
    "# Разделение текста на куски\n",
    "text_chunks = text_splitter.split_text(markdown_text)\n",
    "\n",
    "# Вывод первого куска текста\n",
    "print(\"Первый кусок текста:\")\n",
    "print(text_chunks[0])\n",
    "\n",
    "# Вывод общего количества кусков\n",
    "print(f\"\\nОбщее количество кусков: {len(text_chunks)}\")"
   ],
   "id": "1bf47723e5194304",
   "outputs": [
    {
     "name": "stdout",
     "output_type": "stream",
     "text": [
      "Первый кусок текста:\n",
      "customer experience,  Blog post\n",
      "\n",
      "#  Customer Analytics Software for iGaming: Get into your Players’ Minds\n",
      "\n",
      "by Kinga\n",
      "\n",
      "Mar 11 2024\n",
      "\n",
      "11 min\n",
      "\n",
      "Numbers need to match insights, insights lead to action, and action drives\n",
      "success. In the fast-paced world of iGaming, understanding the player is key\n",
      "to staying ahead. Enter Customer Analytics Software—a game-changer in how you\n",
      "connect with, engage, and retain your players.\n",
      "\n",
      "## **What is Customer Analytics Software?**\n",
      "\n",
      "A customer analytics tool dives deep into your customer data to offer insights\n",
      "on behavior, preferences, and trends, guiding better business decisions.\n",
      "\n",
      "## **Benefits of Using Customer Analytics Software in iGaming**\n",
      "\n",
      "### **Optimize Customer Experience with Data-Driven Insights**\n",
      "\n",
      "Leveraging a customer analytics tool allows iGaming companies to fine-tune the\n",
      "user experience. By analyzing vast amounts of customer data, these tools\n",
      "pinpoint what keeps players coming back. For example, identifying the most\n",
      "popular games or features enables tailored content updates, enhancing customer\n",
      "satisfaction and mobile app retention.\n",
      "\n",
      "### **Enhance Customer Journey Mapping through Analytics**\n",
      "\n",
      "Understanding the customer journey is crucial. An analytics tool like Google\n",
      "Analytics (or GA4) with integrated QR code tracking will track customer\n",
      "interactions from the first click to the last, highlighting areas for\n",
      "improvement. This continuous loop of feedback and action can transform the\n",
      "customer journey, making it more engaging and rewarding.\n",
      "\n",
      "### **Drive Customer Engagement with Targeted Campaigns**\n",
      "\n",
      "Utilizing customer insights, iGaming businesses can craft personalized\n",
      "marketing campaigns that resonate with their audience. By analyzing user\n",
      "behavior and preferences, these platforms enable the creation of content that\n",
      "speaks directly to player interests, significantly boosting engagement levels.\n",
      "This will also make it easier to create content using ChatGPT prompts for\n",
      "instance.\n",
      "\n",
      "### **Boost Customer Loyalty with Personalized Experiences**\n",
      "\n",
      "A customer analytics platform not only tracks customer activity but also aids\n",
      "in creating personalized experiences. By understanding player behavior,\n",
      "companies can reward loyalty through tailored bonuses, promotions, and games,\n",
      "fostering a strong sense of community and loyalty among users.\n",
      "\n",
      "### **Improve Business Decisions with Comprehensive Data Analysis**\n",
      "\n",
      "Data-driven decision-making is at the heart of customer analytics. By offering\n",
      "\n",
      "\n",
      "Общее количество кусков: 8\n"
     ]
    }
   ],
   "execution_count": 30
  },
  {
   "metadata": {
    "ExecuteTime": {
     "end_time": "2024-11-26T19:12:51.287537Z",
     "start_time": "2024-11-26T19:12:51.283215Z"
    }
   },
   "cell_type": "code",
   "source": [
    "def late_chunking(model_output: torch.Tensor, span_annotations: list, max_length=None):\n",
    "    \"\"\"\n",
    "    Агрегирует эмбеддинги токенов на основе аннотаций о чанках.\n",
    "\n",
    "    :param model_output: Эмбеддинги токенов, полученные от модели (shape: [batch_size, seq_length, hidden_size])\n",
    "    :param span_annotations: Список кортежей с позициями чанков [(start1, end1), (start2, end2), ...]\n",
    "    :param max_length: Максимальная длина для ограничения чанков\n",
    "    :return: Список агрегированных эмбеддингов для каждого чанка\n",
    "    \"\"\"\n",
    "    token_embeddings = model_output.last_hidden_state  # shape: [batch_size, seq_length, hidden_size]\n",
    "    outputs = []\n",
    "    for batch in token_embeddings:\n",
    "        pooled_embeddings = []\n",
    "        for start, end in span_annotations:\n",
    "            if max_length is not None:\n",
    "                end = min(end, max_length - 1)\n",
    "            if start < end:\n",
    "                # Среднее по токенам в чанке\n",
    "                pooled = batch[start:end].mean(dim=0)\n",
    "                pooled_embeddings.append(pooled.detach().cpu().numpy())\n",
    "        outputs.append(pooled_embeddings)\n",
    "    return outputs\n"
   ],
   "id": "9695540317079e43",
   "outputs": [],
   "execution_count": 32
  },
  {
   "metadata": {
    "ExecuteTime": {
     "end_time": "2024-11-26T19:14:59.949485Z",
     "start_time": "2024-11-26T19:14:49.077079Z"
    }
   },
   "cell_type": "code",
   "source": [
    "# Определение функции для расчета косинусного сходства\n",
    "cos_sim = lambda x, y: np.dot(x, y) / (np.linalg.norm(x) * np.linalg.norm(y))\n",
    "\n",
    "# Пример входного текста для сравнения\n",
    "input_text = \"Segmentation\"\n",
    "\n",
    "# Получение эмбеддинга для входного текста\n",
    "with torch.no_grad():\n",
    "    inputs = tokenizer(input_text, return_tensors='pt')\n",
    "    model_output = model(**inputs)\n",
    "    berlin_embedding = model_output.last_hidden_state.mean(dim=1).squeeze().detach().cpu().numpy()\n",
    "\n",
    "# Подготовка span_annotations для late_chunking\n",
    "# Предполагаем, что каждый chunk соответствует одному span\n",
    "span_annotations = []\n",
    "current_token = 0\n",
    "for chunk in text_chunks:\n",
    "    encoded = tokenizer(chunk, return_tensors='pt')\n",
    "    num_tokens = encoded.input_ids.shape[1]\n",
    "    span_annotations.append((current_token, current_token + num_tokens))\n",
    "    current_token += num_tokens\n",
    "\n",
    "# Объединение всех кусков в один текст для батчевой обработки\n",
    "batch_text = \" \".join(text_chunks)\n",
    "with torch.no_grad():\n",
    "    inputs = tokenizer(batch_text, return_tensors='pt')\n",
    "    model_output = model(**inputs)\n",
    "\n",
    "# Применение late_chunking\n",
    "embeddings = late_chunking(model_output, span_annotations, max_length=8000)"
   ],
   "id": "441ac7272662d814",
   "outputs": [],
   "execution_count": 37
  },
  {
   "metadata": {
    "ExecuteTime": {
     "end_time": "2024-11-26T19:14:59.964923Z",
     "start_time": "2024-11-26T19:14:59.950254Z"
    }
   },
   "cell_type": "code",
   "source": [
    "# Расчет сходства для каждого куска\n",
    "for i, (chunk, new_embedding) in enumerate(zip(text_chunks, embeddings)):\n",
    "    similarity = cos_sim(berlin_embedding, new_embedding)\n",
    "    print(f'Сходство с \"Segmentation\" для куска {i+1}: {similarity:.4f}')\n"
   ],
   "id": "9f9dae9e7a818e7f",
   "outputs": [
    {
     "name": "stdout",
     "output_type": "stream",
     "text": [
      "Сходство с \"Segmentation\" для куска 1: 0.4354\n",
      "Сходство с \"Segmentation\" для куска 2: 0.3763\n",
      "Сходство с \"Segmentation\" для куска 3: 0.3714\n",
      "Сходство с \"Segmentation\" для куска 4: 0.3798\n",
      "Сходство с \"Segmentation\" для куска 5: 0.3812\n",
      "Сходство с \"Segmentation\" для куска 6: 0.3856\n",
      "Сходство с \"Segmentation\" для куска 7: 0.4122\n",
      "Сходство с \"Segmentation\" для куска 8: 0.4273\n"
     ]
    }
   ],
   "execution_count": 38
  },
  {
   "metadata": {
    "ExecuteTime": {
     "end_time": "2024-11-26T19:30:26.671197Z",
     "start_time": "2024-11-26T19:30:26.653215Z"
    }
   },
   "cell_type": "code",
   "source": "embeddings",
   "id": "5e3293eed71a9d18",
   "outputs": [
    {
     "data": {
      "text/plain": [
       "[array([-0.44218436, -0.3437931 , -0.92952126, ..., -0.63875145,\n",
       "        -0.5923686 , -0.26145285], dtype=float32),\n",
       " array([-0.29643717, -0.29503995, -0.99722856, ..., -0.74367833,\n",
       "        -0.49510983, -0.29981682], dtype=float32),\n",
       " array([-0.29278722, -0.2991885 , -1.0189453 , ..., -0.7594174 ,\n",
       "        -0.47296345, -0.31044397], dtype=float32),\n",
       " array([-0.3068815 , -0.30437914, -0.9925017 , ..., -0.7442693 ,\n",
       "        -0.4946214 , -0.30506536], dtype=float32),\n",
       " array([-0.31434178, -0.3186733 , -1.023912  , ..., -0.7444819 ,\n",
       "        -0.4683653 , -0.31423634], dtype=float32),\n",
       " array([-0.30990943, -0.30388755, -1.0043858 , ..., -0.7239653 ,\n",
       "        -0.49466226, -0.29954377], dtype=float32),\n",
       " array([-0.36696744, -0.32530916, -0.95352155, ..., -0.6793049 ,\n",
       "        -0.55620176, -0.3017941 ], dtype=float32),\n",
       " array([-0.41542438, -0.35679534, -0.8776944 , ..., -0.65853804,\n",
       "        -0.5845441 , -0.31110787], dtype=float32)]"
      ]
     },
     "execution_count": 42,
     "metadata": {},
     "output_type": "execute_result"
    }
   ],
   "execution_count": 42
  },
  {
   "metadata": {
    "ExecuteTime": {
     "end_time": "2024-11-26T19:33:03.873661Z",
     "start_time": "2024-11-26T19:33:03.856524Z"
    }
   },
   "cell_type": "code",
   "source": "len(text_chunks), len(embeddings)",
   "id": "7a886c7e4f2e3e43",
   "outputs": [
    {
     "data": {
      "text/plain": [
       "(8, 8)"
      ]
     },
     "execution_count": 43,
     "metadata": {},
     "output_type": "execute_result"
    }
   ],
   "execution_count": 43
  },
  {
   "metadata": {
    "ExecuteTime": {
     "end_time": "2024-11-27T01:33:04.154054Z",
     "start_time": "2024-11-27T01:33:04.139337Z"
    }
   },
   "cell_type": "code",
   "source": "type(embeddings[0])",
   "id": "1562947257a083c9",
   "outputs": [
    {
     "data": {
      "text/plain": [
       "numpy.ndarray"
      ]
     },
     "execution_count": 50,
     "metadata": {},
     "output_type": "execute_result"
    }
   ],
   "execution_count": 50
  },
  {
   "metadata": {},
   "cell_type": "code",
   "outputs": [],
   "execution_count": null,
   "source": "",
   "id": "7fdb31cfc7861834"
  },
  {
   "metadata": {},
   "cell_type": "code",
   "outputs": [],
   "execution_count": null,
   "source": "",
   "id": "ddc476fd0aa75afe"
  },
  {
   "metadata": {
    "ExecuteTime": {
     "end_time": "2024-11-27T01:49:00.326574Z",
     "start_time": "2024-11-27T01:49:00.323066Z"
    }
   },
   "cell_type": "code",
   "source": "from late_chunkning import process_large_text, model, tokenizer",
   "id": "b4ac6af62938ee55",
   "outputs": [],
   "execution_count": 22
  },
  {
   "metadata": {},
   "cell_type": "code",
   "outputs": [],
   "execution_count": null,
   "source": "url = \"https://www.xtremepush.com/blog/customer-analytics-software-for-igaming\"",
   "id": "52c8731dab108c66"
  },
  {
   "metadata": {
    "ExecuteTime": {
     "end_time": "2024-11-27T01:42:02.451348Z",
     "start_time": "2024-11-27T01:41:51.692958Z"
    }
   },
   "cell_type": "code",
   "source": "all_chunks, all_embeddings = process_large_text(markdown_text)",
   "id": "dbf50df4728a27cd",
   "outputs": [],
   "execution_count": 5
  },
  {
   "metadata": {
    "ExecuteTime": {
     "end_time": "2024-11-27T01:42:02.466214Z",
     "start_time": "2024-11-27T01:42:02.452299Z"
    }
   },
   "cell_type": "code",
   "source": "all_chunks",
   "id": "55dac4cdeec2670f",
   "outputs": [
    {
     "data": {
      "text/plain": [
       "['customer experience,  Blog post\\n\\n#  Customer Analytics Software for iGaming: Get into your Players’ Minds\\n\\nby Kinga\\n\\nMar 11 2024\\n\\n11 min\\n\\nNumbers need to match insights, insights lead to action, and action drives\\nsuccess. In the fast-paced world of iGaming, understanding the player is key\\nto staying ahead. Enter Customer Analytics Software—a game-changer in how you\\nconnect with, engage, and retain your players.\\n\\n## **What is Customer Analytics Software?**\\n\\nA customer analytics tool dives deep into your customer data to offer insights\\non behavior, preferences, and trends, guiding better business decisions.\\n\\n## **Benefits of Using Customer Analytics Software in iGaming**\\n\\n### **Optimize Customer Experience with Data-Driven Insights**\\n\\nLeveraging a customer analytics tool allows iGaming companies to fine-tune the\\nuser experience. By analyzing vast amounts of customer data, these tools\\npinpoint what keeps players coming back. For example, identifying the most\\npopular games or features enables tailored content updates, enhancing customer\\nsatisfaction and mobile app retention.\\n\\n### **Enhance Customer Journey Mapping through Analytics**\\n\\nUnderstanding the customer journey is crucial. An analytics tool like Google\\nAnalytics (or GA4) with integrated QR code tracking will track customer\\ninteractions from the first click to the last, highlighting areas for\\nimprovement. This continuous loop of feedback and action can transform the\\ncustomer journey, making it more engaging and rewarding.\\n\\n### **Drive Customer Engagement with Targeted Campaigns**\\n\\nUtilizing customer insights, iGaming businesses can craft personalized\\nmarketing campaigns that resonate with their audience. By analyzing user\\nbehavior and preferences, these platforms enable the creation of content that\\nspeaks directly to player interests, significantly boosting engagement levels.\\nThis will also make it easier to create content using ChatGPT prompts for\\ninstance.\\n\\n### **Boost Customer Loyalty with Personalized Experiences**\\n\\nA customer analytics platform not only tracks customer activity but also aids\\nin creating personalized experiences. By understanding player behavior,\\ncompanies can reward loyalty through tailored bonuses, promotions, and games,\\nfostering a strong sense of community and loyalty among users.\\n\\n### **Improve Business Decisions with Comprehensive Data Analysis**\\n\\nData-driven decision-making is at the heart of customer analytics. By offering\\n',\n",
       " ' player behavior,\\ncompanies can reward loyalty through tailored bonuses, promotions, and games,\\nfostering a strong sense of community and loyalty among users.\\n\\n### **Improve Business Decisions with Comprehensive Data Analysis**\\n\\nData-driven decision-making is at the heart of customer analytics. By offering\\na holistic view of customer behavior through data points and insights, these\\ntools empower businesses to make informed decisions that align with customer\\nneeds and market trends, ensuring long-term success.\\n\\n### **Streamline Customer Success with Predictive Analytics**\\n\\nPredictive models in customer analytics tools forecast future player\\nbehaviors, enabling proactive strategies for customer success. This foresight\\nallows for the anticipation of player needs, preemptive support, and\\npersonalized offerings that enhance the overall customer experience.\\n\\n### **Innovate with Real-Time Customer Feedback**\\n\\nHarnessing the voice of the customer through experience analytics means\\nbusinesses can quickly adapt to feedback. Whether it’s adjusting game\\nmechanics or improving service touchpoints, real-time insights ensure that the\\ncustomer is always at the center of product development and service delivery.\\n\\n_Each of these points showcases how integrating a customer analytics tool into\\nyour iGaming business can transform not just the customer experience but also\\npave the way for operational excellence and sustained growth._\\n\\n## **How to Choose the Right Customer Analytics Software**\\n\\n### **Identify Your Needs and Objectives**\\n\\nStart by defining what you aim to achieve with customer analytics software.\\nWhether it’s enhancing customer experience, reducing customer churn, or\\nincreasing customer retention, your goals will guide your choice. Consider the\\ntypes of customer data you need to collect and analyze, such as transaction\\nhistories, website analytics, or customer support interactions. The right tool\\nwill align with your objectives and provide actionable insights into customer\\nbehavior.\\n\\n### **Evaluate the Tool’s Data Analytics Capabilities**\\n\\nThe core of any customer analytics tool is its data analytics capabilities.\\nLook for software that offers deep insights into customer behavior across\\nvarious channels. This includes text analytics, customer journey analytics,\\nand voice of customer analytics. The ability to visualize customer data\\nthrough an intuitive analytics dashboard is crucial for interpreting complex\\ndata sets and making informed decisions.\\n\\n### **Check for Integration and Compatibility**\\n\\nYour chosen analytics tool should seamlessly integrate with your existing\\n',\n",
       " ' This includes text analytics, customer journey analytics,\\nand voice of customer analytics. The ability to visualize customer data\\nthrough an intuitive analytics dashboard is crucial for interpreting complex\\ndata sets and making informed decisions.\\n\\n### **Check for Integration and Compatibility**\\n\\nYour chosen analytics tool should seamlessly integrate with your existing\\nsystems and software. This includes CRM platforms, email marketing tools,\\nsocial media platforms, and any other data sources you use. Integration\\nensures that you can consolidate data from multiple sources for a\\ncomprehensive view of your customer. Additionally, check for compatibility\\nwith future software plans to ensure the tool remains useful as your\\ntechnology stack evolves.\\n\\n### **Consider the Level of Customer Support Offered**\\n\\nEffective customer support from the software provider is vital, especially\\nwhen deploying a sophisticated analytics solution. Look for providers that\\noffer multiple support channels, such as live chat, email, and phone support.\\nThe availability of resources like tutorials, forums, and documentation can\\nalso be incredibly beneficial for troubleshooting and maximizing the value of\\nthe tool.\\n\\n### **Assess the Tool’s Scalability**\\n\\nAs your business grows, your customer analytics needs will evolve. Choose\\nsoftware that can scale with your business. This means considering the\\nsoftware’s capacity to handle increasing volumes of data, as well as its\\nability to adapt to new types of analyses or integrations. Scalability ensures\\nthat your investment remains relevant and supportive of your business\\nobjectives over time.\\n\\n### **Explore Reporting and Analytics Features**\\n\\nThe best customer analytics tools offer robust reporting and analytics\\nfeatures that allow you to generate detailed reports and gain key customer\\ninsights. These features should enable you to track and analyze customer\\nlifetime value, predict future behavior, and measure the impact of specific\\nchanges on customer satisfaction and retention. Customizable reports and real-\\ntime analytics capabilities are particularly valuable for agile decision-\\nmaking.\\n\\n### **Look for Personalization and Customer Engagement Features**\\n\\nPersonalized customer experiences are key to customer retention and\\nsatisfaction. Select a tool that provides advanced segmentation and\\npersonalization capabilities, allowing you to tailor experiences based on\\ncustomer data. Features that enable personalized marketing campaigns, product\\nrecommendations, and content can significantly enhance customer engagement and\\nloyalty.\\n\\n### **Security and Compliance Should Be a Priority**\\n\\nIn today’s digital age',\n",
       " '\\npersonalization capabilities, allowing you to tailor experiences based on\\ncustomer data. Features that enable personalized marketing campaigns, product\\nrecommendations, and content can significantly enhance customer engagement and\\nloyalty.\\n\\n### **Security and Compliance Should Be a Priority**\\n\\nIn today’s digital age, data security and regulatory compliance cannot be\\noverlooked. Ensure that the customer analytics software adheres to industry\\nstandards and regulations, such as GDPR, CCPA, and others relevant to your\\nbusiness. The tool should offer robust data protection features, including\\ndata encryption, access controls, and secure data storage, to protect\\nsensitive customer information.\\n\\n## **What are the Features of Best Customer Analytics Tools for iGaming**\\n\\n### **Real-Time Customer Analytics for Instant Insights**\\n\\nTop customer analytics tools provide real-time analytics capabilities,\\nallowing iGaming companies to capture and analyze player actions as they\\nhappen. This feature enables immediate identification of trends, preferences,\\nand potential issues, facilitating swift adjustments to gaming experiences.\\nReal-time data is crucial for responding to customer needs and optimizing\\ntheir experience on the fly.\\n\\n### **Comprehensive Customer Experience Analytics**\\n\\nThe best tools in the market excel in customer experience analytics, offering\\na 360-degree view of the player’s journey. This includes detailed analyses of\\nplayer interactions, behaviors, and feedback across all touchpoints. By\\nunderstanding every aspect of the customer experience, iGaming businesses can\\ntailor their offerings to meet player expectations and enhance satisfaction.\\n\\n### **Omnichannel Analytics for a Unified View**\\n\\nOmnichannel analytics is a must-have feature, providing a cohesive view of\\ncustomer behavior across all channels and platforms. Whether players engage\\nthrough mobile apps, websites, or social media, these tools track and analyze\\ninteractions comprehensively. This unified perspective is vital for creating\\nseamless customer experiences and personalized marketing strategies.\\n\\n### **AI-Powered Customer Insights for Deeper Understanding**\\n\\nAI-powered analytics tools leverage machine learning to deliver deeper\\ninsights into customer behavior, preferences, and potential value. These\\nplatforms can predict future behaviors, identify high-value customers, and\\nuncover opportunities for engagement and retention. AI-driven analysis offers\\na strategic advantage in personalizing the gaming experience and maximizing\\ncustomer lifetime value.\\n\\n### **Advanced Segment',\n",
       " ' customer behavior, preferences, and potential value. These\\nplatforms can predict future behaviors, identify high-value customers, and\\nuncover opportunities for engagement and retention. AI-driven analysis offers\\na strategic advantage in personalizing the gaming experience and maximizing\\ncustomer lifetime value.\\n\\n### **Advanced Segmentation for Targeted Strategies**\\n\\nEffective customer analytics software provides advanced segmentation\\ncapabilities, allowing businesses to categorize players based on behavior,\\npreferences, and value. This enables the creation of targeted marketing\\ncampaigns, personalized game recommendations, and tailored rewards programs.\\nSegmentation ensures that every customer feels understood and valued,\\nimproving engagement and loyalty.\\n\\n### **User Behavior Analytics to Understand Player Actions**\\n\\nUser behavior analytics delve into the specifics of how players interact with\\ngames and features. This analysis includes tracking movements, choices, and\\nengagement levels within the game. Insights gained from user behavior\\nanalytics help in refining game design, improving user interfaces, and\\nenhancing overall user satisfaction.\\n\\n### **Customer Feedback Collection and Analysis**\\n\\nCollecting and analyzing customer feedback is essential for continuous\\nimprovement. The best tools integrate mechanisms for gathering player feedback\\nthrough surveys, reviews, and social media monitoring. This direct input from\\nplayers provides invaluable insights into their experiences and expectations,\\nguiding product development companies and their customer service strategies in\\nthe right path..\\n\\n### **Predictive Analytics for Future-Proof Strategies**\\n\\nPredictive analytics use historical data to forecast future player behavior\\nand trends. This feature helps iGaming companies anticipate player needs,\\nidentify potential churn risks, and devise retention strategies. By\\nunderstanding what players might do next, businesses can proactively offer\\npersonalized experiences and rewards, ensuring ongoing engagement and loyalty.\\n\\n## **Why Google Analytics Might Not Be the Best Fit for iGaming**\\n\\nWhile Google Analytics (GA) is a powerful tool for website analytics, it may\\nnot fully align with the unique needs of the iGaming industry. Here’s why\\nexploring alternatives could be beneficial:\\n\\n  * **Customization and Complexity** : GA offers broad capabilities but may lack the specialized features needed to deeply understand the nuances of iGaming customer behavior and preferences. iGaming requires detailed customer segmentation, product-specific analytics, and real-time data analysis to truly enhance the customer experience and improve retention strategies.  \\n  \\n\\n  * **',\n",
       " ' : GA offers broad capabilities but may lack the specialized features needed to deeply understand the nuances of iGaming customer behavior and preferences. iGaming requires detailed customer segmentation, product-specific analytics, and real-time data analysis to truly enhance the customer experience and improve retention strategies.  \\n  \\n\\n  * **Real-Time Data and Personalization** : In the fast-paced world of iGaming, having access to real-time data and the ability to personalize content based on user actions is crucial. While GA provides some real-time insights, it may not offer the depth or immediacy iGaming platforms need to dynamically adjust offerings and engage players effectively.  \\n  \\n\\n  * **Focused Product Analytics** : GA is versatile but may not delve deep enough into product analytics specific to iGaming, such as game performance, player engagement with specific features, or in-game behavior patterns. Tools designed specifically for product analytics in the iGaming sector can offer more targeted insights, improving product development and customer satisfaction.  \\n  \\n\\n  * **Regulatory Compliance and Data Privacy** : iGaming operates under strict regulatory requirements, especially concerning data privacy and player protection. Specialized iGaming analytics tools are often better equipped to ensure compliance with these regulations, providing peace of mind and safeguarding player information more effectively.  \\n  \\n\\n  * **Integrations and Specialized Features** : The iGaming industry benefits from analytics tools that integrate seamlessly with gaming platforms, payment systems, and customer support channels. While GA offers some integration capabilities, industry-specific tools might offer more specialized features, such as advanced player lifecycle tracking, churn prediction, and customized reporting tailored to iGaming needs.  \\n  \\n\\nWhile Google Analytics is a robust and widely used platform, iGaming companies\\nmight find that a more specialized analytics tool could better meet their\\nspecific requirements for deep customer intelligence, real-time actionability,\\nproduct optimization, and regulatory compliance. This exploration for the\\nright software should include trials and in-depth analysis to discover the\\nbest analytics solution for your team, ensuring it delivers the customer\\ninsights you need to drive success in 2024 and beyond.\\n\\n## **Key Takeaways**\\n\\n  * Real-time customer analytics are crucial for adapting to player needs instantly.\\n  * Comprehensive customer experience analytics offer a 360-degree view of the player journey.\\n  * Omnichannel analytics provide a unified view across all player interaction channels to understand your customer.',\n",
       " '\\n\\n## **Key Takeaways**\\n\\n  * Real-time customer analytics are crucial for adapting to player needs instantly.\\n  * Comprehensive customer experience analytics offer a 360-degree view of the player journey.\\n  * Omnichannel analytics provide a unified view across all player interaction channels to understand your customer.\\n  * AI-powered customer insights enable deeper understanding and predictive capabilities.\\n  * Advanced segmentation facilitates targeted strategies for engagement and retention.\\n  * User behavior analytics are key to understanding and enhancing the gaming experience.\\n  * Collecting and analyzing feedback using the right customer feedback tools directly informs product improvements.\\n  * Predictive analytics help foresee player behavior, aiding in strategic planning to improve customer data collection.\\n  * Google Analytics may not fully meet the specific needs of the iGaming industry.\\n  * Specialized iGaming analytics tools offer more targeted insights and compliance features.\\n\\n## **Conclusion**\\n\\nChoosing the right customer analytics software is essential for iGaming\\nbusinesses aiming to understand their customers deeply, improve products and\\nservices, and ensure player satisfaction and loyalty. While Google Analytics\\nprovides a broad overview, specialized tools deliver targeted insights and\\nfunctionalities that can significantly enhance player experience and business\\noutcomes. Consider taking advantage of free trials to explore which analytics\\ntool for your team best meets your specific needs in 2024. With the right data\\nand insights, you’re well-equipped to make informed decisions and drive your\\niGaming business forward. Now it’s your turn to discover the best customer\\nanalytics software for your iGaming venture. Good luck!\\n\\n## Our Latest Blogs\\n\\ncustomer experience\\n\\nJun 10 2024\\n\\n6 min\\n\\nLeveraging Free-to-Play to Enhance Cross-Selling in Online Gambling with John\\nSmith\\n\\nThe online gambling market is highly competitive, and operators need to\\nconstantly come up with new ways to stay relevant. Free-to-Play (F2P)\\nexperiences are a smart strategy in this environment. F2P\\n\\nRead more\\n\\ncustomer experience\\n\\nMar 11 2024\\n\\n11 min\\n\\nGamification-Based Loyalty Strategies: Push vs Pull Marketing\\n\\nGamified experience is extremely pivotal in distinguishing between push vs\\npull marketing strategies. How do these approaches integrate into your\\nmarketing campaigns to enhance brand loyalty and\\n\\nRead more\\n\\ncustomer experience\\n\\nMar 11 2024\\n\\n11',\n",
       " '\\nGamification-Based Loyalty Strategies: Push vs Pull Marketing\\n\\nGamified experience is extremely pivotal in distinguishing between push vs\\npull marketing strategies. How do these approaches integrate into your\\nmarketing campaigns to enhance brand loyalty and\\n\\nRead more\\n\\ncustomer experience\\n\\nMar 11 2024\\n\\n11 min\\n\\nCustomer Analytics Software for iGaming: Get into your Players’ Minds\\n\\nNumbers need to match insights, insights lead to action, and action drives\\nsuccess. In the fast-paced world of iGaming, understanding the player is key\\nto staying ahead. Enter Customer Analytics\\n\\nRead more\\n\\n## Get the latest Updates\\n\\n###\\n\\n']"
      ]
     },
     "execution_count": 6,
     "metadata": {},
     "output_type": "execute_result"
    }
   ],
   "execution_count": 6
  },
  {
   "metadata": {
    "ExecuteTime": {
     "end_time": "2024-11-27T01:42:02.481610Z",
     "start_time": "2024-11-27T01:42:02.467721Z"
    }
   },
   "cell_type": "code",
   "source": "len(all_chunks)",
   "id": "ccde5f986ebfd146",
   "outputs": [
    {
     "data": {
      "text/plain": [
       "8"
      ]
     },
     "execution_count": 7,
     "metadata": {},
     "output_type": "execute_result"
    }
   ],
   "execution_count": 7
  },
  {
   "metadata": {
    "ExecuteTime": {
     "end_time": "2024-11-27T01:42:02.496985Z",
     "start_time": "2024-11-27T01:42:02.482114Z"
    }
   },
   "cell_type": "code",
   "source": "len(all_embeddings)",
   "id": "87f49c97bfd6d554",
   "outputs": [
    {
     "data": {
      "text/plain": [
       "8"
      ]
     },
     "execution_count": 8,
     "metadata": {},
     "output_type": "execute_result"
    }
   ],
   "execution_count": 8
  },
  {
   "metadata": {
    "ExecuteTime": {
     "end_time": "2024-11-27T01:52:51.140612Z",
     "start_time": "2024-11-27T01:52:51.136454Z"
    }
   },
   "cell_type": "code",
   "source": "all_embeddings[0].shape",
   "id": "a8a6647dbecce3c4",
   "outputs": [
    {
     "data": {
      "text/plain": [
       "(1024,)"
      ]
     },
     "execution_count": 37,
     "metadata": {},
     "output_type": "execute_result"
    }
   ],
   "execution_count": 37
  },
  {
   "metadata": {
    "ExecuteTime": {
     "end_time": "2024-11-27T01:42:02.840164Z",
     "start_time": "2024-11-27T01:42:02.513724Z"
    }
   },
   "cell_type": "code",
   "source": [
    "import chromadb\n",
    "\n",
    "chroma_client = chromadb.HttpClient(host='localhost', port=8027)"
   ],
   "id": "a568234aa4523ebc",
   "outputs": [],
   "execution_count": 10
  },
  {
   "metadata": {
    "ExecuteTime": {
     "end_time": "2024-11-27T01:42:02.902141Z",
     "start_time": "2024-11-27T01:42:02.840670Z"
    }
   },
   "cell_type": "code",
   "source": "collection = chroma_client.get_or_create_collection(name=\"test\")",
   "id": "5199464bc7306aa8",
   "outputs": [],
   "execution_count": 11
  },
  {
   "metadata": {
    "ExecuteTime": {
     "end_time": "2024-11-27T01:43:15.348958Z",
     "start_time": "2024-11-27T01:43:15.067501Z"
    }
   },
   "cell_type": "code",
   "source": [
    "start = collection.count()\n",
    "\n",
    "collection.add(\n",
    "    documents=all_chunks,\n",
    "    embeddings=all_embeddings,\n",
    "    metadatas=[{\"url\": url} for _ in all_chunks],\n",
    "    ids=[str(i) for i in range(start, start + len(all_chunks))]\n",
    ")"
   ],
   "id": "1cccd552e9b74866",
   "outputs": [],
   "execution_count": 17
  },
  {
   "metadata": {
    "ExecuteTime": {
     "end_time": "2024-11-27T01:43:15.412767Z",
     "start_time": "2024-11-27T01:43:15.396697Z"
    }
   },
   "cell_type": "code",
   "source": "dir(collection)",
   "id": "e4557b00de1848b0",
   "outputs": [
    {
     "data": {
      "text/plain": [
       "['__annotations__',\n",
       " '__class__',\n",
       " '__class_getitem__',\n",
       " '__delattr__',\n",
       " '__dict__',\n",
       " '__dir__',\n",
       " '__doc__',\n",
       " '__eq__',\n",
       " '__format__',\n",
       " '__ge__',\n",
       " '__getattribute__',\n",
       " '__gt__',\n",
       " '__hash__',\n",
       " '__init__',\n",
       " '__init_subclass__',\n",
       " '__le__',\n",
       " '__lt__',\n",
       " '__module__',\n",
       " '__ne__',\n",
       " '__new__',\n",
       " '__orig_bases__',\n",
       " '__parameters__',\n",
       " '__reduce__',\n",
       " '__reduce_ex__',\n",
       " '__repr__',\n",
       " '__setattr__',\n",
       " '__sizeof__',\n",
       " '__slots__',\n",
       " '__str__',\n",
       " '__subclasshook__',\n",
       " '__weakref__',\n",
       " '_client',\n",
       " '_data_loader',\n",
       " '_embed',\n",
       " '_embed_record_set',\n",
       " '_embedding_function',\n",
       " '_is_protocol',\n",
       " '_model',\n",
       " '_transform_get_response',\n",
       " '_transform_peek_response',\n",
       " '_transform_query_response',\n",
       " '_update_model_after_modify_success',\n",
       " '_validate_and_prepare_add_request',\n",
       " '_validate_and_prepare_delete_request',\n",
       " '_validate_and_prepare_get_request',\n",
       " '_validate_and_prepare_query_request',\n",
       " '_validate_and_prepare_update_request',\n",
       " '_validate_and_prepare_upsert_request',\n",
       " '_validate_modify_request',\n",
       " 'add',\n",
       " 'configuration_json',\n",
       " 'count',\n",
       " 'database',\n",
       " 'delete',\n",
       " 'get',\n",
       " 'get_model',\n",
       " 'id',\n",
       " 'metadata',\n",
       " 'modify',\n",
       " 'name',\n",
       " 'peek',\n",
       " 'query',\n",
       " 'tenant',\n",
       " 'update',\n",
       " 'upsert']"
      ]
     },
     "execution_count": 18,
     "metadata": {},
     "output_type": "execute_result"
    }
   ],
   "execution_count": 18
  },
  {
   "metadata": {
    "ExecuteTime": {
     "end_time": "2024-11-27T01:43:15.628134Z",
     "start_time": "2024-11-27T01:43:15.618091Z"
    }
   },
   "cell_type": "code",
   "source": "collection.count()",
   "id": "dc133abb6db5f684",
   "outputs": [
    {
     "data": {
      "text/plain": [
       "16"
      ]
     },
     "execution_count": 19,
     "metadata": {},
     "output_type": "execute_result"
    }
   ],
   "execution_count": 19
  },
  {
   "metadata": {
    "ExecuteTime": {
     "end_time": "2024-11-27T01:45:51.340947Z",
     "start_time": "2024-11-27T01:45:41.863521Z"
    }
   },
   "cell_type": "code",
   "source": [
    "query_results = collection.query(\n",
    "    query_texts=[\"Find me some delicious food!\"],\n",
    "    n_results=4\n",
    ")"
   ],
   "id": "7608303c8d164486",
   "outputs": [
    {
     "name": "stderr",
     "output_type": "stream",
     "text": [
      "C:\\Users\\user\\.cache\\chroma\\onnx_models\\all-MiniLM-L6-v2\\onnx.tar.gz: 100%|██████████| 79.3M/79.3M [00:07<00:00, 10.9MiB/s]\n"
     ]
    },
    {
     "ename": "InvalidDimensionException",
     "evalue": "Embedding dimension 384 does not match collection dimensionality 1024",
     "output_type": "error",
     "traceback": [
      "\u001B[1;31m---------------------------------------------------------------------------\u001B[0m",
      "\u001B[1;31mInvalidDimensionException\u001B[0m                 Traceback (most recent call last)",
      "Cell \u001B[1;32mIn[20], line 1\u001B[0m\n\u001B[1;32m----> 1\u001B[0m query_results \u001B[38;5;241m=\u001B[39m \u001B[43mcollection\u001B[49m\u001B[38;5;241;43m.\u001B[39;49m\u001B[43mquery\u001B[49m\u001B[43m(\u001B[49m\n\u001B[0;32m      2\u001B[0m \u001B[43m    \u001B[49m\u001B[43mquery_texts\u001B[49m\u001B[38;5;241;43m=\u001B[39;49m\u001B[43m[\u001B[49m\u001B[38;5;124;43m\"\u001B[39;49m\u001B[38;5;124;43mFind me some delicious food!\u001B[39;49m\u001B[38;5;124;43m\"\u001B[39;49m\u001B[43m]\u001B[49m\u001B[43m,\u001B[49m\n\u001B[0;32m      3\u001B[0m \u001B[43m    \u001B[49m\u001B[43mn_results\u001B[49m\u001B[38;5;241;43m=\u001B[39;49m\u001B[38;5;241;43m4\u001B[39;49m\n\u001B[0;32m      4\u001B[0m \u001B[43m)\u001B[49m\n",
      "File \u001B[1;32m~\\AppData\\Local\\Programs\\Python\\Python39\\lib\\site-packages\\chromadb\\api\\models\\Collection.py:221\u001B[0m, in \u001B[0;36mCollection.query\u001B[1;34m(self, query_embeddings, query_texts, query_images, query_uris, n_results, where, where_document, include)\u001B[0m\n\u001B[0;32m    187\u001B[0m \u001B[38;5;250m\u001B[39m\u001B[38;5;124;03m\"\"\"Get the n_results nearest neighbor embeddings for provided query_embeddings or query_texts.\u001B[39;00m\n\u001B[0;32m    188\u001B[0m \n\u001B[0;32m    189\u001B[0m \u001B[38;5;124;03mArgs:\u001B[39;00m\n\u001B[1;32m   (...)\u001B[0m\n\u001B[0;32m    207\u001B[0m \n\u001B[0;32m    208\u001B[0m \u001B[38;5;124;03m\"\"\"\u001B[39;00m\n\u001B[0;32m    210\u001B[0m query_request \u001B[38;5;241m=\u001B[39m \u001B[38;5;28mself\u001B[39m\u001B[38;5;241m.\u001B[39m_validate_and_prepare_query_request(\n\u001B[0;32m    211\u001B[0m     query_embeddings\u001B[38;5;241m=\u001B[39mquery_embeddings,\n\u001B[0;32m    212\u001B[0m     query_texts\u001B[38;5;241m=\u001B[39mquery_texts,\n\u001B[1;32m   (...)\u001B[0m\n\u001B[0;32m    218\u001B[0m     include\u001B[38;5;241m=\u001B[39minclude,\n\u001B[0;32m    219\u001B[0m )\n\u001B[1;32m--> 221\u001B[0m query_results \u001B[38;5;241m=\u001B[39m \u001B[38;5;28;43mself\u001B[39;49m\u001B[38;5;241;43m.\u001B[39;49m\u001B[43m_client\u001B[49m\u001B[38;5;241;43m.\u001B[39;49m\u001B[43m_query\u001B[49m\u001B[43m(\u001B[49m\n\u001B[0;32m    222\u001B[0m \u001B[43m    \u001B[49m\u001B[43mcollection_id\u001B[49m\u001B[38;5;241;43m=\u001B[39;49m\u001B[38;5;28;43mself\u001B[39;49m\u001B[38;5;241;43m.\u001B[39;49m\u001B[43mid\u001B[49m\u001B[43m,\u001B[49m\n\u001B[0;32m    223\u001B[0m \u001B[43m    \u001B[49m\u001B[43mquery_embeddings\u001B[49m\u001B[38;5;241;43m=\u001B[39;49m\u001B[43mquery_request\u001B[49m\u001B[43m[\u001B[49m\u001B[38;5;124;43m\"\u001B[39;49m\u001B[38;5;124;43membeddings\u001B[39;49m\u001B[38;5;124;43m\"\u001B[39;49m\u001B[43m]\u001B[49m\u001B[43m,\u001B[49m\n\u001B[0;32m    224\u001B[0m \u001B[43m    \u001B[49m\u001B[43mn_results\u001B[49m\u001B[38;5;241;43m=\u001B[39;49m\u001B[43mquery_request\u001B[49m\u001B[43m[\u001B[49m\u001B[38;5;124;43m\"\u001B[39;49m\u001B[38;5;124;43mn_results\u001B[39;49m\u001B[38;5;124;43m\"\u001B[39;49m\u001B[43m]\u001B[49m\u001B[43m,\u001B[49m\n\u001B[0;32m    225\u001B[0m \u001B[43m    \u001B[49m\u001B[43mwhere\u001B[49m\u001B[38;5;241;43m=\u001B[39;49m\u001B[43mquery_request\u001B[49m\u001B[43m[\u001B[49m\u001B[38;5;124;43m\"\u001B[39;49m\u001B[38;5;124;43mwhere\u001B[39;49m\u001B[38;5;124;43m\"\u001B[39;49m\u001B[43m]\u001B[49m\u001B[43m,\u001B[49m\n\u001B[0;32m    226\u001B[0m \u001B[43m    \u001B[49m\u001B[43mwhere_document\u001B[49m\u001B[38;5;241;43m=\u001B[39;49m\u001B[43mquery_request\u001B[49m\u001B[43m[\u001B[49m\u001B[38;5;124;43m\"\u001B[39;49m\u001B[38;5;124;43mwhere_document\u001B[39;49m\u001B[38;5;124;43m\"\u001B[39;49m\u001B[43m]\u001B[49m\u001B[43m,\u001B[49m\n\u001B[0;32m    227\u001B[0m \u001B[43m    \u001B[49m\u001B[43minclude\u001B[49m\u001B[38;5;241;43m=\u001B[39;49m\u001B[43mquery_request\u001B[49m\u001B[43m[\u001B[49m\u001B[38;5;124;43m\"\u001B[39;49m\u001B[38;5;124;43minclude\u001B[39;49m\u001B[38;5;124;43m\"\u001B[39;49m\u001B[43m]\u001B[49m\u001B[43m,\u001B[49m\n\u001B[0;32m    228\u001B[0m \u001B[43m    \u001B[49m\u001B[43mtenant\u001B[49m\u001B[38;5;241;43m=\u001B[39;49m\u001B[38;5;28;43mself\u001B[39;49m\u001B[38;5;241;43m.\u001B[39;49m\u001B[43mtenant\u001B[49m\u001B[43m,\u001B[49m\n\u001B[0;32m    229\u001B[0m \u001B[43m    \u001B[49m\u001B[43mdatabase\u001B[49m\u001B[38;5;241;43m=\u001B[39;49m\u001B[38;5;28;43mself\u001B[39;49m\u001B[38;5;241;43m.\u001B[39;49m\u001B[43mdatabase\u001B[49m\u001B[43m,\u001B[49m\n\u001B[0;32m    230\u001B[0m \u001B[43m\u001B[49m\u001B[43m)\u001B[49m\n\u001B[0;32m    232\u001B[0m \u001B[38;5;28;01mreturn\u001B[39;00m \u001B[38;5;28mself\u001B[39m\u001B[38;5;241m.\u001B[39m_transform_query_response(\n\u001B[0;32m    233\u001B[0m     response\u001B[38;5;241m=\u001B[39mquery_results, include\u001B[38;5;241m=\u001B[39mquery_request[\u001B[38;5;124m\"\u001B[39m\u001B[38;5;124minclude\u001B[39m\u001B[38;5;124m\"\u001B[39m]\n\u001B[0;32m    234\u001B[0m )\n",
      "File \u001B[1;32m~\\AppData\\Local\\Programs\\Python\\Python39\\lib\\site-packages\\chromadb\\telemetry\\opentelemetry\\__init__.py:150\u001B[0m, in \u001B[0;36mtrace_method.<locals>.decorator.<locals>.wrapper\u001B[1;34m(*args, **kwargs)\u001B[0m\n\u001B[0;32m    148\u001B[0m \u001B[38;5;28;01mglobal\u001B[39;00m tracer, granularity\n\u001B[0;32m    149\u001B[0m \u001B[38;5;28;01mif\u001B[39;00m trace_granularity \u001B[38;5;241m<\u001B[39m granularity:\n\u001B[1;32m--> 150\u001B[0m     \u001B[38;5;28;01mreturn\u001B[39;00m f(\u001B[38;5;241m*\u001B[39margs, \u001B[38;5;241m*\u001B[39m\u001B[38;5;241m*\u001B[39mkwargs)\n\u001B[0;32m    151\u001B[0m \u001B[38;5;28;01mif\u001B[39;00m \u001B[38;5;129;01mnot\u001B[39;00m tracer:\n\u001B[0;32m    152\u001B[0m     \u001B[38;5;28;01mreturn\u001B[39;00m f(\u001B[38;5;241m*\u001B[39margs, \u001B[38;5;241m*\u001B[39m\u001B[38;5;241m*\u001B[39mkwargs)\n",
      "File \u001B[1;32m~\\AppData\\Local\\Programs\\Python\\Python39\\lib\\site-packages\\chromadb\\api\\fastapi.py:519\u001B[0m, in \u001B[0;36mFastAPI._query\u001B[1;34m(self, collection_id, query_embeddings, n_results, where, where_document, include, tenant, database)\u001B[0m\n\u001B[0;32m    505\u001B[0m \u001B[38;5;129m@trace_method\u001B[39m(\u001B[38;5;124m\"\u001B[39m\u001B[38;5;124mFastAPI._query\u001B[39m\u001B[38;5;124m\"\u001B[39m, OpenTelemetryGranularity\u001B[38;5;241m.\u001B[39mALL)\n\u001B[0;32m    506\u001B[0m \u001B[38;5;129m@override\u001B[39m\n\u001B[0;32m    507\u001B[0m \u001B[38;5;28;01mdef\u001B[39;00m \u001B[38;5;21m_query\u001B[39m(\n\u001B[1;32m   (...)\u001B[0m\n\u001B[0;32m    516\u001B[0m     database: \u001B[38;5;28mstr\u001B[39m \u001B[38;5;241m=\u001B[39m DEFAULT_DATABASE,\n\u001B[0;32m    517\u001B[0m ) \u001B[38;5;241m-\u001B[39m\u001B[38;5;241m>\u001B[39m QueryResult:\n\u001B[0;32m    518\u001B[0m \u001B[38;5;250m    \u001B[39m\u001B[38;5;124;03m\"\"\"Gets the nearest neighbors of a single embedding\"\"\"\u001B[39;00m\n\u001B[1;32m--> 519\u001B[0m     resp_json \u001B[38;5;241m=\u001B[39m \u001B[38;5;28;43mself\u001B[39;49m\u001B[38;5;241;43m.\u001B[39;49m\u001B[43m_make_request\u001B[49m\u001B[43m(\u001B[49m\n\u001B[0;32m    520\u001B[0m \u001B[43m        \u001B[49m\u001B[38;5;124;43m\"\u001B[39;49m\u001B[38;5;124;43mpost\u001B[39;49m\u001B[38;5;124;43m\"\u001B[39;49m\u001B[43m,\u001B[49m\n\u001B[0;32m    521\u001B[0m \u001B[43m        \u001B[49m\u001B[38;5;124;43mf\u001B[39;49m\u001B[38;5;124;43m\"\u001B[39;49m\u001B[38;5;124;43m/tenants/\u001B[39;49m\u001B[38;5;132;43;01m{\u001B[39;49;00m\u001B[43mtenant\u001B[49m\u001B[38;5;132;43;01m}\u001B[39;49;00m\u001B[38;5;124;43m/databases/\u001B[39;49m\u001B[38;5;132;43;01m{\u001B[39;49;00m\u001B[43mdatabase\u001B[49m\u001B[38;5;132;43;01m}\u001B[39;49;00m\u001B[38;5;124;43m/collections/\u001B[39;49m\u001B[38;5;132;43;01m{\u001B[39;49;00m\u001B[43mcollection_id\u001B[49m\u001B[38;5;132;43;01m}\u001B[39;49;00m\u001B[38;5;124;43m/query\u001B[39;49m\u001B[38;5;124;43m\"\u001B[39;49m\u001B[43m,\u001B[49m\n\u001B[0;32m    522\u001B[0m \u001B[43m        \u001B[49m\u001B[43mjson\u001B[49m\u001B[38;5;241;43m=\u001B[39;49m\u001B[43m{\u001B[49m\n\u001B[0;32m    523\u001B[0m \u001B[43m            \u001B[49m\u001B[38;5;124;43m\"\u001B[39;49m\u001B[38;5;124;43mquery_embeddings\u001B[39;49m\u001B[38;5;124;43m\"\u001B[39;49m\u001B[43m:\u001B[49m\u001B[43m \u001B[49m\u001B[43mconvert_np_embeddings_to_list\u001B[49m\u001B[43m(\u001B[49m\u001B[43mquery_embeddings\u001B[49m\u001B[43m)\u001B[49m\n\u001B[0;32m    524\u001B[0m \u001B[43m            \u001B[49m\u001B[38;5;28;43;01mif\u001B[39;49;00m\u001B[43m \u001B[49m\u001B[43mquery_embeddings\u001B[49m\u001B[43m \u001B[49m\u001B[38;5;129;43;01mis\u001B[39;49;00m\u001B[43m \u001B[49m\u001B[38;5;129;43;01mnot\u001B[39;49;00m\u001B[43m \u001B[49m\u001B[38;5;28;43;01mNone\u001B[39;49;00m\n\u001B[0;32m    525\u001B[0m \u001B[43m            \u001B[49m\u001B[38;5;28;43;01melse\u001B[39;49;00m\u001B[43m \u001B[49m\u001B[38;5;28;43;01mNone\u001B[39;49;00m\u001B[43m,\u001B[49m\n\u001B[0;32m    526\u001B[0m \u001B[43m            \u001B[49m\u001B[38;5;124;43m\"\u001B[39;49m\u001B[38;5;124;43mn_results\u001B[39;49m\u001B[38;5;124;43m\"\u001B[39;49m\u001B[43m:\u001B[49m\u001B[43m \u001B[49m\u001B[43mn_results\u001B[49m\u001B[43m,\u001B[49m\n\u001B[0;32m    527\u001B[0m \u001B[43m            \u001B[49m\u001B[38;5;124;43m\"\u001B[39;49m\u001B[38;5;124;43mwhere\u001B[39;49m\u001B[38;5;124;43m\"\u001B[39;49m\u001B[43m:\u001B[49m\u001B[43m \u001B[49m\u001B[43mwhere\u001B[49m\u001B[43m,\u001B[49m\n\u001B[0;32m    528\u001B[0m \u001B[43m            \u001B[49m\u001B[38;5;124;43m\"\u001B[39;49m\u001B[38;5;124;43mwhere_document\u001B[39;49m\u001B[38;5;124;43m\"\u001B[39;49m\u001B[43m:\u001B[49m\u001B[43m \u001B[49m\u001B[43mwhere_document\u001B[49m\u001B[43m,\u001B[49m\n\u001B[0;32m    529\u001B[0m \u001B[43m            \u001B[49m\u001B[38;5;124;43m\"\u001B[39;49m\u001B[38;5;124;43minclude\u001B[39;49m\u001B[38;5;124;43m\"\u001B[39;49m\u001B[43m:\u001B[49m\u001B[43m \u001B[49m\u001B[43minclude\u001B[49m\u001B[43m,\u001B[49m\n\u001B[0;32m    530\u001B[0m \u001B[43m        \u001B[49m\u001B[43m}\u001B[49m\u001B[43m,\u001B[49m\n\u001B[0;32m    531\u001B[0m \u001B[43m    \u001B[49m\u001B[43m)\u001B[49m\n\u001B[0;32m    533\u001B[0m     \u001B[38;5;28;01mreturn\u001B[39;00m QueryResult(\n\u001B[0;32m    534\u001B[0m         ids\u001B[38;5;241m=\u001B[39mresp_json[\u001B[38;5;124m\"\u001B[39m\u001B[38;5;124mids\u001B[39m\u001B[38;5;124m\"\u001B[39m],\n\u001B[0;32m    535\u001B[0m         distances\u001B[38;5;241m=\u001B[39mresp_json\u001B[38;5;241m.\u001B[39mget(\u001B[38;5;124m\"\u001B[39m\u001B[38;5;124mdistances\u001B[39m\u001B[38;5;124m\"\u001B[39m, \u001B[38;5;28;01mNone\u001B[39;00m),\n\u001B[1;32m   (...)\u001B[0m\n\u001B[0;32m    541\u001B[0m         included\u001B[38;5;241m=\u001B[39mresp_json\u001B[38;5;241m.\u001B[39mget(\u001B[38;5;124m\"\u001B[39m\u001B[38;5;124mincluded\u001B[39m\u001B[38;5;124m\"\u001B[39m, include),\n\u001B[0;32m    542\u001B[0m     )\n",
      "File \u001B[1;32m~\\AppData\\Local\\Programs\\Python\\Python39\\lib\\site-packages\\chromadb\\api\\fastapi.py:90\u001B[0m, in \u001B[0;36mFastAPI._make_request\u001B[1;34m(self, method, path, **kwargs)\u001B[0m\n\u001B[0;32m     87\u001B[0m url \u001B[38;5;241m=\u001B[39m \u001B[38;5;28mself\u001B[39m\u001B[38;5;241m.\u001B[39m_api_url \u001B[38;5;241m+\u001B[39m escaped_path\n\u001B[0;32m     89\u001B[0m response \u001B[38;5;241m=\u001B[39m \u001B[38;5;28mself\u001B[39m\u001B[38;5;241m.\u001B[39m_session\u001B[38;5;241m.\u001B[39mrequest(method, url, \u001B[38;5;241m*\u001B[39m\u001B[38;5;241m*\u001B[39mcast(Any, kwargs))\n\u001B[1;32m---> 90\u001B[0m \u001B[43mBaseHTTPClient\u001B[49m\u001B[38;5;241;43m.\u001B[39;49m\u001B[43m_raise_chroma_error\u001B[49m\u001B[43m(\u001B[49m\u001B[43mresponse\u001B[49m\u001B[43m)\u001B[49m\n\u001B[0;32m     91\u001B[0m \u001B[38;5;28;01mreturn\u001B[39;00m orjson\u001B[38;5;241m.\u001B[39mloads(response\u001B[38;5;241m.\u001B[39mtext)\n",
      "File \u001B[1;32m~\\AppData\\Local\\Programs\\Python\\Python39\\lib\\site-packages\\chromadb\\api\\base_http_client.py:96\u001B[0m, in \u001B[0;36mBaseHTTPClient._raise_chroma_error\u001B[1;34m(resp)\u001B[0m\n\u001B[0;32m     93\u001B[0m     \u001B[38;5;28;01mpass\u001B[39;00m\n\u001B[0;32m     95\u001B[0m \u001B[38;5;28;01mif\u001B[39;00m chroma_error:\n\u001B[1;32m---> 96\u001B[0m     \u001B[38;5;28;01mraise\u001B[39;00m chroma_error\n\u001B[0;32m     98\u001B[0m \u001B[38;5;28;01mtry\u001B[39;00m:\n\u001B[0;32m     99\u001B[0m     resp\u001B[38;5;241m.\u001B[39mraise_for_status()\n",
      "\u001B[1;31mInvalidDimensionException\u001B[0m: Embedding dimension 384 does not match collection dimensionality 1024"
     ]
    }
   ],
   "execution_count": 20
  },
  {
   "metadata": {},
   "cell_type": "code",
   "outputs": [],
   "execution_count": null,
   "source": "from late_chain",
   "id": "1e584aab6eb60401"
  },
  {
   "metadata": {
    "ExecuteTime": {
     "end_time": "2024-11-27T01:51:39.036933Z",
     "start_time": "2024-11-27T01:51:38.918918Z"
    }
   },
   "cell_type": "code",
   "source": [
    "batch_text = \"customer analytics tools\"\n",
    "embeds = model(**tokenizer(\"customer analytics tools\", return_tensors='pt'))"
   ],
   "id": "7c6d4a5b3bfe1dd4",
   "outputs": [],
   "execution_count": 30
  },
  {
   "metadata": {
    "ExecuteTime": {
     "end_time": "2024-11-27T01:53:06.039406Z",
     "start_time": "2024-11-27T01:53:06.022108Z"
    }
   },
   "cell_type": "code",
   "source": "embeds.pooler_output.detach().cpu().numpy().shape",
   "id": "5534ef0066659135",
   "outputs": [
    {
     "data": {
      "text/plain": [
       "(1, 1024)"
      ]
     },
     "execution_count": 38,
     "metadata": {},
     "output_type": "execute_result"
    }
   ],
   "execution_count": 38
  },
  {
   "metadata": {
    "ExecuteTime": {
     "end_time": "2024-11-27T01:52:13.935066Z",
     "start_time": "2024-11-27T01:52:13.921532Z"
    }
   },
   "cell_type": "code",
   "source": "embeds.pooler_output.shape",
   "id": "eee3cc28e61f814f",
   "outputs": [
    {
     "data": {
      "text/plain": [
       "torch.Size([1, 1024])"
      ]
     },
     "execution_count": 35,
     "metadata": {},
     "output_type": "execute_result"
    }
   ],
   "execution_count": 35
  },
  {
   "metadata": {
    "ExecuteTime": {
     "end_time": "2024-11-27T01:58:50.521255Z",
     "start_time": "2024-11-27T01:58:50.485582Z"
    }
   },
   "cell_type": "code",
   "source": [
    "results = collection.query(\n",
    "    query_embeddings=embeds.pooler_output.detach().cpu().numpy(),  # List of query vectors\n",
    "    n_results=1,  # Number of results to retur\n",
    ")\n",
    "results"
   ],
   "id": "535f482062da91cc",
   "outputs": [
    {
     "data": {
      "text/plain": [
       "{'ids': [['8']],\n",
       " 'distances': [[715.3309970243297]],\n",
       " 'embeddings': None,\n",
       " 'metadatas': [[{'url': 'https://www.xtremepush.com/blog/customer-analytics-software-for-igaming'}]],\n",
       " 'documents': [['customer experience,  Blog post\\n\\n#  Customer Analytics Software for iGaming: Get into your Players’ Minds\\n\\nby Kinga\\n\\nMar 11 2024\\n\\n11 min\\n\\nNumbers need to match insights, insights lead to action, and action drives\\nsuccess. In the fast-paced world of iGaming, understanding the player is key\\nto staying ahead. Enter Customer Analytics Software—a game-changer in how you\\nconnect with, engage, and retain your players.\\n\\n## **What is Customer Analytics Software?**\\n\\nA customer analytics tool dives deep into your customer data to offer insights\\non behavior, preferences, and trends, guiding better business decisions.\\n\\n## **Benefits of Using Customer Analytics Software in iGaming**\\n\\n### **Optimize Customer Experience with Data-Driven Insights**\\n\\nLeveraging a customer analytics tool allows iGaming companies to fine-tune the\\nuser experience. By analyzing vast amounts of customer data, these tools\\npinpoint what keeps players coming back. For example, identifying the most\\npopular games or features enables tailored content updates, enhancing customer\\nsatisfaction and mobile app retention.\\n\\n### **Enhance Customer Journey Mapping through Analytics**\\n\\nUnderstanding the customer journey is crucial. An analytics tool like Google\\nAnalytics (or GA4) with integrated QR code tracking will track customer\\ninteractions from the first click to the last, highlighting areas for\\nimprovement. This continuous loop of feedback and action can transform the\\ncustomer journey, making it more engaging and rewarding.\\n\\n### **Drive Customer Engagement with Targeted Campaigns**\\n\\nUtilizing customer insights, iGaming businesses can craft personalized\\nmarketing campaigns that resonate with their audience. By analyzing user\\nbehavior and preferences, these platforms enable the creation of content that\\nspeaks directly to player interests, significantly boosting engagement levels.\\nThis will also make it easier to create content using ChatGPT prompts for\\ninstance.\\n\\n### **Boost Customer Loyalty with Personalized Experiences**\\n\\nA customer analytics platform not only tracks customer activity but also aids\\nin creating personalized experiences. By understanding player behavior,\\ncompanies can reward loyalty through tailored bonuses, promotions, and games,\\nfostering a strong sense of community and loyalty among users.\\n\\n### **Improve Business Decisions with Comprehensive Data Analysis**\\n\\nData-driven decision-making is at the heart of customer analytics. By offering\\n']],\n",
       " 'uris': None,\n",
       " 'data': None,\n",
       " 'included': ['distances', 'documents', 'metadatas']}"
      ]
     },
     "execution_count": 47,
     "metadata": {},
     "output_type": "execute_result"
    }
   ],
   "execution_count": 47
  },
  {
   "metadata": {
    "ExecuteTime": {
     "end_time": "2024-11-27T01:59:41.093165Z",
     "start_time": "2024-11-27T01:59:41.063457Z"
    }
   },
   "cell_type": "code",
   "source": [
    "results = collection.query(\n",
    "    query_embeddings=embeds.pooler_output.detach().cpu().numpy(),  # List of query vectors\n",
    "    n_results=5,  # Number of results to retur\n",
    ")\n",
    "results"
   ],
   "id": "1bd01a6e0368a224",
   "outputs": [
    {
     "data": {
      "text/plain": [
       "{'ids': [['8', '0', '7', '15', '6']],\n",
       " 'distances': [[715.3309970243297,\n",
       "   715.3309970243297,\n",
       "   719.3276542282105,\n",
       "   719.3276542282105,\n",
       "   737.2245160491082]],\n",
       " 'embeddings': None,\n",
       " 'metadatas': [[{'url': 'https://www.xtremepush.com/blog/customer-analytics-software-for-igaming'},\n",
       "   {'url': 'https://www.xtremepush.com/blog/customer-analytics-software-for-igaming'},\n",
       "   {'url': 'https://www.xtremepush.com/blog/customer-analytics-software-for-igaming'},\n",
       "   {'url': 'https://www.xtremepush.com/blog/customer-analytics-software-for-igaming'},\n",
       "   {'url': 'https://www.xtremepush.com/blog/customer-analytics-software-for-igaming'}]],\n",
       " 'documents': [['customer experience,  Blog post\\n\\n#  Customer Analytics Software for iGaming: Get into your Players’ Minds\\n\\nby Kinga\\n\\nMar 11 2024\\n\\n11 min\\n\\nNumbers need to match insights, insights lead to action, and action drives\\nsuccess. In the fast-paced world of iGaming, understanding the player is key\\nto staying ahead. Enter Customer Analytics Software—a game-changer in how you\\nconnect with, engage, and retain your players.\\n\\n## **What is Customer Analytics Software?**\\n\\nA customer analytics tool dives deep into your customer data to offer insights\\non behavior, preferences, and trends, guiding better business decisions.\\n\\n## **Benefits of Using Customer Analytics Software in iGaming**\\n\\n### **Optimize Customer Experience with Data-Driven Insights**\\n\\nLeveraging a customer analytics tool allows iGaming companies to fine-tune the\\nuser experience. By analyzing vast amounts of customer data, these tools\\npinpoint what keeps players coming back. For example, identifying the most\\npopular games or features enables tailored content updates, enhancing customer\\nsatisfaction and mobile app retention.\\n\\n### **Enhance Customer Journey Mapping through Analytics**\\n\\nUnderstanding the customer journey is crucial. An analytics tool like Google\\nAnalytics (or GA4) with integrated QR code tracking will track customer\\ninteractions from the first click to the last, highlighting areas for\\nimprovement. This continuous loop of feedback and action can transform the\\ncustomer journey, making it more engaging and rewarding.\\n\\n### **Drive Customer Engagement with Targeted Campaigns**\\n\\nUtilizing customer insights, iGaming businesses can craft personalized\\nmarketing campaigns that resonate with their audience. By analyzing user\\nbehavior and preferences, these platforms enable the creation of content that\\nspeaks directly to player interests, significantly boosting engagement levels.\\nThis will also make it easier to create content using ChatGPT prompts for\\ninstance.\\n\\n### **Boost Customer Loyalty with Personalized Experiences**\\n\\nA customer analytics platform not only tracks customer activity but also aids\\nin creating personalized experiences. By understanding player behavior,\\ncompanies can reward loyalty through tailored bonuses, promotions, and games,\\nfostering a strong sense of community and loyalty among users.\\n\\n### **Improve Business Decisions with Comprehensive Data Analysis**\\n\\nData-driven decision-making is at the heart of customer analytics. By offering\\n',\n",
       "   'customer experience,  Blog post\\n\\n#  Customer Analytics Software for iGaming: Get into your Players’ Minds\\n\\nby Kinga\\n\\nMar 11 2024\\n\\n11 min\\n\\nNumbers need to match insights, insights lead to action, and action drives\\nsuccess. In the fast-paced world of iGaming, understanding the player is key\\nto staying ahead. Enter Customer Analytics Software—a game-changer in how you\\nconnect with, engage, and retain your players.\\n\\n## **What is Customer Analytics Software?**\\n\\nA customer analytics tool dives deep into your customer data to offer insights\\non behavior, preferences, and trends, guiding better business decisions.\\n\\n## **Benefits of Using Customer Analytics Software in iGaming**\\n\\n### **Optimize Customer Experience with Data-Driven Insights**\\n\\nLeveraging a customer analytics tool allows iGaming companies to fine-tune the\\nuser experience. By analyzing vast amounts of customer data, these tools\\npinpoint what keeps players coming back. For example, identifying the most\\npopular games or features enables tailored content updates, enhancing customer\\nsatisfaction and mobile app retention.\\n\\n### **Enhance Customer Journey Mapping through Analytics**\\n\\nUnderstanding the customer journey is crucial. An analytics tool like Google\\nAnalytics (or GA4) with integrated QR code tracking will track customer\\ninteractions from the first click to the last, highlighting areas for\\nimprovement. This continuous loop of feedback and action can transform the\\ncustomer journey, making it more engaging and rewarding.\\n\\n### **Drive Customer Engagement with Targeted Campaigns**\\n\\nUtilizing customer insights, iGaming businesses can craft personalized\\nmarketing campaigns that resonate with their audience. By analyzing user\\nbehavior and preferences, these platforms enable the creation of content that\\nspeaks directly to player interests, significantly boosting engagement levels.\\nThis will also make it easier to create content using ChatGPT prompts for\\ninstance.\\n\\n### **Boost Customer Loyalty with Personalized Experiences**\\n\\nA customer analytics platform not only tracks customer activity but also aids\\nin creating personalized experiences. By understanding player behavior,\\ncompanies can reward loyalty through tailored bonuses, promotions, and games,\\nfostering a strong sense of community and loyalty among users.\\n\\n### **Improve Business Decisions with Comprehensive Data Analysis**\\n\\nData-driven decision-making is at the heart of customer analytics. By offering\\n',\n",
       "   '\\nGamification-Based Loyalty Strategies: Push vs Pull Marketing\\n\\nGamified experience is extremely pivotal in distinguishing between push vs\\npull marketing strategies. How do these approaches integrate into your\\nmarketing campaigns to enhance brand loyalty and\\n\\nRead more\\n\\ncustomer experience\\n\\nMar 11 2024\\n\\n11 min\\n\\nCustomer Analytics Software for iGaming: Get into your Players’ Minds\\n\\nNumbers need to match insights, insights lead to action, and action drives\\nsuccess. In the fast-paced world of iGaming, understanding the player is key\\nto staying ahead. Enter Customer Analytics\\n\\nRead more\\n\\n## Get the latest Updates\\n\\n###\\n\\n',\n",
       "   '\\nGamification-Based Loyalty Strategies: Push vs Pull Marketing\\n\\nGamified experience is extremely pivotal in distinguishing between push vs\\npull marketing strategies. How do these approaches integrate into your\\nmarketing campaigns to enhance brand loyalty and\\n\\nRead more\\n\\ncustomer experience\\n\\nMar 11 2024\\n\\n11 min\\n\\nCustomer Analytics Software for iGaming: Get into your Players’ Minds\\n\\nNumbers need to match insights, insights lead to action, and action drives\\nsuccess. In the fast-paced world of iGaming, understanding the player is key\\nto staying ahead. Enter Customer Analytics\\n\\nRead more\\n\\n## Get the latest Updates\\n\\n###\\n\\n',\n",
       "   '\\n\\n## **Key Takeaways**\\n\\n  * Real-time customer analytics are crucial for adapting to player needs instantly.\\n  * Comprehensive customer experience analytics offer a 360-degree view of the player journey.\\n  * Omnichannel analytics provide a unified view across all player interaction channels to understand your customer.\\n  * AI-powered customer insights enable deeper understanding and predictive capabilities.\\n  * Advanced segmentation facilitates targeted strategies for engagement and retention.\\n  * User behavior analytics are key to understanding and enhancing the gaming experience.\\n  * Collecting and analyzing feedback using the right customer feedback tools directly informs product improvements.\\n  * Predictive analytics help foresee player behavior, aiding in strategic planning to improve customer data collection.\\n  * Google Analytics may not fully meet the specific needs of the iGaming industry.\\n  * Specialized iGaming analytics tools offer more targeted insights and compliance features.\\n\\n## **Conclusion**\\n\\nChoosing the right customer analytics software is essential for iGaming\\nbusinesses aiming to understand their customers deeply, improve products and\\nservices, and ensure player satisfaction and loyalty. While Google Analytics\\nprovides a broad overview, specialized tools deliver targeted insights and\\nfunctionalities that can significantly enhance player experience and business\\noutcomes. Consider taking advantage of free trials to explore which analytics\\ntool for your team best meets your specific needs in 2024. With the right data\\nand insights, you’re well-equipped to make informed decisions and drive your\\niGaming business forward. Now it’s your turn to discover the best customer\\nanalytics software for your iGaming venture. Good luck!\\n\\n## Our Latest Blogs\\n\\ncustomer experience\\n\\nJun 10 2024\\n\\n6 min\\n\\nLeveraging Free-to-Play to Enhance Cross-Selling in Online Gambling with John\\nSmith\\n\\nThe online gambling market is highly competitive, and operators need to\\nconstantly come up with new ways to stay relevant. Free-to-Play (F2P)\\nexperiences are a smart strategy in this environment. F2P\\n\\nRead more\\n\\ncustomer experience\\n\\nMar 11 2024\\n\\n11 min\\n\\nGamification-Based Loyalty Strategies: Push vs Pull Marketing\\n\\nGamified experience is extremely pivotal in distinguishing between push vs\\npull marketing strategies. How do these approaches integrate into your\\nmarketing campaigns to enhance brand loyalty and\\n\\nRead more\\n\\ncustomer experience\\n\\nMar 11 2024\\n\\n11']],\n",
       " 'uris': None,\n",
       " 'data': None,\n",
       " 'included': ['distances', 'documents', 'metadatas']}"
      ]
     },
     "execution_count": 50,
     "metadata": {},
     "output_type": "execute_result"
    }
   ],
   "execution_count": 50
  },
  {
   "metadata": {
    "ExecuteTime": {
     "end_time": "2024-11-27T01:58:25.345964Z",
     "start_time": "2024-11-27T01:58:25.331697Z"
    }
   },
   "cell_type": "code",
   "source": "type(results)",
   "id": "27ec12697765f816",
   "outputs": [
    {
     "data": {
      "text/plain": [
       "dict"
      ]
     },
     "execution_count": 45,
     "metadata": {},
     "output_type": "execute_result"
    }
   ],
   "execution_count": 45
  },
  {
   "metadata": {
    "ExecuteTime": {
     "end_time": "2024-11-27T01:58:33.664934Z",
     "start_time": "2024-11-27T01:58:33.650132Z"
    }
   },
   "cell_type": "code",
   "source": "results",
   "id": "9337e69ffa59d57e",
   "outputs": [
    {
     "data": {
      "text/plain": [
       "{'ids': [['8', '0', '7', '15', '6']],\n",
       " 'distances': [[715.3309970243297,\n",
       "   715.3309970243297,\n",
       "   719.3276542282105,\n",
       "   719.3276542282105,\n",
       "   737.2245160491082]],\n",
       " 'embeddings': None,\n",
       " 'metadatas': [[{'url': 'https://www.xtremepush.com/blog/customer-analytics-software-for-igaming'},\n",
       "   {'url': 'https://www.xtremepush.com/blog/customer-analytics-software-for-igaming'},\n",
       "   {'url': 'https://www.xtremepush.com/blog/customer-analytics-software-for-igaming'},\n",
       "   {'url': 'https://www.xtremepush.com/blog/customer-analytics-software-for-igaming'},\n",
       "   {'url': 'https://www.xtremepush.com/blog/customer-analytics-software-for-igaming'}]],\n",
       " 'documents': [['customer experience,  Blog post\\n\\n#  Customer Analytics Software for iGaming: Get into your Players’ Minds\\n\\nby Kinga\\n\\nMar 11 2024\\n\\n11 min\\n\\nNumbers need to match insights, insights lead to action, and action drives\\nsuccess. In the fast-paced world of iGaming, understanding the player is key\\nto staying ahead. Enter Customer Analytics Software—a game-changer in how you\\nconnect with, engage, and retain your players.\\n\\n## **What is Customer Analytics Software?**\\n\\nA customer analytics tool dives deep into your customer data to offer insights\\non behavior, preferences, and trends, guiding better business decisions.\\n\\n## **Benefits of Using Customer Analytics Software in iGaming**\\n\\n### **Optimize Customer Experience with Data-Driven Insights**\\n\\nLeveraging a customer analytics tool allows iGaming companies to fine-tune the\\nuser experience. By analyzing vast amounts of customer data, these tools\\npinpoint what keeps players coming back. For example, identifying the most\\npopular games or features enables tailored content updates, enhancing customer\\nsatisfaction and mobile app retention.\\n\\n### **Enhance Customer Journey Mapping through Analytics**\\n\\nUnderstanding the customer journey is crucial. An analytics tool like Google\\nAnalytics (or GA4) with integrated QR code tracking will track customer\\ninteractions from the first click to the last, highlighting areas for\\nimprovement. This continuous loop of feedback and action can transform the\\ncustomer journey, making it more engaging and rewarding.\\n\\n### **Drive Customer Engagement with Targeted Campaigns**\\n\\nUtilizing customer insights, iGaming businesses can craft personalized\\nmarketing campaigns that resonate with their audience. By analyzing user\\nbehavior and preferences, these platforms enable the creation of content that\\nspeaks directly to player interests, significantly boosting engagement levels.\\nThis will also make it easier to create content using ChatGPT prompts for\\ninstance.\\n\\n### **Boost Customer Loyalty with Personalized Experiences**\\n\\nA customer analytics platform not only tracks customer activity but also aids\\nin creating personalized experiences. By understanding player behavior,\\ncompanies can reward loyalty through tailored bonuses, promotions, and games,\\nfostering a strong sense of community and loyalty among users.\\n\\n### **Improve Business Decisions with Comprehensive Data Analysis**\\n\\nData-driven decision-making is at the heart of customer analytics. By offering\\n',\n",
       "   'customer experience,  Blog post\\n\\n#  Customer Analytics Software for iGaming: Get into your Players’ Minds\\n\\nby Kinga\\n\\nMar 11 2024\\n\\n11 min\\n\\nNumbers need to match insights, insights lead to action, and action drives\\nsuccess. In the fast-paced world of iGaming, understanding the player is key\\nto staying ahead. Enter Customer Analytics Software—a game-changer in how you\\nconnect with, engage, and retain your players.\\n\\n## **What is Customer Analytics Software?**\\n\\nA customer analytics tool dives deep into your customer data to offer insights\\non behavior, preferences, and trends, guiding better business decisions.\\n\\n## **Benefits of Using Customer Analytics Software in iGaming**\\n\\n### **Optimize Customer Experience with Data-Driven Insights**\\n\\nLeveraging a customer analytics tool allows iGaming companies to fine-tune the\\nuser experience. By analyzing vast amounts of customer data, these tools\\npinpoint what keeps players coming back. For example, identifying the most\\npopular games or features enables tailored content updates, enhancing customer\\nsatisfaction and mobile app retention.\\n\\n### **Enhance Customer Journey Mapping through Analytics**\\n\\nUnderstanding the customer journey is crucial. An analytics tool like Google\\nAnalytics (or GA4) with integrated QR code tracking will track customer\\ninteractions from the first click to the last, highlighting areas for\\nimprovement. This continuous loop of feedback and action can transform the\\ncustomer journey, making it more engaging and rewarding.\\n\\n### **Drive Customer Engagement with Targeted Campaigns**\\n\\nUtilizing customer insights, iGaming businesses can craft personalized\\nmarketing campaigns that resonate with their audience. By analyzing user\\nbehavior and preferences, these platforms enable the creation of content that\\nspeaks directly to player interests, significantly boosting engagement levels.\\nThis will also make it easier to create content using ChatGPT prompts for\\ninstance.\\n\\n### **Boost Customer Loyalty with Personalized Experiences**\\n\\nA customer analytics platform not only tracks customer activity but also aids\\nin creating personalized experiences. By understanding player behavior,\\ncompanies can reward loyalty through tailored bonuses, promotions, and games,\\nfostering a strong sense of community and loyalty among users.\\n\\n### **Improve Business Decisions with Comprehensive Data Analysis**\\n\\nData-driven decision-making is at the heart of customer analytics. By offering\\n',\n",
       "   '\\nGamification-Based Loyalty Strategies: Push vs Pull Marketing\\n\\nGamified experience is extremely pivotal in distinguishing between push vs\\npull marketing strategies. How do these approaches integrate into your\\nmarketing campaigns to enhance brand loyalty and\\n\\nRead more\\n\\ncustomer experience\\n\\nMar 11 2024\\n\\n11 min\\n\\nCustomer Analytics Software for iGaming: Get into your Players’ Minds\\n\\nNumbers need to match insights, insights lead to action, and action drives\\nsuccess. In the fast-paced world of iGaming, understanding the player is key\\nto staying ahead. Enter Customer Analytics\\n\\nRead more\\n\\n## Get the latest Updates\\n\\n###\\n\\n',\n",
       "   '\\nGamification-Based Loyalty Strategies: Push vs Pull Marketing\\n\\nGamified experience is extremely pivotal in distinguishing between push vs\\npull marketing strategies. How do these approaches integrate into your\\nmarketing campaigns to enhance brand loyalty and\\n\\nRead more\\n\\ncustomer experience\\n\\nMar 11 2024\\n\\n11 min\\n\\nCustomer Analytics Software for iGaming: Get into your Players’ Minds\\n\\nNumbers need to match insights, insights lead to action, and action drives\\nsuccess. In the fast-paced world of iGaming, understanding the player is key\\nto staying ahead. Enter Customer Analytics\\n\\nRead more\\n\\n## Get the latest Updates\\n\\n###\\n\\n',\n",
       "   '\\n\\n## **Key Takeaways**\\n\\n  * Real-time customer analytics are crucial for adapting to player needs instantly.\\n  * Comprehensive customer experience analytics offer a 360-degree view of the player journey.\\n  * Omnichannel analytics provide a unified view across all player interaction channels to understand your customer.\\n  * AI-powered customer insights enable deeper understanding and predictive capabilities.\\n  * Advanced segmentation facilitates targeted strategies for engagement and retention.\\n  * User behavior analytics are key to understanding and enhancing the gaming experience.\\n  * Collecting and analyzing feedback using the right customer feedback tools directly informs product improvements.\\n  * Predictive analytics help foresee player behavior, aiding in strategic planning to improve customer data collection.\\n  * Google Analytics may not fully meet the specific needs of the iGaming industry.\\n  * Specialized iGaming analytics tools offer more targeted insights and compliance features.\\n\\n## **Conclusion**\\n\\nChoosing the right customer analytics software is essential for iGaming\\nbusinesses aiming to understand their customers deeply, improve products and\\nservices, and ensure player satisfaction and loyalty. While Google Analytics\\nprovides a broad overview, specialized tools deliver targeted insights and\\nfunctionalities that can significantly enhance player experience and business\\noutcomes. Consider taking advantage of free trials to explore which analytics\\ntool for your team best meets your specific needs in 2024. With the right data\\nand insights, you’re well-equipped to make informed decisions and drive your\\niGaming business forward. Now it’s your turn to discover the best customer\\nanalytics software for your iGaming venture. Good luck!\\n\\n## Our Latest Blogs\\n\\ncustomer experience\\n\\nJun 10 2024\\n\\n6 min\\n\\nLeveraging Free-to-Play to Enhance Cross-Selling in Online Gambling with John\\nSmith\\n\\nThe online gambling market is highly competitive, and operators need to\\nconstantly come up with new ways to stay relevant. Free-to-Play (F2P)\\nexperiences are a smart strategy in this environment. F2P\\n\\nRead more\\n\\ncustomer experience\\n\\nMar 11 2024\\n\\n11 min\\n\\nGamification-Based Loyalty Strategies: Push vs Pull Marketing\\n\\nGamified experience is extremely pivotal in distinguishing between push vs\\npull marketing strategies. How do these approaches integrate into your\\nmarketing campaigns to enhance brand loyalty and\\n\\nRead more\\n\\ncustomer experience\\n\\nMar 11 2024\\n\\n11']],\n",
       " 'uris': None,\n",
       " 'data': None,\n",
       " 'included': ['distances', 'documents', 'metadatas']}"
      ]
     },
     "execution_count": 46,
     "metadata": {},
     "output_type": "execute_result"
    }
   ],
   "execution_count": 46
  },
  {
   "metadata": {},
   "cell_type": "code",
   "outputs": [],
   "execution_count": null,
   "source": "",
   "id": "991ee8c03682f8e"
  },
  {
   "metadata": {},
   "cell_type": "code",
   "outputs": [],
   "execution_count": null,
   "source": "",
   "id": "8a4ff3741595c01a"
  },
  {
   "metadata": {},
   "cell_type": "code",
   "outputs": [],
   "execution_count": null,
   "source": "",
   "id": "205fbc4bce6a56a5"
  },
  {
   "metadata": {
    "ExecuteTime": {
     "end_time": "2024-11-27T01:54:01.297161Z",
     "start_time": "2024-11-27T01:54:01.274186Z"
    }
   },
   "cell_type": "code",
   "source": "results[]",
   "id": "1eafd383279faaa5",
   "outputs": [
    {
     "ename": "KeyError",
     "evalue": "4",
     "output_type": "error",
     "traceback": [
      "\u001B[1;31m---------------------------------------------------------------------------\u001B[0m",
      "\u001B[1;31mKeyError\u001B[0m                                  Traceback (most recent call last)",
      "Cell \u001B[1;32mIn[44], line 1\u001B[0m\n\u001B[1;32m----> 1\u001B[0m \u001B[43mresults\u001B[49m\u001B[43m[\u001B[49m\u001B[38;5;241;43m4\u001B[39;49m\u001B[43m]\u001B[49m\n",
      "\u001B[1;31mKeyError\u001B[0m: 4"
     ]
    }
   ],
   "execution_count": 44
  },
  {
   "metadata": {},
   "cell_type": "code",
   "outputs": [],
   "execution_count": null,
   "source": "",
   "id": "e94960eb93940073"
  }
 ],
 "metadata": {
  "kernelspec": {
   "display_name": "Python 3",
   "language": "python",
   "name": "python3"
  },
  "language_info": {
   "codemirror_mode": {
    "name": "ipython",
    "version": 2
   },
   "file_extension": ".py",
   "mimetype": "text/x-python",
   "name": "python",
   "nbconvert_exporter": "python",
   "pygments_lexer": "ipython2",
   "version": "2.7.6"
  }
 },
 "nbformat": 4,
 "nbformat_minor": 5
}
