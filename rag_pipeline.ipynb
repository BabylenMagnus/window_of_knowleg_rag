{
 "cells": [
  {
   "cell_type": "code",
   "id": "initial_id",
   "metadata": {
    "collapsed": true,
    "ExecuteTime": {
     "end_time": "2024-11-27T03:03:32.575918Z",
     "start_time": "2024-11-27T03:03:26.545974Z"
    }
   },
   "source": [
    "import chromadb\n",
    "\n",
    "from late_chunking import embed_model, tokenizer\n",
    "\n",
    "from langchain_core.prompts import ChatPromptTemplate\n",
    "from langchain_ollama.llms import OllamaLLM"
   ],
   "outputs": [],
   "execution_count": 1
  },
  {
   "metadata": {
    "ExecuteTime": {
     "end_time": "2024-11-27T03:03:32.836649Z",
     "start_time": "2024-11-27T03:03:32.577427Z"
    }
   },
   "cell_type": "code",
   "source": [
    "chroma_client = chromadb.HttpClient(host='localhost', port=8027)\n",
    "collection = chroma_client.get_or_create_collection(name=\"test\")"
   ],
   "id": "4e6075518651aeab",
   "outputs": [],
   "execution_count": 2
  },
  {
   "metadata": {
    "ExecuteTime": {
     "end_time": "2024-11-27T03:03:32.851673Z",
     "start_time": "2024-11-27T03:03:32.837663Z"
    }
   },
   "cell_type": "code",
   "source": [
    "PROMPT_TEMPLATE = \"\"\"\n",
    "Answer the question based only on the following context:\n",
    "{context}\n",
    " - -\n",
    "Answer the question based on the above context: {question}\n",
    "\"\"\"\n"
   ],
   "id": "8a3657104847f53b",
   "outputs": [],
   "execution_count": 3
  },
  {
   "metadata": {
    "ExecuteTime": {
     "end_time": "2024-11-27T03:03:34.551031Z",
     "start_time": "2024-11-27T03:03:34.317751Z"
    }
   },
   "cell_type": "code",
   "source": [
    "query = \"Что такое CRM?\"\n",
    "embeds = embed_model(**tokenizer(query, return_tensors='pt'))\n",
    "\n",
    "results = collection.query(\n",
    "    query_embeddings=embeds.pooler_output.detach().cpu().numpy(),\n",
    "    n_results=3,\n",
    ")"
   ],
   "id": "1d293b3af0f75ff8",
   "outputs": [],
   "execution_count": 5
  },
  {
   "metadata": {
    "ExecuteTime": {
     "end_time": "2024-11-27T03:03:35.012024Z",
     "start_time": "2024-11-27T03:03:34.992767Z"
    }
   },
   "cell_type": "code",
   "source": "len(results['documents'][0])",
   "id": "f965a8ea32fbe6a5",
   "outputs": [
    {
     "data": {
      "text/plain": [
       "3"
      ]
     },
     "execution_count": 6,
     "metadata": {},
     "output_type": "execute_result"
    }
   ],
   "execution_count": 6
  },
  {
   "metadata": {
    "ExecuteTime": {
     "end_time": "2024-11-27T03:03:35.212565Z",
     "start_time": "2024-11-27T03:03:35.209958Z"
    }
   },
   "cell_type": "code",
   "source": [
    "context_text = \"\\n\\n - -\\n\\n\".join(results['documents'][0])\n",
    "print(context_text)"
   ],
   "id": "24ac20262249ca5a",
   "outputs": [
    {
     "name": "stdout",
     "output_type": "stream",
     "text": [
      " and gamification strategies. With\n",
      "its Single Player View, operators can initiate personalised player journeys\n",
      "for better retention.\n",
      "\n",
      "## Final thoughts\n",
      "\n",
      "In the iGaming world, AI models make tackling complexity not just manageable,\n",
      "but truly exciting. With these smart solutions, you can improve your retention\n",
      "strategies, increase player engagement, and drive even more growth.\n",
      "\n",
      "It's no longer just about keeping up with an industry that's constantly\n",
      "evolving, but instead, setting the benchmark.\n",
      "\n",
      "So, as you move forward, carry with you the insights and inspiration from\n",
      "these advanced models to truly revolutionise the iGaming experience you offer.\n",
      "\n",
      "## Our Latest Blogs\n",
      "\n",
      "Ridiculus Parturient Nibh Fermentum Pellentesque\n",
      "\n",
      "Gaming\n",
      "\n",
      "Jun 27 2024\n",
      "\n",
      "12 min\n",
      "\n",
      "Ace Your Casino with This Casino CRM Software Checklist\n",
      "\n",
      "It goes without saying that in the casino industry, staying ahead requires\n",
      "more than just great games and promotions. Effective customer relationship\n",
      "management is essential for building and\n",
      "\n",
      "Read more\n",
      "\n",
      "customer experience\n",
      "\n",
      "Jun 10 2024\n",
      "\n",
      "6 min\n",
      "\n",
      "Leveraging Free-to-Play to Enhance Cross-Selling in Online Gambling with John\n",
      "Smith\n",
      "\n",
      "The online gambling market is highly competitive, and operators need to\n",
      "constantly come up with new ways to stay relevant. Free-to-Play (F2P)\n",
      "experiences are a smart strategy in this environment. F2P\n",
      "\n",
      "Read more\n",
      "\n",
      "Gaming\n",
      "\n",
      "May 20 2024\n",
      "\n",
      "16 min\n",
      "\n",
      "Ultimate Guide: How Gamification, AI Models, and InfinityAI Are Changing\n",
      "iGaming\n",
      "\n",
      "The right AI models can revolutionise player experience, increase retention,\n",
      "and increase revenue. Just imagine the possibilities they unlock for your\n",
      "iGaming venture – tailored strategies, informed\n",
      "\n",
      "Read more\n",
      "\n",
      "## Get the latest Updates\n",
      "\n",
      "###\n",
      "\n",
      "##  CRM and Loyalty Marketing Powered by AI\n",
      "\n",
      "#####  Legal\n",
      "\n",
      "  * Privacy Policy\n",
      "  * Cookies Policy\n",
      "\n",
      "#####  Company\n",
      "\n",
      "  * About Us\n",
      "  * Careers\n",
      "  * Media\n",
      "\n",
      "#####  Learn\n",
      "\n",
      "  * Blog\n",
      "  * Events\n",
      "  * eBooks\n",
      "  * Podcasts\n",
      "\n",
      "© 2024 Xtremepush. All rights reserved.\n",
      "\n",
      "\n",
      "\n",
      " - -\n",
      "\n",
      "customer experience,  Blog post\n",
      "\n",
      "#  Customer Analytics Software for iGaming: Get into your Players’ Minds\n",
      "\n",
      "by Kinga\n",
      "\n",
      "Mar 11 2024\n",
      "\n",
      "11 min\n",
      "\n",
      "Numbers need to match insights, insights lead to action, and action drives\n",
      "success. In the fast-paced world of iGaming, understanding the player is key\n",
      "to staying ahead. Enter Customer Analytics Software—a game-changer in how you\n",
      "connect with, engage, and retain your players.\n",
      "\n",
      "## **What is Customer Analytics Software?**\n",
      "\n",
      "A customer analytics tool dives deep into your customer data to offer insights\n",
      "on behavior, preferences, and trends, guiding better business decisions.\n",
      "\n",
      "## **Benefits of Using Customer Analytics Software in iGaming**\n",
      "\n",
      "### **Optimize Customer Experience with Data-Driven Insights**\n",
      "\n",
      "Leveraging a customer analytics tool allows iGaming companies to fine-tune the\n",
      "user experience. By analyzing vast amounts of customer data, these tools\n",
      "pinpoint what keeps players coming back. For example, identifying the most\n",
      "popular games or features enables tailored content updates, enhancing customer\n",
      "satisfaction and mobile app retention.\n",
      "\n",
      "### **Enhance Customer Journey Mapping through Analytics**\n",
      "\n",
      "Understanding the customer journey is crucial. An analytics tool like Google\n",
      "Analytics (or GA4) with integrated QR code tracking will track customer\n",
      "interactions from the first click to the last, highlighting areas for\n",
      "improvement. This continuous loop of feedback and action can transform the\n",
      "customer journey, making it more engaging and rewarding.\n",
      "\n",
      "### **Drive Customer Engagement with Targeted Campaigns**\n",
      "\n",
      "Utilizing customer insights, iGaming businesses can craft personalized\n",
      "marketing campaigns that resonate with their audience. By analyzing user\n",
      "behavior and preferences, these platforms enable the creation of content that\n",
      "speaks directly to player interests, significantly boosting engagement levels.\n",
      "This will also make it easier to create content using ChatGPT prompts for\n",
      "instance.\n",
      "\n",
      "### **Boost Customer Loyalty with Personalized Experiences**\n",
      "\n",
      "A customer analytics platform not only tracks customer activity but also aids\n",
      "in creating personalized experiences. By understanding player behavior,\n",
      "companies can reward loyalty through tailored bonuses, promotions, and games,\n",
      "fostering a strong sense of community and loyalty among users.\n",
      "\n",
      "### **Improve Business Decisions with Comprehensive Data Analysis**\n",
      "\n",
      "Data-driven decision-making is at the heart of customer analytics. By offering\n",
      "\n",
      "\n",
      " - -\n",
      "\n",
      "customer experience,  Blog post\n",
      "\n",
      "#  Customer Analytics Software for iGaming: Get into your Players’ Minds\n",
      "\n",
      "by Kinga\n",
      "\n",
      "Mar 11 2024\n",
      "\n",
      "11 min\n",
      "\n",
      "Numbers need to match insights, insights lead to action, and action drives\n",
      "success. In the fast-paced world of iGaming, understanding the player is key\n",
      "to staying ahead. Enter Customer Analytics Software—a game-changer in how you\n",
      "connect with, engage, and retain your players.\n",
      "\n",
      "## **What is Customer Analytics Software?**\n",
      "\n",
      "A customer analytics tool dives deep into your customer data to offer insights\n",
      "on behavior, preferences, and trends, guiding better business decisions.\n",
      "\n",
      "## **Benefits of Using Customer Analytics Software in iGaming**\n",
      "\n",
      "### **Optimize Customer Experience with Data-Driven Insights**\n",
      "\n",
      "Leveraging a customer analytics tool allows iGaming companies to fine-tune the\n",
      "user experience. By analyzing vast amounts of customer data, these tools\n",
      "pinpoint what keeps players coming back. For example, identifying the most\n",
      "popular games or features enables tailored content updates, enhancing customer\n",
      "satisfaction and mobile app retention.\n",
      "\n",
      "### **Enhance Customer Journey Mapping through Analytics**\n",
      "\n",
      "Understanding the customer journey is crucial. An analytics tool like Google\n",
      "Analytics (or GA4) with integrated QR code tracking will track customer\n",
      "interactions from the first click to the last, highlighting areas for\n",
      "improvement. This continuous loop of feedback and action can transform the\n",
      "customer journey, making it more engaging and rewarding.\n",
      "\n",
      "### **Drive Customer Engagement with Targeted Campaigns**\n",
      "\n",
      "Utilizing customer insights, iGaming businesses can craft personalized\n",
      "marketing campaigns that resonate with their audience. By analyzing user\n",
      "behavior and preferences, these platforms enable the creation of content that\n",
      "speaks directly to player interests, significantly boosting engagement levels.\n",
      "This will also make it easier to create content using ChatGPT prompts for\n",
      "instance.\n",
      "\n",
      "### **Boost Customer Loyalty with Personalized Experiences**\n",
      "\n",
      "A customer analytics platform not only tracks customer activity but also aids\n",
      "in creating personalized experiences. By understanding player behavior,\n",
      "companies can reward loyalty through tailored bonuses, promotions, and games,\n",
      "fostering a strong sense of community and loyalty among users.\n",
      "\n",
      "### **Improve Business Decisions with Comprehensive Data Analysis**\n",
      "\n",
      "Data-driven decision-making is at the heart of customer analytics. By offering\n",
      "\n"
     ]
    }
   ],
   "execution_count": 7
  },
  {
   "metadata": {
    "ExecuteTime": {
     "end_time": "2024-11-27T03:09:38.198739Z",
     "start_time": "2024-11-27T03:09:38.183444Z"
    }
   },
   "cell_type": "code",
   "source": [
    "list(set([i['url'] for i in results['metadatas'][0]]))\n",
    "     "
   ],
   "id": "d894ecaf44f8bed1",
   "outputs": [
    {
     "data": {
      "text/plain": [
       "['https://www.xtremepush.com/blog/ultimate-guide-how-gamification-ai-models-and-infinityai-are-changing-igaming',\n",
       " 'https://www.xtremepush.com/blog/customer-analytics-software-for-igaming']"
      ]
     },
     "execution_count": 15,
     "metadata": {},
     "output_type": "execute_result"
    }
   ],
   "execution_count": 15
  },
  {
   "metadata": {
    "ExecuteTime": {
     "end_time": "2024-11-27T03:03:35.384287Z",
     "start_time": "2024-11-27T03:03:35.371892Z"
    }
   },
   "cell_type": "code",
   "source": [
    "prompt_template = ChatPromptTemplate.from_template(PROMPT_TEMPLATE)\n",
    "prompt_template"
   ],
   "id": "210d14ca34b0fb63",
   "outputs": [
    {
     "data": {
      "text/plain": [
       "ChatPromptTemplate(input_variables=['context', 'question'], input_types={}, partial_variables={}, messages=[HumanMessagePromptTemplate(prompt=PromptTemplate(input_variables=['context', 'question'], input_types={}, partial_variables={}, template='\\nAnswer the question based only on the following context:\\n{context}\\n - -\\nAnswer the question based on the above context: {question}\\n'), additional_kwargs={})])"
      ]
     },
     "execution_count": 8,
     "metadata": {},
     "output_type": "execute_result"
    }
   ],
   "execution_count": 8
  },
  {
   "metadata": {
    "ExecuteTime": {
     "end_time": "2024-11-27T03:03:35.553975Z",
     "start_time": "2024-11-27T03:03:35.520274Z"
    }
   },
   "cell_type": "code",
   "source": [
    "prompt = prompt_template.format(context=context_text, question=query)\n",
    "model = OllamaLLM(model=\"hf.co/mav23/Vikhr-Nemo-12B-Instruct-R-21-09-24-GGUF:Q8_0\")"
   ],
   "id": "4c630ca1817a23b7",
   "outputs": [],
   "execution_count": 9
  },
  {
   "metadata": {
    "ExecuteTime": {
     "end_time": "2024-11-27T03:03:59.722451Z",
     "start_time": "2024-11-27T03:03:36.027822Z"
    }
   },
   "cell_type": "code",
   "source": "response_text = model.predict(prompt)",
   "id": "135a49ca9aaa5e65",
   "outputs": [
    {
     "name": "stderr",
     "output_type": "stream",
     "text": [
      "C:\\Users\\user\\AppData\\Local\\Temp\\ipykernel_54020\\3354486309.py:1: LangChainDeprecationWarning: The method `BaseLLM.predict` was deprecated in langchain-core 0.1.7 and will be removed in 1.0. Use :meth:`~invoke` instead.\n",
      "  response_text = model.predict(prompt)\n"
     ]
    },
    {
     "ename": "AttributeError",
     "evalue": "'str' object has no attribute 'content'",
     "output_type": "error",
     "traceback": [
      "\u001B[1;31m---------------------------------------------------------------------------\u001B[0m",
      "\u001B[1;31mAttributeError\u001B[0m                            Traceback (most recent call last)",
      "Cell \u001B[1;32mIn[10], line 2\u001B[0m\n\u001B[0;32m      1\u001B[0m response_text \u001B[38;5;241m=\u001B[39m model\u001B[38;5;241m.\u001B[39mpredict(prompt)\n\u001B[1;32m----> 2\u001B[0m \u001B[38;5;28mprint\u001B[39m(\u001B[43mresponse_text\u001B[49m\u001B[38;5;241;43m.\u001B[39;49m\u001B[43mcontent\u001B[49m)\n",
      "\u001B[1;31mAttributeError\u001B[0m: 'str' object has no attribute 'content'"
     ]
    }
   ],
   "execution_count": 10
  },
  {
   "metadata": {
    "ExecuteTime": {
     "end_time": "2024-11-27T03:04:36.453076Z",
     "start_time": "2024-11-27T03:04:36.448646Z"
    }
   },
   "cell_type": "code",
   "source": "print(response_text)",
   "id": "675a17314a37b3e2",
   "outputs": [
    {
     "name": "stdout",
     "output_type": "stream",
     "text": [
      "CRM (Customer Relationship Management) — это стратегии и инструменты, которые используются в индустрии iGaming для эффективного управления взаимоотношениями с клиентами. На основе предоставленного контекста можно выделить несколько ключевых моментов о том, как CRM используется:\n",
      "\n",
      "- **Улучшение пользовательского опыта**: С помощью CRM и анализа данных компании могут адаптировать игровые пути для каждого игрока, что способствует повышению удержания аудитории.\n",
      "  \n",
      "- **Персонализация взаимодействий с клиентами**: CRM позволяет операторам инициировать персонализированные путешествия игроков в режиме Single Player View.\n",
      "\n",
      "- **Повышение уровня вовлеченности пользователей**: Использование данных для создания целенаправленных маркетинговых кампаний, которые обращаются к интересам и предпочтениям аудитории.\n",
      "\n",
      "- **Стимулирование лояльности клиентов**: Создание индивидуальных бонусов, промоакций и игр на основе поведения игроков для укрепления чувства сообщества и повышения лояльности.\n",
      "\n",
      "- **Поддержка принятия бизнес-решений на основе данных**: CRM предоставляет обширный анализ данных, который помогает компаниям в принятии информированных решений.\n",
      "\n",
      "В целом, CRM в iGaming ориентировано на использование искусственного интеллекта и аналитики для улучшения взаимодействия с игроками, повышения их удержания и увеличения доходов компании.\n"
     ]
    }
   ],
   "execution_count": 11
  },
  {
   "metadata": {},
   "cell_type": "code",
   "source": [
    "import requests\n",
    "import sseclient\n",
    "import threading\n",
    "import json\n",
    "\n",
    "def print_response_chunks(response):\n",
    "    client = sseclient.SSEClient(response)\n",
    "    for event in client.events():\n",
    "        data = event.data.strip()\n",
    "        if data:\n",
    "            message = json.loads(data)\n",
    "            if 'content' in message:\n",
    "                print(message['content'], end='', flush=True)\n",
    "\n",
    "def main():\n",
    "    url = 'http://localhost:8000/chatting'\n",
    "    payload = {\n",
    "        'query': 'Ваш вопрос здесь',\n",
    "        'collection_name': 'test'\n",
    "    }\n",
    "    headers = {'Content-Type': 'application/json'}\n",
    "    response = requests.post(url, json=payload, headers=headers, stream=True)\n",
    "\n",
    "    # Используем SSEClient для обработки событий сервера\n",
    "    client = sseclient.SSEClient(response)\n",
    "\n",
    "    # Сначала выводим источники\n",
    "    sources_printed = False\n",
    "    for event in client.events():\n",
    "        data = event.data.strip()\n",
    "        if data:\n",
    "            message = json.loads(data)\n",
    "            if 'sources' in message and not sources_printed:\n",
    "                print(\"Задействованы источники:\")\n",
    "                for source in message['sources']:\n",
    "                    print(f\"- {source}\")\n",
    "                sources_printed = True\n",
    "                break  # Прерываем цикл, чтобы начать потоковую печать ответа\n",
    "\n",
    "    # Теперь запускаем поток для вывода ответа по мере поступления\n",
    "    threading.Thread(target=print_response_chunks, args=(response,)).start()\n",
    "\n",
    "if __name__ == '__main__':\n",
    "    main()\n"
   ],
   "id": "ac2598fc7dd33c55",
   "outputs": [],
   "execution_count": null
  },
  {
   "metadata": {
    "ExecuteTime": {
     "end_time": "2024-11-27T04:29:26.027104Z",
     "start_time": "2024-11-27T04:29:26.010961Z"
    }
   },
   "cell_type": "code",
   "source": [
    "import requests\n",
    "import threading\n",
    "import json"
   ],
   "id": "e3a95231b20468e1",
   "outputs": [],
   "execution_count": 16
  },
  {
   "metadata": {
    "ExecuteTime": {
     "end_time": "2024-11-27T04:29:28.276225Z",
     "start_time": "2024-11-27T04:29:28.256774Z"
    }
   },
   "cell_type": "code",
   "source": [
    "def print_response_chunks(response):\n",
    "    client = sseclient.SSEClient(response)\n",
    "    for event in client.events():\n",
    "        data = event.data.strip()\n",
    "        if data:\n",
    "            message = json.loads(data)\n",
    "            if 'content' in message:\n",
    "                print(message['content'], end='', flush=True)\n"
   ],
   "id": "709125c27900ca02",
   "outputs": [],
   "execution_count": 17
  },
  {
   "metadata": {},
   "cell_type": "code",
   "outputs": [],
   "execution_count": null,
   "source": [
    "url = 'http://localhost:8000/chatting'\n",
    "payload = {\n",
    "    'query': 'Ваш вопрос здесь',\n",
    "    'collection_name': 'test'\n",
    "}\n",
    "headers = {'Content-Type': 'application/json'}\n",
    "response = requests.post(url, json=payload, headers=headers, stream=True)\n",
    "\n",
    "# Используем SSEClient для обработки событий сервера\n",
    "client = sseclient.SSEClient(response)\n",
    "\n",
    "# Сначала выводим источники\n",
    "sources_printed = False\n",
    "for event in client.events():\n",
    "    data = event.data.strip()\n",
    "    if data:\n",
    "        message = json.loads(data)\n",
    "        if 'sources' in message and not sources_printed:\n",
    "            print(\"Задействованы источники:\")\n",
    "            for source in message['sources']:\n",
    "                print(f\"- {source}\")\n",
    "            sources_printed = True\n",
    "            break  # Прерываем цикл, чтобы начать потоковую печать ответа\n",
    "\n",
    "# Теперь запускаем поток для вывода ответа по мере поступления\n",
    "threading.Thread(target=print_response_chunks, args=(response,)).start()\n"
   ],
   "id": "c5c24d8bb745afa5"
  },
  {
   "metadata": {},
   "cell_type": "code",
   "source": "",
   "id": "3fe4666d88022987",
   "outputs": [],
   "execution_count": null
  },
  {
   "metadata": {},
   "cell_type": "code",
   "source": [
    " \n",
    "  # Create prompt template using context and query text\n",
    "  prompt_template = ChatPromptTemplate.from_template(PROMPT_TEMPLATE)\n",
    "  prompt = prompt_template.format(context=context_text, question=query_text)\n",
    "  \n",
    "  # Initialize OpenAI chat model\n",
    "  model = ChatOpenAI()\n",
    "\n",
    "  # Generate response text based on the prompt\n",
    "  response_text = model.predict(prompt)\n",
    " \n",
    "   # Get sources of the matching documents\n",
    "  sources = [doc.metadata.get(\"source\", None) for doc, _score in results]\n",
    " \n",
    "  # Format and return response including generated text and sources\n",
    "  formatted_response = f\"Response: {response_text}\\nSources: {sources}\"\n",
    "  return formatted_response, response_text\n",
    "\n",
    "# Let's call our function we have defined\n",
    "formatted_response, response_text = query_rag(query_text)\n",
    "# and finally, inspect our final response!\n",
    "print(response_text)\n"
   ],
   "id": "5e6722cb0d0b7936",
   "outputs": [],
   "execution_count": null
  },
  {
   "metadata": {},
   "cell_type": "code",
   "outputs": [],
   "execution_count": null,
   "source": "",
   "id": "8a95df497f81efa1"
  },
  {
   "metadata": {},
   "cell_type": "code",
   "outputs": [],
   "execution_count": null,
   "source": "",
   "id": "d147ccec7a632f94"
  },
  {
   "metadata": {
    "ExecuteTime": {
     "end_time": "2024-11-27T04:30:06.947766Z",
     "start_time": "2024-11-27T04:30:06.650790Z"
    }
   },
   "cell_type": "code",
   "source": [
    "import aiohttp\n",
    "import asyncio\n",
    "import json"
   ],
   "id": "9036cb67b70ff93c",
   "outputs": [],
   "execution_count": 18
  },
  {
   "metadata": {
    "ExecuteTime": {
     "end_time": "2024-11-27T07:33:31.815759Z",
     "start_time": "2024-11-27T07:33:20.236290Z"
    }
   },
   "cell_type": "code",
   "source": [
    "url = 'https://b299-150-241-77-52.ngrok-free.app/chatting'\n",
    "payload = {\n",
    "    'query': 'Что такое CRM?',\n",
    "    'collection_name': 'test',\n",
    "    'verify': False\n",
    "}\n",
    "async with aiohttp.ClientSession() as session:\n",
    "    async with session.get(url, json=payload) as response:\n",
    "        async for line in response.content:\n",
    "            data = line.decode('utf-8').strip()\n",
    "            if data.startswith('data: '):\n",
    "                json_data = data[len('data: '):]\n",
    "                message = json.loads(json_data)\n",
    "                if 'sources' in message:\n",
    "                    print(\"Задействованы источники:\")\n",
    "                    for source in message['sources']:\n",
    "                        print(f\"- {source}\")\n",
    "                elif 'content' in message:\n",
    "                    print(message['content'], end='', flush=True)"
   ],
   "id": "7007d57a28b771fb",
   "outputs": [
    {
     "name": "stdout",
     "output_type": "stream",
     "text": [
      "Задействованы источники:\n",
      "- https://www.xtremepush.com/blog/customer-analytics-software-for-igaming\n",
      "- https://www.xtremepush.com/blog/ultimate-guide-how-gamification-ai-models-and-infinityai-are-changing-igaming\n",
      "CRM в данном контексте означает \"Customer Relationship Management\" (управление взаимоотношениями с клиентами). Это система или набор инструментов, который используется для управления и анализа взаимодействий компании с потенциальными и текущими клиентами. В индустрии iGaming CRM играет важную роль в управлении отношениями между игровыми операторами и их пользователями, помогая улучшить удержание игроков через персонализированные предложения и повышение вовлеченности игроков с помощью умных технологий, включая искусственный интеллект."
     ]
    }
   ],
   "execution_count": 44
  },
  {
   "metadata": {
    "ExecuteTime": {
     "end_time": "2024-11-27T04:54:26.665581Z",
     "start_time": "2024-11-27T04:54:26.657953Z"
    }
   },
   "cell_type": "code",
   "source": "import requests",
   "id": "ab366aa3bb6df3e6",
   "outputs": [],
   "execution_count": 31
  },
  {
   "metadata": {
    "ExecuteTime": {
     "end_time": "2024-11-27T05:00:32.493250Z",
     "start_time": "2024-11-27T05:00:31.910890Z"
    }
   },
   "cell_type": "code",
   "source": [
    "url = 'https://sabwoofer_220wolt.serveo.net/'\n",
    "requests.get(url, verify=False).text"
   ],
   "id": "1c1a101ac494e8c8",
   "outputs": [
    {
     "name": "stderr",
     "output_type": "stream",
     "text": [
      "C:\\Users\\user\\AppData\\Local\\Programs\\Python\\Python39\\lib\\site-packages\\urllib3\\connectionpool.py:1099: InsecureRequestWarning: Unverified HTTPS request is being made to host 'sabwoofer_220wolt.serveo.net'. Adding certificate verification is strongly advised. See: https://urllib3.readthedocs.io/en/latest/advanced-usage.html#tls-warnings\n",
      "  warnings.warn(\n"
     ]
    },
    {
     "data": {
      "text/plain": [
       "'Здараво бандины'"
      ]
     },
     "execution_count": 37,
     "metadata": {},
     "output_type": "execute_result"
    }
   ],
   "execution_count": 37
  },
  {
   "metadata": {
    "ExecuteTime": {
     "end_time": "2024-11-27T05:19:08.024820Z",
     "start_time": "2024-11-27T05:19:08.012698Z"
    }
   },
   "cell_type": "code",
   "source": "from datetime import timedelta, datetime",
   "id": "1c6b015e98c44881",
   "outputs": [],
   "execution_count": 40
  },
  {
   "metadata": {
    "ExecuteTime": {
     "end_time": "2024-11-27T05:19:26.093648Z",
     "start_time": "2024-11-27T05:19:26.084892Z"
    }
   },
   "cell_type": "code",
   "source": "150 * 0.75",
   "id": "54c5b96cd04aa44c",
   "outputs": [
    {
     "data": {
      "text/plain": [
       "112.5"
      ]
     },
     "execution_count": 42,
     "metadata": {},
     "output_type": "execute_result"
    }
   ],
   "execution_count": 42
  },
  {
   "metadata": {
    "ExecuteTime": {
     "end_time": "2024-11-27T05:19:55.026886Z",
     "start_time": "2024-11-27T05:19:55.021806Z"
    }
   },
   "cell_type": "code",
   "source": "datetime(2024, 2, 7, 5, 47) + timedelta(minutes=113)",
   "id": "d06d3cf7fa4c95a7",
   "outputs": [
    {
     "data": {
      "text/plain": [
       "datetime.datetime(2024, 2, 7, 7, 40)"
      ]
     },
     "execution_count": 43,
     "metadata": {},
     "output_type": "execute_result"
    }
   ],
   "execution_count": 43
  },
  {
   "metadata": {},
   "cell_type": "code",
   "outputs": [],
   "execution_count": null,
   "source": [
    "\n",
    "async def main():\n",
    "    url = 'http://localhost:8000/chatting'\n",
    "    payload = {\n",
    "        'query': 'Ваш вопрос здесь',\n",
    "        'collection_name': 'test'\n",
    "    }\n",
    "    async with aiohttp.ClientSession() as session:\n",
    "        async with session.post(url, json=payload) as response:\n",
    "            async for line in response.content:\n",
    "                data = line.decode('utf-8').strip()\n",
    "                if data.startswith('data: '):\n",
    "                    json_data = data[len('data: '):]\n",
    "                    message = json.loads(json_data)\n",
    "                    if 'sources' in message:\n",
    "                        print(\"Задействованы источники:\")\n",
    "                        for source in message['sources']:\n",
    "                            print(f\"- {source}\")\n",
    "                    elif 'content' in message:\n",
    "                        print(message['content'], end='', flush=True)\n"
   ],
   "id": "dd74b596a4588730"
  },
  {
   "metadata": {},
   "cell_type": "code",
   "source": "",
   "id": "6efd44ce2edb6b6d",
   "outputs": [],
   "execution_count": null
  }
 ],
 "metadata": {
  "kernelspec": {
   "display_name": "Python 3",
   "language": "python",
   "name": "python3"
  },
  "language_info": {
   "codemirror_mode": {
    "name": "ipython",
    "version": 2
   },
   "file_extension": ".py",
   "mimetype": "text/x-python",
   "name": "python",
   "nbconvert_exporter": "python",
   "pygments_lexer": "ipython2",
   "version": "2.7.6"
  }
 },
 "nbformat": 4,
 "nbformat_minor": 5
}
