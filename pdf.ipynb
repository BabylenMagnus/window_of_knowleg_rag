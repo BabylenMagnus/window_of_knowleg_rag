{
 "cells": [
  {
   "cell_type": "code",
   "id": "initial_id",
   "metadata": {
    "collapsed": true,
    "ExecuteTime": {
     "end_time": "2024-11-27T11:33:35.823615Z",
     "start_time": "2024-11-27T11:33:31.652844Z"
    }
   },
   "source": [
    "from marker.convert import convert_single_pdf\n",
    "from marker.models import load_all_models"
   ],
   "outputs": [],
   "execution_count": 1
  },
  {
   "metadata": {
    "ExecuteTime": {
     "end_time": "2024-11-27T11:33:35.839570Z",
     "start_time": "2024-11-27T11:33:35.824511Z"
    }
   },
   "cell_type": "code",
   "source": "from surya.model.recognition import decoder",
   "id": "e815c206bd774f48",
   "outputs": [],
   "execution_count": 2
  },
  {
   "metadata": {
    "ExecuteTime": {
     "end_time": "2024-11-27T11:33:35.854505Z",
     "start_time": "2024-11-27T11:33:35.840125Z"
    }
   },
   "cell_type": "code",
   "source": "from surya import ocr",
   "id": "81d8dab61a10c48",
   "outputs": [],
   "execution_count": 3
  },
  {
   "metadata": {
    "ExecuteTime": {
     "end_time": "2024-11-27T11:36:55.424574Z",
     "start_time": "2024-11-27T11:36:46.729445Z"
    }
   },
   "cell_type": "code",
   "source": [
    "fpath = r\"C:\\Users\\user\\Downloads\\Telegram Desktop\\LR__6_Ustanovka_OS_Astra_Linux_SE.pdf\"\n",
    "model_lst = load_all_models()\n",
    "full_text, images, out_meta = convert_single_pdf(fpath, model_lst)"
   ],
   "id": "6d99c964e01c7c16",
   "outputs": [
    {
     "name": "stdout",
     "output_type": "stream",
     "text": [
      "Loaded detection model vikp/surya_det3 on device cuda with dtype torch.float16\n",
      "Loaded detection model vikp/surya_layout3 on device cuda with dtype torch.float16\n"
     ]
    },
    {
     "ename": "KeyError",
     "evalue": "'sdpa'",
     "output_type": "error",
     "traceback": [
      "\u001B[1;31m---------------------------------------------------------------------------\u001B[0m",
      "\u001B[1;31mKeyError\u001B[0m                                  Traceback (most recent call last)",
      "Cell \u001B[1;32mIn[6], line 2\u001B[0m\n\u001B[0;32m      1\u001B[0m fpath \u001B[38;5;241m=\u001B[39m \u001B[38;5;124mr\u001B[39m\u001B[38;5;124m\"\u001B[39m\u001B[38;5;124mC:\u001B[39m\u001B[38;5;124m\\\u001B[39m\u001B[38;5;124mUsers\u001B[39m\u001B[38;5;124m\\\u001B[39m\u001B[38;5;124muser\u001B[39m\u001B[38;5;124m\\\u001B[39m\u001B[38;5;124mDownloads\u001B[39m\u001B[38;5;124m\\\u001B[39m\u001B[38;5;124mTelegram Desktop\u001B[39m\u001B[38;5;124m\\\u001B[39m\u001B[38;5;124mLR__6_Ustanovka_OS_Astra_Linux_SE.pdf\u001B[39m\u001B[38;5;124m\"\u001B[39m\n\u001B[1;32m----> 2\u001B[0m model_lst \u001B[38;5;241m=\u001B[39m \u001B[43mload_all_models\u001B[49m\u001B[43m(\u001B[49m\u001B[43m)\u001B[49m\n\u001B[0;32m      3\u001B[0m full_text, images, out_meta \u001B[38;5;241m=\u001B[39m convert_single_pdf(fpath, model_lst)\n",
      "File \u001B[1;32m~\\AppData\\Local\\Programs\\Python\\Python39\\lib\\site-packages\\marker\\models.py:74\u001B[0m, in \u001B[0;36mload_all_models\u001B[1;34m(device, dtype, force_load_ocr)\u001B[0m\n\u001B[0;32m     72\u001B[0m detection \u001B[38;5;241m=\u001B[39m setup_detection_model(device, dtype)\n\u001B[0;32m     73\u001B[0m layout \u001B[38;5;241m=\u001B[39m setup_layout_model(device, dtype)\n\u001B[1;32m---> 74\u001B[0m order \u001B[38;5;241m=\u001B[39m \u001B[43msetup_order_model\u001B[49m\u001B[43m(\u001B[49m\u001B[43mdevice\u001B[49m\u001B[43m,\u001B[49m\u001B[43m \u001B[49m\u001B[43mdtype\u001B[49m\u001B[43m)\u001B[49m\n\u001B[0;32m     75\u001B[0m edit \u001B[38;5;241m=\u001B[39m load_editing_model(device, dtype)\n\u001B[0;32m     77\u001B[0m \u001B[38;5;66;03m# Only load recognition model if we'll need it for all pdfs\u001B[39;00m\n",
      "File \u001B[1;32m~\\AppData\\Local\\Programs\\Python\\Python39\\lib\\site-packages\\marker\\models.py:61\u001B[0m, in \u001B[0;36msetup_order_model\u001B[1;34m(device, dtype)\u001B[0m\n\u001B[0;32m     59\u001B[0m     model \u001B[38;5;241m=\u001B[39m load_order_model(device\u001B[38;5;241m=\u001B[39mdevice, dtype\u001B[38;5;241m=\u001B[39mdtype)\n\u001B[0;32m     60\u001B[0m \u001B[38;5;28;01melse\u001B[39;00m:\n\u001B[1;32m---> 61\u001B[0m     model \u001B[38;5;241m=\u001B[39m \u001B[43mload_order_model\u001B[49m\u001B[43m(\u001B[49m\u001B[43m)\u001B[49m\n\u001B[0;32m     62\u001B[0m processor \u001B[38;5;241m=\u001B[39m load_order_processor()\n\u001B[0;32m     63\u001B[0m model\u001B[38;5;241m.\u001B[39mprocessor \u001B[38;5;241m=\u001B[39m processor\n",
      "File \u001B[1;32m~\\AppData\\Local\\Programs\\Python\\Python39\\lib\\site-packages\\surya\\model\\ordering\\model.py:27\u001B[0m, in \u001B[0;36mload_model\u001B[1;34m(checkpoint, device, dtype)\u001B[0m\n\u001B[0;32m     24\u001B[0m AutoModelForCausalLM\u001B[38;5;241m.\u001B[39mregister(MBartOrderConfig, MBartOrder)\n\u001B[0;32m     25\u001B[0m AutoModel\u001B[38;5;241m.\u001B[39mregister(VariableDonutSwinConfig, VariableDonutSwinModel)\n\u001B[1;32m---> 27\u001B[0m model \u001B[38;5;241m=\u001B[39m \u001B[43mOrderVisionEncoderDecoderModel\u001B[49m\u001B[38;5;241;43m.\u001B[39;49m\u001B[43mfrom_pretrained\u001B[49m\u001B[43m(\u001B[49m\u001B[43mcheckpoint\u001B[49m\u001B[43m,\u001B[49m\u001B[43m \u001B[49m\u001B[43mconfig\u001B[49m\u001B[38;5;241;43m=\u001B[39;49m\u001B[43mconfig\u001B[49m\u001B[43m,\u001B[49m\u001B[43m \u001B[49m\u001B[43mtorch_dtype\u001B[49m\u001B[38;5;241;43m=\u001B[39;49m\u001B[43mdtype\u001B[49m\u001B[43m)\u001B[49m\n\u001B[0;32m     28\u001B[0m \u001B[38;5;28;01massert\u001B[39;00m \u001B[38;5;28misinstance\u001B[39m(model\u001B[38;5;241m.\u001B[39mdecoder, MBartOrder)\n\u001B[0;32m     29\u001B[0m \u001B[38;5;28;01massert\u001B[39;00m \u001B[38;5;28misinstance\u001B[39m(model\u001B[38;5;241m.\u001B[39mencoder, VariableDonutSwinModel)\n",
      "File \u001B[1;32m~\\AppData\\Local\\Programs\\Python\\Python39\\lib\\site-packages\\transformers\\models\\vision_encoder_decoder\\modeling_vision_encoder_decoder.py:376\u001B[0m, in \u001B[0;36mVisionEncoderDecoderModel.from_pretrained\u001B[1;34m(cls, pretrained_model_name_or_path, *model_args, **kwargs)\u001B[0m\n\u001B[0;32m    370\u001B[0m     logger\u001B[38;5;241m.\u001B[39mwarning(\n\u001B[0;32m    371\u001B[0m         \u001B[38;5;124m\"\u001B[39m\u001B[38;5;124mFast initialization is currently not supported for VisionEncoderDecoderModel. \u001B[39m\u001B[38;5;124m\"\u001B[39m\n\u001B[0;32m    372\u001B[0m         \u001B[38;5;124m\"\u001B[39m\u001B[38;5;124mFalling back to slow initialization...\u001B[39m\u001B[38;5;124m\"\u001B[39m\n\u001B[0;32m    373\u001B[0m     )\n\u001B[0;32m    374\u001B[0m kwargs[\u001B[38;5;124m\"\u001B[39m\u001B[38;5;124m_fast_init\u001B[39m\u001B[38;5;124m\"\u001B[39m] \u001B[38;5;241m=\u001B[39m \u001B[38;5;28;01mFalse\u001B[39;00m\n\u001B[1;32m--> 376\u001B[0m \u001B[38;5;28;01mreturn\u001B[39;00m \u001B[38;5;28msuper\u001B[39m()\u001B[38;5;241m.\u001B[39mfrom_pretrained(pretrained_model_name_or_path, \u001B[38;5;241m*\u001B[39mmodel_args, \u001B[38;5;241m*\u001B[39m\u001B[38;5;241m*\u001B[39mkwargs)\n",
      "File \u001B[1;32m~\\AppData\\Local\\Programs\\Python\\Python39\\lib\\site-packages\\transformers\\modeling_utils.py:4097\u001B[0m, in \u001B[0;36mPreTrainedModel.from_pretrained\u001B[1;34m(cls, pretrained_model_name_or_path, config, cache_dir, ignore_mismatched_sizes, force_download, local_files_only, token, revision, use_safetensors, weights_only, *model_args, **kwargs)\u001B[0m\n\u001B[0;32m   4091\u001B[0m     config \u001B[38;5;241m=\u001B[39m \u001B[38;5;28mcls\u001B[39m\u001B[38;5;241m.\u001B[39m_autoset_attn_implementation(\n\u001B[0;32m   4092\u001B[0m         config, use_flash_attention_2\u001B[38;5;241m=\u001B[39muse_flash_attention_2, torch_dtype\u001B[38;5;241m=\u001B[39mtorch_dtype, device_map\u001B[38;5;241m=\u001B[39mdevice_map\n\u001B[0;32m   4093\u001B[0m     )\n\u001B[0;32m   4095\u001B[0m \u001B[38;5;28;01mwith\u001B[39;00m ContextManagers(init_contexts):\n\u001B[0;32m   4096\u001B[0m     \u001B[38;5;66;03m# Let's make sure we don't run the init function of buffer modules\u001B[39;00m\n\u001B[1;32m-> 4097\u001B[0m     model \u001B[38;5;241m=\u001B[39m \u001B[38;5;28mcls\u001B[39m(config, \u001B[38;5;241m*\u001B[39mmodel_args, \u001B[38;5;241m*\u001B[39m\u001B[38;5;241m*\u001B[39mmodel_kwargs)\n\u001B[0;32m   4099\u001B[0m \u001B[38;5;66;03m# make sure we use the model's config since the __init__ call might have copied it\u001B[39;00m\n\u001B[0;32m   4100\u001B[0m config \u001B[38;5;241m=\u001B[39m model\u001B[38;5;241m.\u001B[39mconfig\n",
      "File \u001B[1;32m~\\AppData\\Local\\Programs\\Python\\Python39\\lib\\site-packages\\transformers\\models\\vision_encoder_decoder\\modeling_vision_encoder_decoder.py:199\u001B[0m, in \u001B[0;36mVisionEncoderDecoderModel.__init__\u001B[1;34m(self, config, encoder, decoder)\u001B[0m\n\u001B[0;32m    196\u001B[0m     encoder \u001B[38;5;241m=\u001B[39m AutoModel\u001B[38;5;241m.\u001B[39mfrom_config(config\u001B[38;5;241m.\u001B[39mencoder)\n\u001B[0;32m    198\u001B[0m \u001B[38;5;28;01mif\u001B[39;00m decoder \u001B[38;5;129;01mis\u001B[39;00m \u001B[38;5;28;01mNone\u001B[39;00m:\n\u001B[1;32m--> 199\u001B[0m     decoder \u001B[38;5;241m=\u001B[39m \u001B[43mAutoModelForCausalLM\u001B[49m\u001B[38;5;241;43m.\u001B[39;49m\u001B[43mfrom_config\u001B[49m\u001B[43m(\u001B[49m\u001B[43mconfig\u001B[49m\u001B[38;5;241;43m.\u001B[39;49m\u001B[43mdecoder\u001B[49m\u001B[43m)\u001B[49m\n\u001B[0;32m    201\u001B[0m \u001B[38;5;28mself\u001B[39m\u001B[38;5;241m.\u001B[39mencoder \u001B[38;5;241m=\u001B[39m encoder\n\u001B[0;32m    202\u001B[0m \u001B[38;5;28mself\u001B[39m\u001B[38;5;241m.\u001B[39mdecoder \u001B[38;5;241m=\u001B[39m decoder\n",
      "File \u001B[1;32m~\\AppData\\Local\\Programs\\Python\\Python39\\lib\\site-packages\\transformers\\models\\auto\\auto_factory.py:440\u001B[0m, in \u001B[0;36m_BaseAutoModelClass.from_config\u001B[1;34m(cls, config, **kwargs)\u001B[0m\n\u001B[0;32m    438\u001B[0m \u001B[38;5;28;01melif\u001B[39;00m \u001B[38;5;28mtype\u001B[39m(config) \u001B[38;5;129;01min\u001B[39;00m \u001B[38;5;28mcls\u001B[39m\u001B[38;5;241m.\u001B[39m_model_mapping\u001B[38;5;241m.\u001B[39mkeys():\n\u001B[0;32m    439\u001B[0m     model_class \u001B[38;5;241m=\u001B[39m _get_model_class(config, \u001B[38;5;28mcls\u001B[39m\u001B[38;5;241m.\u001B[39m_model_mapping)\n\u001B[1;32m--> 440\u001B[0m     \u001B[38;5;28;01mreturn\u001B[39;00m model_class\u001B[38;5;241m.\u001B[39m_from_config(config, \u001B[38;5;241m*\u001B[39m\u001B[38;5;241m*\u001B[39mkwargs)\n\u001B[0;32m    442\u001B[0m \u001B[38;5;28;01mraise\u001B[39;00m \u001B[38;5;167;01mValueError\u001B[39;00m(\n\u001B[0;32m    443\u001B[0m     \u001B[38;5;124mf\u001B[39m\u001B[38;5;124m\"\u001B[39m\u001B[38;5;124mUnrecognized configuration class \u001B[39m\u001B[38;5;132;01m{\u001B[39;00mconfig\u001B[38;5;241m.\u001B[39m\u001B[38;5;18m__class__\u001B[39m\u001B[38;5;132;01m}\u001B[39;00m\u001B[38;5;124m for this kind of AutoModel: \u001B[39m\u001B[38;5;132;01m{\u001B[39;00m\u001B[38;5;28mcls\u001B[39m\u001B[38;5;241m.\u001B[39m\u001B[38;5;18m__name__\u001B[39m\u001B[38;5;132;01m}\u001B[39;00m\u001B[38;5;124m.\u001B[39m\u001B[38;5;130;01m\\n\u001B[39;00m\u001B[38;5;124m\"\u001B[39m\n\u001B[0;32m    444\u001B[0m     \u001B[38;5;124mf\u001B[39m\u001B[38;5;124m\"\u001B[39m\u001B[38;5;124mModel type should be one of \u001B[39m\u001B[38;5;132;01m{\u001B[39;00m\u001B[38;5;124m'\u001B[39m\u001B[38;5;124m, \u001B[39m\u001B[38;5;124m'\u001B[39m\u001B[38;5;241m.\u001B[39mjoin(c\u001B[38;5;241m.\u001B[39m\u001B[38;5;18m__name__\u001B[39m\u001B[38;5;250m \u001B[39m\u001B[38;5;28;01mfor\u001B[39;00m\u001B[38;5;250m \u001B[39mc\u001B[38;5;250m \u001B[39m\u001B[38;5;129;01min\u001B[39;00m\u001B[38;5;250m \u001B[39m\u001B[38;5;28mcls\u001B[39m\u001B[38;5;241m.\u001B[39m_model_mapping\u001B[38;5;241m.\u001B[39mkeys())\u001B[38;5;132;01m}\u001B[39;00m\u001B[38;5;124m.\u001B[39m\u001B[38;5;124m\"\u001B[39m\n\u001B[0;32m    445\u001B[0m )\n",
      "File \u001B[1;32m~\\AppData\\Local\\Programs\\Python\\Python39\\lib\\site-packages\\transformers\\modeling_utils.py:1544\u001B[0m, in \u001B[0;36mPreTrainedModel._from_config\u001B[1;34m(cls, config, **kwargs)\u001B[0m\n\u001B[0;32m   1541\u001B[0m         model \u001B[38;5;241m=\u001B[39m \u001B[38;5;28mcls\u001B[39m(config, \u001B[38;5;241m*\u001B[39m\u001B[38;5;241m*\u001B[39mkwargs)\n\u001B[0;32m   1543\u001B[0m \u001B[38;5;28;01melse\u001B[39;00m:\n\u001B[1;32m-> 1544\u001B[0m     model \u001B[38;5;241m=\u001B[39m \u001B[38;5;28mcls\u001B[39m(config, \u001B[38;5;241m*\u001B[39m\u001B[38;5;241m*\u001B[39mkwargs)\n\u001B[0;32m   1546\u001B[0m \u001B[38;5;66;03m# restore default dtype if it was modified\u001B[39;00m\n\u001B[0;32m   1547\u001B[0m \u001B[38;5;28;01mif\u001B[39;00m dtype_orig \u001B[38;5;129;01mis\u001B[39;00m \u001B[38;5;129;01mnot\u001B[39;00m \u001B[38;5;28;01mNone\u001B[39;00m:\n",
      "File \u001B[1;32m~\\AppData\\Local\\Programs\\Python\\Python39\\lib\\site-packages\\surya\\model\\ordering\\decoder.py:495\u001B[0m, in \u001B[0;36mMBartOrder.__init__\u001B[1;34m(self, config, **kwargs)\u001B[0m\n\u001B[0;32m    493\u001B[0m config\u001B[38;5;241m.\u001B[39mis_encoder_decoder \u001B[38;5;241m=\u001B[39m \u001B[38;5;28;01mFalse\u001B[39;00m\n\u001B[0;32m    494\u001B[0m MBartPreTrainedModel\u001B[38;5;241m.\u001B[39m\u001B[38;5;21m__init__\u001B[39m(\u001B[38;5;28mself\u001B[39m, config)\n\u001B[1;32m--> 495\u001B[0m \u001B[38;5;28mself\u001B[39m\u001B[38;5;241m.\u001B[39mmodel \u001B[38;5;241m=\u001B[39m \u001B[43mMBartOrderDecoderWrapper\u001B[49m\u001B[43m(\u001B[49m\u001B[43mconfig\u001B[49m\u001B[43m)\u001B[49m\n\u001B[0;32m    497\u001B[0m \u001B[38;5;28mself\u001B[39m\u001B[38;5;241m.\u001B[39mlm_head \u001B[38;5;241m=\u001B[39m nn\u001B[38;5;241m.\u001B[39mLinear(config\u001B[38;5;241m.\u001B[39mhidden_size, config\u001B[38;5;241m.\u001B[39mvocab_size, bias\u001B[38;5;241m=\u001B[39m\u001B[38;5;28;01mFalse\u001B[39;00m)\n\u001B[0;32m    499\u001B[0m \u001B[38;5;66;03m# Initialize weights and apply final processing\u001B[39;00m\n",
      "File \u001B[1;32m~\\AppData\\Local\\Programs\\Python\\Python39\\lib\\site-packages\\surya\\model\\ordering\\decoder.py:480\u001B[0m, in \u001B[0;36mMBartOrderDecoderWrapper.__init__\u001B[1;34m(self, config)\u001B[0m\n\u001B[0;32m    478\u001B[0m \u001B[38;5;28;01mdef\u001B[39;00m \u001B[38;5;21m__init__\u001B[39m(\u001B[38;5;28mself\u001B[39m, config):\n\u001B[0;32m    479\u001B[0m     \u001B[38;5;28msuper\u001B[39m()\u001B[38;5;241m.\u001B[39m\u001B[38;5;21m__init__\u001B[39m(config)\n\u001B[1;32m--> 480\u001B[0m     \u001B[38;5;28mself\u001B[39m\u001B[38;5;241m.\u001B[39mdecoder \u001B[38;5;241m=\u001B[39m \u001B[43mMBartOrderDecoder\u001B[49m\u001B[43m(\u001B[49m\u001B[43mconfig\u001B[49m\u001B[43m)\u001B[49m\n",
      "File \u001B[1;32m~\\AppData\\Local\\Programs\\Python\\Python39\\lib\\site-packages\\surya\\model\\ordering\\decoder.py:294\u001B[0m, in \u001B[0;36mMBartOrderDecoder.__init__\u001B[1;34m(self, config, embed_tokens)\u001B[0m\n\u001B[0;32m    289\u001B[0m \u001B[38;5;28mself\u001B[39m\u001B[38;5;241m.\u001B[39membed_positions \u001B[38;5;241m=\u001B[39m MBartLearnedPositionalEmbedding(\n\u001B[0;32m    290\u001B[0m     config\u001B[38;5;241m.\u001B[39mmax_position_embeddings,\n\u001B[0;32m    291\u001B[0m     config\u001B[38;5;241m.\u001B[39md_model,\n\u001B[0;32m    292\u001B[0m )\n\u001B[0;32m    293\u001B[0m \u001B[38;5;66;03m# Language-specific MoE goes at second and second-to-last layer\u001B[39;00m\n\u001B[1;32m--> 294\u001B[0m \u001B[38;5;28mself\u001B[39m\u001B[38;5;241m.\u001B[39mlayers \u001B[38;5;241m=\u001B[39m nn\u001B[38;5;241m.\u001B[39mModuleList([MBartOrderDecoderLayer(config) \u001B[38;5;28;01mfor\u001B[39;00m _ \u001B[38;5;129;01min\u001B[39;00m \u001B[38;5;28mrange\u001B[39m(config\u001B[38;5;241m.\u001B[39mdecoder_layers)])\n\u001B[0;32m    295\u001B[0m \u001B[38;5;28mself\u001B[39m\u001B[38;5;241m.\u001B[39m_use_flash_attention_2 \u001B[38;5;241m=\u001B[39m config\u001B[38;5;241m.\u001B[39m_attn_implementation \u001B[38;5;241m==\u001B[39m \u001B[38;5;124m\"\u001B[39m\u001B[38;5;124mflash_attention_2\u001B[39m\u001B[38;5;124m\"\u001B[39m\n\u001B[0;32m    296\u001B[0m \u001B[38;5;28mself\u001B[39m\u001B[38;5;241m.\u001B[39mlayernorm_embedding \u001B[38;5;241m=\u001B[39m nn\u001B[38;5;241m.\u001B[39mLayerNorm(config\u001B[38;5;241m.\u001B[39md_model)\n",
      "File \u001B[1;32m~\\AppData\\Local\\Programs\\Python\\Python39\\lib\\site-packages\\surya\\model\\ordering\\decoder.py:294\u001B[0m, in \u001B[0;36m<listcomp>\u001B[1;34m(.0)\u001B[0m\n\u001B[0;32m    289\u001B[0m \u001B[38;5;28mself\u001B[39m\u001B[38;5;241m.\u001B[39membed_positions \u001B[38;5;241m=\u001B[39m MBartLearnedPositionalEmbedding(\n\u001B[0;32m    290\u001B[0m     config\u001B[38;5;241m.\u001B[39mmax_position_embeddings,\n\u001B[0;32m    291\u001B[0m     config\u001B[38;5;241m.\u001B[39md_model,\n\u001B[0;32m    292\u001B[0m )\n\u001B[0;32m    293\u001B[0m \u001B[38;5;66;03m# Language-specific MoE goes at second and second-to-last layer\u001B[39;00m\n\u001B[1;32m--> 294\u001B[0m \u001B[38;5;28mself\u001B[39m\u001B[38;5;241m.\u001B[39mlayers \u001B[38;5;241m=\u001B[39m nn\u001B[38;5;241m.\u001B[39mModuleList([\u001B[43mMBartOrderDecoderLayer\u001B[49m\u001B[43m(\u001B[49m\u001B[43mconfig\u001B[49m\u001B[43m)\u001B[49m \u001B[38;5;28;01mfor\u001B[39;00m _ \u001B[38;5;129;01min\u001B[39;00m \u001B[38;5;28mrange\u001B[39m(config\u001B[38;5;241m.\u001B[39mdecoder_layers)])\n\u001B[0;32m    295\u001B[0m \u001B[38;5;28mself\u001B[39m\u001B[38;5;241m.\u001B[39m_use_flash_attention_2 \u001B[38;5;241m=\u001B[39m config\u001B[38;5;241m.\u001B[39m_attn_implementation \u001B[38;5;241m==\u001B[39m \u001B[38;5;124m\"\u001B[39m\u001B[38;5;124mflash_attention_2\u001B[39m\u001B[38;5;124m\"\u001B[39m\n\u001B[0;32m    296\u001B[0m \u001B[38;5;28mself\u001B[39m\u001B[38;5;241m.\u001B[39mlayernorm_embedding \u001B[38;5;241m=\u001B[39m nn\u001B[38;5;241m.\u001B[39mLayerNorm(config\u001B[38;5;241m.\u001B[39md_model)\n",
      "File \u001B[1;32m~\\AppData\\Local\\Programs\\Python\\Python39\\lib\\site-packages\\surya\\model\\ordering\\decoder.py:209\u001B[0m, in \u001B[0;36mMBartOrderDecoderLayer.__init__\u001B[1;34m(self, config)\u001B[0m\n\u001B[0;32m    206\u001B[0m nn\u001B[38;5;241m.\u001B[39mModule\u001B[38;5;241m.\u001B[39m\u001B[38;5;21m__init__\u001B[39m(\u001B[38;5;28mself\u001B[39m)\n\u001B[0;32m    207\u001B[0m \u001B[38;5;28mself\u001B[39m\u001B[38;5;241m.\u001B[39membed_dim \u001B[38;5;241m=\u001B[39m config\u001B[38;5;241m.\u001B[39md_model\n\u001B[1;32m--> 209\u001B[0m \u001B[38;5;28mself\u001B[39m\u001B[38;5;241m.\u001B[39mself_attn \u001B[38;5;241m=\u001B[39m \u001B[43mMBART_ATTENTION_CLASSES\u001B[49m\u001B[43m[\u001B[49m\u001B[43mconfig\u001B[49m\u001B[38;5;241;43m.\u001B[39;49m\u001B[43m_attn_implementation\u001B[49m\u001B[43m]\u001B[49m(\n\u001B[0;32m    210\u001B[0m     embed_dim\u001B[38;5;241m=\u001B[39m\u001B[38;5;28mself\u001B[39m\u001B[38;5;241m.\u001B[39membed_dim,\n\u001B[0;32m    211\u001B[0m     num_heads\u001B[38;5;241m=\u001B[39mconfig\u001B[38;5;241m.\u001B[39mdecoder_attention_heads,\n\u001B[0;32m    212\u001B[0m     num_kv_heads\u001B[38;5;241m=\u001B[39mconfig\u001B[38;5;241m.\u001B[39mkv_heads,\n\u001B[0;32m    213\u001B[0m     dropout\u001B[38;5;241m=\u001B[39mconfig\u001B[38;5;241m.\u001B[39mattention_dropout,\n\u001B[0;32m    214\u001B[0m     is_decoder\u001B[38;5;241m=\u001B[39m\u001B[38;5;28;01mTrue\u001B[39;00m,\n\u001B[0;32m    215\u001B[0m     is_causal\u001B[38;5;241m=\u001B[39m\u001B[38;5;28;01mTrue\u001B[39;00m,\n\u001B[0;32m    216\u001B[0m     config\u001B[38;5;241m=\u001B[39mconfig,\n\u001B[0;32m    217\u001B[0m )\n\u001B[0;32m    218\u001B[0m \u001B[38;5;28mself\u001B[39m\u001B[38;5;241m.\u001B[39mdropout \u001B[38;5;241m=\u001B[39m config\u001B[38;5;241m.\u001B[39mdropout\n\u001B[0;32m    219\u001B[0m \u001B[38;5;28mself\u001B[39m\u001B[38;5;241m.\u001B[39mactivation_fn \u001B[38;5;241m=\u001B[39m ACT2FN[config\u001B[38;5;241m.\u001B[39mactivation_function]\n",
      "\u001B[1;31mKeyError\u001B[0m: 'sdpa'"
     ]
    }
   ],
   "execution_count": 6
  },
  {
   "metadata": {
    "ExecuteTime": {
     "end_time": "2024-11-27T11:36:55.425605Z",
     "start_time": "2024-11-27T11:36:55.425605Z"
    }
   },
   "cell_type": "code",
   "source": "full_text",
   "id": "bb04669a92149f77",
   "outputs": [],
   "execution_count": null
  },
  {
   "metadata": {},
   "cell_type": "code",
   "outputs": [],
   "execution_count": null,
   "source": "\n",
   "id": "442d77c0bf72dd5f"
  }
 ],
 "metadata": {
  "kernelspec": {
   "display_name": "Python 3",
   "language": "python",
   "name": "python3"
  },
  "language_info": {
   "codemirror_mode": {
    "name": "ipython",
    "version": 2
   },
   "file_extension": ".py",
   "mimetype": "text/x-python",
   "name": "python",
   "nbconvert_exporter": "python",
   "pygments_lexer": "ipython2",
   "version": "2.7.6"
  }
 },
 "nbformat": 4,
 "nbformat_minor": 5
}
